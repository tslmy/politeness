{
 "cells": [
  {
   "cell_type": "markdown",
   "metadata": {
    "Collapsed": "false",
    "toc-hr-collapsed": false
   },
   "source": [
    "# Compare Politeness in China and in the US"
   ]
  },
  {
   "cell_type": "markdown",
   "metadata": {
    "Collapsed": "false"
   },
   "source": [
    "## Import Modules"
   ]
  },
  {
   "cell_type": "code",
   "execution_count": 1,
   "metadata": {
    "Collapsed": "false"
   },
   "outputs": [],
   "source": [
    "import pandas as pd\n",
    "from tqdm import tqdm\n",
    "%matplotlib inline\n",
    "from matplotlib import pyplot as plt\n",
    "plt.style.use('ggplot')\n",
    "import seaborn as sns\n",
    "from html import unescape\n",
    "from itertools import product\n",
    "\n",
    "import matplotlib as mpl\n",
    "font_cn = mpl.font_manager.FontProperties(fname='fonts/SourceHanSansSC-Normal.otf')\n",
    "font_cn.set_weight = 'normal'\n",
    "from scipy import stats # For in-built method to get PCC"
   ]
  },
  {
   "cell_type": "markdown",
   "metadata": {
    "Collapsed": "false"
   },
   "source": [
    "## Load Annotated Data"
   ]
  },
  {
   "cell_type": "code",
   "execution_count": 21,
   "metadata": {
    "Collapsed": "false"
   },
   "outputs": [
    {
     "name": "stderr",
     "output_type": "stream",
     "text": [
      "/home/myli/miniconda3/envs/main/lib/python3.7/site-packages/ipykernel_launcher.py:23: SettingWithCopyWarning: \n",
      "A value is trying to be set on a copy of a slice from a DataFrame\n",
      "\n",
      "See the caveats in the documentation: http://pandas.pydata.org/pandas-docs/stable/user_guide/indexing.html#returning-a-view-versus-a-copy\n"
     ]
    },
    {
     "data": {
      "image/png": "[encoded data removed]",
      "text/plain": [
       "<Figure size 504x216 with 2 Axes>"
      ]
     },
     "metadata": {},
     "output_type": "display_data"
    },
    {
     "data": {
      "text/html": [
       "<div>\n",
       "<style scoped>\n",
       "    .dataframe tbody tr th:only-of-type {\n",
       "        vertical-align: middle;\n",
       "    }\n",
       "\n",
       "    .dataframe tbody tr th {\n",
       "        vertical-align: top;\n",
       "    }\n",
       "\n",
       "    .dataframe thead th {\n",
       "        text-align: right;\n",
       "    }\n",
       "</style>\n",
       "<table border=\"1\" class=\"dataframe\">\n",
       "  <thead>\n",
       "    <tr style=\"text-align: right;\">\n",
       "      <th></th>\n",
       "      <th>Twitter</th>\n",
       "      <th>Weibo</th>\n",
       "    </tr>\n",
       "  </thead>\n",
       "  <tbody>\n",
       "    <tr>\n",
       "      <th>count</th>\n",
       "      <td>5300.000</td>\n",
       "      <td>5300.000</td>\n",
       "    </tr>\n",
       "    <tr>\n",
       "      <th>mean</th>\n",
       "      <td>0.153</td>\n",
       "      <td>-0.041</td>\n",
       "    </tr>\n",
       "    <tr>\n",
       "      <th>std</th>\n",
       "      <td>1.001</td>\n",
       "      <td>1.041</td>\n",
       "    </tr>\n",
       "    <tr>\n",
       "      <th>min</th>\n",
       "      <td>-3.000</td>\n",
       "      <td>-3.000</td>\n",
       "    </tr>\n",
       "    <tr>\n",
       "      <th>25%</th>\n",
       "      <td>-0.500</td>\n",
       "      <td>-0.500</td>\n",
       "    </tr>\n",
       "    <tr>\n",
       "      <th>50%</th>\n",
       "      <td>0.500</td>\n",
       "      <td>0.000</td>\n",
       "    </tr>\n",
       "    <tr>\n",
       "      <th>75%</th>\n",
       "      <td>0.500</td>\n",
       "      <td>0.500</td>\n",
       "    </tr>\n",
       "    <tr>\n",
       "      <th>max</th>\n",
       "      <td>3.000</td>\n",
       "      <td>3.000</td>\n",
       "    </tr>\n",
       "    <tr>\n",
       "      <th>median</th>\n",
       "      <td>0.500</td>\n",
       "      <td>0.000</td>\n",
       "    </tr>\n",
       "  </tbody>\n",
       "</table>\n",
       "</div>"
      ],
      "text/plain": [
       "         Twitter     Weibo\n",
       "count   5300.000  5300.000\n",
       "mean       0.153    -0.041\n",
       "std        1.001     1.041\n",
       "min       -3.000    -3.000\n",
       "25%       -0.500    -0.500\n",
       "50%        0.500     0.000\n",
       "75%        0.500     0.500\n",
       "max        3.000     3.000\n",
       "median     0.500     0.000"
      ]
     },
     "execution_count": 21,
     "metadata": {},
     "output_type": "execute_result"
    }
   ],
   "source": [
    "HDF_FPATH = 'data_200516.hdf' # Weibo = 3245+3000 -> 6226 ; Twitter = 3083+3000 -> 5375\n",
    "NUM_POSTS = 5300\n",
    "# Annotators to use in analysis.\n",
    "WEIBO_ANNOTATORS = list('ABCD')\n",
    "TWITR_ANNOTATORS = list('ABDE')\n",
    "\n",
    "FILE_SUFFIX = f'{NUM_POSTS}_Weibo{\"\".join(WEIBO_ANNOTATORS)}Twitr{\"\".join(TWITR_ANNOTATORS)}'\n",
    "\n",
    "standardize = lambda df: (df-df.mean())/df.std()\n",
    "\n",
    "# Tokens are only used in selecting representative posts.\n",
    "weibo_tokens = pd.read_hdf(HDF_FPATH, 'Weibo2014_3245+3000_token')\n",
    "twitr_tokens = pd.read_hdf(HDF_FPATH, 'TwtUs2014_3083+3000_token')\n",
    "\n",
    "def loadAnnots(csv_path: str, annotators: list, index_cols: str) -> pd.DataFrame:\n",
    "    # Load data. This part is identical to \"Performance\" Notebook.\n",
    "    raw_df = pd.read_csv(csv_path).set_index(index_cols)\n",
    "\n",
    "    # Take only the raw annotated scores from the annotators we want.\n",
    "    rawAnnots_df = raw_df[annotators]\n",
    "    # Make sure that these are the posts that the desired annotators have annotated.\n",
    "    # This is a stronger requirement than keeping the most politeness-explicit posts.\n",
    "    rawAnnots_df.dropna(inplace=True, how='all')\n",
    "\n",
    "    # Keep only most politeness-explicit posts.\n",
    "    idx_explicit = standardize(rawAnnots_df).T.mean().abs().sort_values().tail(NUM_POSTS).index\n",
    "    rawAnnots_df = rawAnnots_df.loc[idx_explicit]\n",
    "\n",
    "    # Since we capped the number of posts, we need to re-evaluate the standardizations.\n",
    "    stdzdAnnots_df = standardize(rawAnnots_df)\n",
    "    stdzdAnnots_df.columns = stdzdAnnots_df.columns + '_stdzd'\n",
    "    stdzdAnnots_df['stdzd_avg'] = stdzdAnnots_df.T.mean()\n",
    "\n",
    "    # Combine and return.\n",
    "    concat_df = pd.concat([rawAnnots_df, stdzdAnnots_df, raw_df.loc[rawAnnots_df.index, ['text']]], axis=1)\n",
    "    return concat_df\n",
    "\n",
    "weibo_df = loadAnnots('AnnotateWeibo/Weibo2014_3245+3000.csv', WEIBO_ANNOTATORS, ['sid', 'RT_level'])\n",
    "twitr_df = loadAnnots('AnnotateTwitr/Twitr2014_3083+3000.csv', TWITR_ANNOTATORS, ['sid'])\n",
    "\n",
    "# ------------------------------------------------- Visualize -----------------------------------------------------\n",
    "fig, (ax11, ax12) = plt.subplots(1,2, figsize=(7,3))\n",
    "weibo_df['stdzd_avg'].plot.hist(bins=12, ax=ax11, title='Average Score in Weibo')#, ylim=(0,2250))\n",
    "twitr_df['stdzd_avg'].plot.hist(bins=12, ax=ax12, title='Average Score in Twitter')#, ylim=(0,2250))\n",
    "ax12.set_ylabel('')\n",
    "plt.savefig(f'annotated_scores_hists_{FILE_SUFFIX}.png')\n",
    "plt.show()\n",
    "\n",
    "# Descriptive stats of anntations.\n",
    "weibo_stdzdAnnots_df = weibo_df[list(i+'_stdzd' for i in WEIBO_ANNOTATORS)]\n",
    "weibo_rawAnnots_df = weibo_df[WEIBO_ANNOTATORS]\n",
    "weibo_stats = weibo_rawAnnots_df.mean(axis=1).describe()\n",
    "weibo_stats['median'] = weibo_rawAnnots_df.mean(axis=1).median()\n",
    "\n",
    "twitr_stdzdAnnots_df = twitr_df[list(i+'_stdzd' for i in TWITR_ANNOTATORS)]\n",
    "twitr_rawAnnots_df = twitr_df[TWITR_ANNOTATORS]\n",
    "twitr_stats = twitr_rawAnnots_df.mean(axis=1).describe()\n",
    "twitr_stats['median'] = twitr_rawAnnots_df.mean(axis=1).median()\n",
    "\n",
    "annots_dist_desc_df = pd.DataFrame({\n",
    "    'Twitter': twitr_stats,\n",
    "    'Weibo': weibo_stats,\n",
    "})\n",
    "annots_dist_desc_df.to_csv(f'descriptive_stats_of_anntations_{FILE_SUFFIX}.csv')\n",
    "annots_dist_desc_df.round(3)"
   ]
  },
  {
   "cell_type": "code",
   "execution_count": 39,
   "metadata": {
    "Collapsed": "false"
   },
   "outputs": [
    {
     "data": {
      "text/plain": [
       "A_stdzd    2985\n",
       "B_stdzd    2985\n",
       "D_stdzd    2315\n",
       "E_stdzd    2315\n",
       "dtype: int64"
      ]
     },
     "execution_count": 39,
     "metadata": {},
     "output_type": "execute_result"
    }
   ],
   "source": [
    "twitr_stdzdAnnots_df.notna().sum()"
   ]
  },
  {
   "cell_type": "markdown",
   "metadata": {
    "Collapsed": "false"
   },
   "source": [
    "## ICC and IRR"
   ]
  },
  {
   "cell_type": "code",
   "execution_count": 40,
   "metadata": {
    "Collapsed": "false"
   },
   "outputs": [
    {
     "data": {
      "text/html": [
       "<div>\n",
       "<style scoped>\n",
       "    .dataframe tbody tr th:only-of-type {\n",
       "        vertical-align: middle;\n",
       "    }\n",
       "\n",
       "    .dataframe tbody tr th {\n",
       "        vertical-align: top;\n",
       "    }\n",
       "\n",
       "    .dataframe thead th {\n",
       "        text-align: right;\n",
       "    }\n",
       "</style>\n",
       "<table border=\"1\" class=\"dataframe\">\n",
       "  <thead>\n",
       "    <tr style=\"text-align: right;\">\n",
       "      <th></th>\n",
       "      <th>Weibo</th>\n",
       "      <th>Twitter</th>\n",
       "    </tr>\n",
       "  </thead>\n",
       "  <tbody>\n",
       "    <tr>\n",
       "      <th>ordinal</th>\n",
       "      <td>0.636459</td>\n",
       "      <td>0.389589</td>\n",
       "    </tr>\n",
       "    <tr>\n",
       "      <th>interval</th>\n",
       "      <td>0.660796</td>\n",
       "      <td>0.527956</td>\n",
       "    </tr>\n",
       "  </tbody>\n",
       "</table>\n",
       "</div>"
      ],
      "text/plain": [
       "             Weibo   Twitter\n",
       "ordinal   0.636459  0.389589\n",
       "interval  0.660796  0.527956"
      ]
     },
     "execution_count": 40,
     "metadata": {},
     "output_type": "execute_result"
    }
   ],
   "source": [
    "# Compute inter-annotator agreement/inter-rater reliability:\n",
    "import krippendorff\n",
    "irr_df = pd.DataFrame.from_dict({\n",
    "    'Weibo': {\n",
    "        'ordinal': krippendorff.alpha(weibo_rawAnnots_df.T, level_of_measurement='ordinal'),\n",
    "        'interval': krippendorff.alpha(weibo_stdzdAnnots_df.T, level_of_measurement='interval'),\n",
    "    },\n",
    "    'Twitter': {\n",
    "        'ordinal': krippendorff.alpha(twitr_rawAnnots_df.T, level_of_measurement='ordinal'),\n",
    "        'interval': krippendorff.alpha(twitr_stdzdAnnots_df.T, level_of_measurement='interval'),\n",
    "    },\n",
    "})\n",
    "irr_df"
   ]
  },
  {
   "cell_type": "markdown",
   "metadata": {
    "Collapsed": "false"
   },
   "source": [
    "### ICC"
   ]
  },
  {
   "cell_type": "code",
   "execution_count": 41,
   "metadata": {
    "Collapsed": "false"
   },
   "outputs": [],
   "source": [
    "#!conda install -y pingouin\n",
    "import pingouin as pg\n",
    "\n",
    "def getICC(stdzdAnnots_df: pd.DataFrame)->pd.DataFrame:\n",
    "    # This is to remove the confounds from multi-level index.\n",
    "    stdzdAnnots_df = stdzdAnnots_df.reset_index(drop=True)\n",
    "\n",
    "    scores_long_df = stdzdAnnots_df.stack().reset_index()\n",
    "    scores_long_df.columns = ['post', 'annotator', 'score']\n",
    "    icc_df = pg.intraclass_corr(data=scores_long_df, targets='post', raters='annotator', ratings='score')\n",
    "    return icc_df"
   ]
  },
  {
   "cell_type": "code",
   "execution_count": 47,
   "metadata": {
    "Collapsed": "false"
   },
   "outputs": [
    {
     "name": "stdout",
     "output_type": "stream",
     "text": [
      "    Type              Description    ICC      F   df1   df2  pval  \\\n",
      "0   ICC1   Single raters absolute  0.633  4.453  3244  3245   0.0   \n",
      "1   ICC2     Single random raters  0.633  4.450  3244  3244   0.0   \n",
      "2   ICC3      Single fixed raters  0.633  4.450  3244  3244   0.0   \n",
      "3  ICC1k  Average raters absolute  0.775  4.453  3244  3245   0.0   \n",
      "4  ICC2k    Average random raters  0.775  4.450  3244  3244   0.0   \n",
      "5  ICC3k     Average fixed raters  0.775  4.450  3244  3244   0.0   \n",
      "\n",
      "          CI95%  \n",
      "0  [0.61, 0.65]  \n",
      "1  [0.61, 0.65]  \n",
      "2  [0.61, 0.65]  \n",
      "3  [0.76, 0.79]  \n",
      "4  [0.76, 0.79]  \n",
      "5  [0.76, 0.79]  \n",
      "    Type              Description    ICC      F   df1   df2           pval  \\\n",
      "0   ICC1   Single raters absolute  0.704  5.767  2054  2055  1.377330e-308   \n",
      "1   ICC2     Single random raters  0.704  5.757  2054  2054  6.801838e-308   \n",
      "2   ICC3      Single fixed raters  0.704  5.757  2054  2054  6.801838e-308   \n",
      "3  ICC1k  Average raters absolute  0.827  5.767  2054  2055  1.377330e-308   \n",
      "4  ICC2k    Average random raters  0.826  5.757  2054  2054  6.801838e-308   \n",
      "5  ICC3k     Average fixed raters  0.826  5.757  2054  2054  6.801838e-308   \n",
      "\n",
      "          CI95%  \n",
      "0  [0.68, 0.73]  \n",
      "1  [0.68, 0.73]  \n",
      "2  [0.68, 0.73]  \n",
      "3  [0.81, 0.84]  \n",
      "4  [0.81, 0.84]  \n",
      "5  [0.81, 0.84]  \n",
      "    Type              Description    ICC      F   df1   df2           pval  \\\n",
      "0   ICC1   Single raters absolute  0.501  3.011  2984  2985  3.258598e-190   \n",
      "1   ICC2     Single random raters  0.501  3.008  2984  2984  7.748373e-190   \n",
      "2   ICC3      Single fixed raters  0.501  3.008  2984  2984  7.748373e-190   \n",
      "3  ICC1k  Average raters absolute  0.668  3.011  2984  2985  3.258598e-190   \n",
      "4  ICC2k    Average random raters  0.668  3.008  2984  2984  7.748373e-190   \n",
      "5  ICC3k     Average fixed raters  0.668  3.008  2984  2984  7.748373e-190   \n",
      "\n",
      "          CI95%  \n",
      "0  [0.47, 0.53]  \n",
      "1  [0.47, 0.53]  \n",
      "2  [0.47, 0.53]  \n",
      "3  [0.64, 0.69]  \n",
      "4  [0.64, 0.69]  \n",
      "5  [0.64, 0.69]  \n",
      "    Type              Description    ICC      F   df1   df2           pval  \\\n",
      "0   ICC1   Single raters absolute  0.562  3.569  2314  2315  1.422324e-193   \n",
      "1   ICC2     Single random raters  0.562  3.566  2314  2314  2.773556e-193   \n",
      "2   ICC3      Single fixed raters  0.562  3.566  2314  2314  2.773556e-193   \n",
      "3  ICC1k  Average raters absolute  0.720  3.569  2314  2315  1.422324e-193   \n",
      "4  ICC2k    Average random raters  0.720  3.566  2314  2314  2.773556e-193   \n",
      "5  ICC3k     Average fixed raters  0.720  3.566  2314  2314  2.773556e-193   \n",
      "\n",
      "          CI95%  \n",
      "0  [0.53, 0.59]  \n",
      "1  [0.53, 0.59]  \n",
      "2  [0.53, 0.59]  \n",
      "3   [0.7, 0.74]  \n",
      "4   [0.7, 0.74]  \n",
      "5   [0.7, 0.74]  \n"
     ]
    }
   ],
   "source": [
    "print(getICC(weibo_stdzdAnnots_df[['A_stdzd', 'B_stdzd']].dropna()))\n",
    "print(getICC(weibo_stdzdAnnots_df[['C_stdzd', 'D_stdzd']].dropna()))\n",
    "print(getICC(twitr_stdzdAnnots_df[['A_stdzd', 'B_stdzd']].dropna()))\n",
    "print(getICC(twitr_stdzdAnnots_df[['D_stdzd', 'E_stdzd']].dropna()))"
   ]
  },
  {
   "cell_type": "code",
   "execution_count": 48,
   "metadata": {
    "Collapsed": "false"
   },
   "outputs": [
    {
     "name": "stdout",
     "output_type": "stream",
     "text": [
      "3245\n",
      "2055\n",
      "2985\n",
      "2315\n"
     ]
    }
   ],
   "source": [
    "print(len(weibo_stdzdAnnots_df[['A_stdzd', 'B_stdzd']].dropna()))\n",
    "print(len(weibo_stdzdAnnots_df[['C_stdzd', 'D_stdzd']].dropna()))\n",
    "print(len(twitr_stdzdAnnots_df[['A_stdzd', 'B_stdzd']].dropna()))\n",
    "print(len(twitr_stdzdAnnots_df[['D_stdzd', 'E_stdzd']].dropna()))"
   ]
  },
  {
   "cell_type": "markdown",
   "metadata": {
    "Collapsed": "false"
   },
   "source": [
    "## Correlation Analysis"
   ]
  },
  {
   "cell_type": "code",
   "execution_count": 3,
   "metadata": {
    "Collapsed": "false"
   },
   "outputs": [
    {
     "name": "stdout",
     "output_type": "stream",
     "text": [
      "LIWC:\n",
      "   - Common Features: Achieve, Adverb, Affect, Affiliation, Anger, Anx, Assent, Auxverb, Bio, Body, Cause, Certain, Cogproc, Compare, Conj, Death, Differ, Discrep, Drives, Family, Feel, Female, Filler, Focusfuture, Focuspast, Focuspresent, Friend, Function, Health, Hear, Home, I, Informal, Ingest, Insight, Interrog, Ipron, Leisure, Male, Money, Motion, Negate, Negemo, Netspeak, Nonflu, Number, Percept, Posemo, Power, Ppron, Prep, Pronoun, Quant, Relativ, Relig, Reward, Risk, Sad, See, Sexual, Shehe, Social, Space, Swear, Tentat, They, Time, We, Work, You\n",
      "   - Features to keep: Achieve, Adverb, Affiliation, Anger, Anx, Assent, Auxverb, Bio, Body, Cause, Cogproc, Compare, Conj, Death, Differ, Drives, Family, Feel, Female, Filler, Focusfuture, Focuspast, Focuspresent, Friend, Function, Health, Hear, I, Informal, Ingest, Insight, Interrog, Ipron, Leisure, Male, Money, Motion, Negate, Negemo, Netspeak, Nonflu, Number, Percept, Posemo, Power, Ppron, Prep, Pronoun, Quant, Relativ, Reward, Risk, See, Sexual, Shehe, Social, Space, Swear, Tentat, They, Time, We, You\n",
      "EmoLex:\n",
      "   - Common Features: Anger, Anticipation, Disgust, Fear, Joy, Sadness, Surprise, Trust\n",
      "   - Features to keep: Anger, Anticipation, Disgust, Fear, Joy, Sadness, Surprise, Trust\n",
      "PoliteLex:\n",
      "   - Common Features: apologetic, best_wishes, can_you, could_you, emergency, factuality, first_person_plural, first_person_singular, gratitude, greeting, hedge, honorifics, indirect_btw, ingroup_ident, please, praise, promise, start_i, start_please, start_question, start_so, start_you, taboo, together, you_direct, you_honorific\n",
      "   - Features to keep: apologetic, best_wishes, can_you, emergency, first_person_plural, first_person_singular, gratitude, greeting, honorifics, ingroup_ident, please, praise, promise, start_i, start_please, start_question, start_you, taboo, you_direct, you_honorific\n"
     ]
    },
    {
     "name": "stderr",
     "output_type": "stream",
     "text": [
      "/home/myli/miniconda3/envs/main/lib/python3.7/site-packages/scipy/stats/stats.py:3508: PearsonRConstantInputWarning: An input array is constant; the correlation coefficent is not defined.\n",
      "  warnings.warn(PearsonRConstantInputWarning())\n"
     ]
    }
   ],
   "source": [
    "# Load feature sets from dump file:\n",
    "twitr_liwc_cnts_df   = pd.read_hdf(HDF_FPATH, f'TwtUs2014_3083+3000_liwc_cnts_df').reindex(twitr_df.index)\n",
    "weibo_liwc_cnts_df   = pd.read_hdf(HDF_FPATH, f'Weibo2014_3245+3000_liwc_cnts_df').reindex(weibo_df.index)\n",
    "twitr_emolex_cnts_df = pd.read_hdf(HDF_FPATH, f'TwtUs2014_3083+3000_nrc_cnts_df').reindex(twitr_df.index)\n",
    "weibo_emolex_cnts_df = pd.read_hdf(HDF_FPATH, f'Weibo2014_3245+3000_nrc_cnts_df').reindex(weibo_df.index)\n",
    "twitr_polite_cnts_df = pd.read_hdf(HDF_FPATH, f'TwtUs2014_3083+3000_polite_cnts_df').reindex(twitr_df.index)\n",
    "weibo_polite_cnts_df = pd.read_hdf(HDF_FPATH, f'Weibo2014_3245+3000_polite_cnts_df').reindex(weibo_df.index)\n",
    "## Let's rename columns to distinguish them:\n",
    "#twitr_emolex_cnts_df.columns += '*'\n",
    "#weibo_emolex_cnts_df.columns += '*' \n",
    "#twitr_polite_cnts_df.columns += '+'\n",
    "#weibo_polite_cnts_df.columns += '+' \n",
    "## Combine them three horizontally:\n",
    "#twitr_cnts_df = pd.concat([twitr_liwc_cnts_df, twitr_emolex_cnts_df, twitr_polite_cnts_df], axis=1).loc[twitr_df.index]\n",
    "#weibo_cnts_df = pd.concat([weibo_liwc_cnts_df, weibo_emolex_cnts_df, weibo_polite_cnts_df], axis=1).loc[weibo_df.index]\n",
    "twitr_scores = twitr_df['stdzd_avg']\n",
    "weibo_scores = weibo_df['stdzd_avg']\n",
    "\n",
    "def computePCCsForFeatureSet(twitr_cnts_df, weibo_cnts_df):\n",
    "    '''Returns a DataFrame with the following Columns: corpus, feature, pearson_coef, p_value, if_significant'''\n",
    "    # Reindex scores with the index of the cnts_df provided, to ensure correct correspondence.\n",
    "    weibo_reindexed_scores = weibo_scores.reindex(weibo_cnts_df.index)\n",
    "    twitr_reindexed_scores = twitr_scores.reindex(twitr_cnts_df.index)\n",
    "\n",
    "    common_categories = list(set(twitr_cnts_df.columns).intersection(weibo_cnts_df.columns))\n",
    "    print(f'   - Common Features: {\", \".join(sorted(common_categories))}')\n",
    "\n",
    "    correlations = {ctgy: {\n",
    "            'Weibo'  : stats.pearsonr(weibo_cnts_df[ctgy], weibo_reindexed_scores),\n",
    "            'Twitter': stats.pearsonr(twitr_cnts_df[ctgy], twitr_reindexed_scores)}\n",
    "        for ctgy in common_categories}\n",
    "    corr_df = pd.DataFrame.from_dict(correlations).stack().apply(pd.Series).reset_index()\n",
    "\n",
    "    corr_df.columns = ['corpus', 'feature', 'pearson_coef', 'p_value']\n",
    "    corr_df['if_significant'] = corr_df['p_value']<0.01\n",
    "    features_to_keep = corr_df.groupby('feature')['if_significant'].any()\n",
    "    features_to_keep = features_to_keep[features_to_keep].index\n",
    "\n",
    "    print(f'   - Features to keep: {\", \".join(features_to_keep)}')\n",
    "    corr_df = corr_df[corr_df['feature'].isin(features_to_keep)]\n",
    "    return corr_df\n",
    "\n",
    "print('LIWC:')\n",
    "corr_liwc_df   = computePCCsForFeatureSet(twitr_liwc_cnts_df, weibo_liwc_cnts_df)\n",
    "print('EmoLex:')\n",
    "corr_emolex_df = computePCCsForFeatureSet(twitr_emolex_cnts_df, weibo_emolex_cnts_df)\n",
    "print('PoliteLex:')\n",
    "corr_polite_df = computePCCsForFeatureSet(twitr_polite_cnts_df, weibo_polite_cnts_df)"
   ]
  },
  {
   "cell_type": "markdown",
   "metadata": {
    "Collapsed": "false"
   },
   "source": [
    "## Demonstrate results"
   ]
  },
  {
   "cell_type": "markdown",
   "metadata": {
    "Collapsed": "false"
   },
   "source": [
    "### Textually"
   ]
  },
  {
   "cell_type": "code",
   "execution_count": 4,
   "metadata": {
    "Collapsed": "false"
   },
   "outputs": [],
   "source": [
    "concat_df = pd.concat([\n",
    "    corr_liwc_df.assign(lex='LIWC'),\n",
    "    corr_emolex_df.assign(lex='EmoLex'),\n",
    "    corr_polite_df.assign(lex='PoliteLex'),\n",
    "])"
   ]
  },
  {
   "cell_type": "code",
   "execution_count": 5,
   "metadata": {
    "Collapsed": "false"
   },
   "outputs": [],
   "source": [
    "concat_significantOnly_df = concat_df[concat_df['if_significant']].drop('if_significant', axis=1)"
   ]
  },
  {
   "cell_type": "code",
   "execution_count": 6,
   "metadata": {
    "Collapsed": "false"
   },
   "outputs": [
    {
     "data": {
      "text/html": [
       "<div>\n",
       "<style scoped>\n",
       "    .dataframe tbody tr th:only-of-type {\n",
       "        vertical-align: middle;\n",
       "    }\n",
       "\n",
       "    .dataframe tbody tr th {\n",
       "        vertical-align: top;\n",
       "    }\n",
       "\n",
       "    .dataframe thead th {\n",
       "        text-align: right;\n",
       "    }\n",
       "</style>\n",
       "<table border=\"1\" class=\"dataframe\">\n",
       "  <thead>\n",
       "    <tr style=\"text-align: right;\">\n",
       "      <th></th>\n",
       "      <th>corpus</th>\n",
       "      <th>Twitter</th>\n",
       "      <th>Weibo</th>\n",
       "    </tr>\n",
       "    <tr>\n",
       "      <th>lex</th>\n",
       "      <th>feature</th>\n",
       "      <th></th>\n",
       "      <th></th>\n",
       "    </tr>\n",
       "  </thead>\n",
       "  <tbody>\n",
       "    <tr>\n",
       "      <th rowspan=\"5\" valign=\"top\">EmoLex</th>\n",
       "      <th>Anger</th>\n",
       "      <td>-0.195574</td>\n",
       "      <td>-0.155128</td>\n",
       "    </tr>\n",
       "    <tr>\n",
       "      <th>Anticipation</th>\n",
       "      <td>0.084421</td>\n",
       "      <td>NaN</td>\n",
       "    </tr>\n",
       "    <tr>\n",
       "      <th>Disgust</th>\n",
       "      <td>-0.224334</td>\n",
       "      <td>-0.225727</td>\n",
       "    </tr>\n",
       "    <tr>\n",
       "      <th>Fear</th>\n",
       "      <td>-0.114182</td>\n",
       "      <td>-0.157417</td>\n",
       "    </tr>\n",
       "    <tr>\n",
       "      <th>Joy</th>\n",
       "      <td>0.165033</td>\n",
       "      <td>0.138843</td>\n",
       "    </tr>\n",
       "  </tbody>\n",
       "</table>\n",
       "</div>"
      ],
      "text/plain": [
       "corpus                Twitter     Weibo\n",
       "lex    feature                         \n",
       "EmoLex Anger        -0.195574 -0.155128\n",
       "       Anticipation  0.084421       NaN\n",
       "       Disgust      -0.224334 -0.225727\n",
       "       Fear         -0.114182 -0.157417\n",
       "       Joy           0.165033  0.138843"
      ]
     },
     "execution_count": 6,
     "metadata": {},
     "output_type": "execute_result"
    }
   ],
   "source": [
    "concat_significantOnly_wide_df = concat_significantOnly_df.set_index(['lex', 'feature', 'corpus'])['pearson_coef'].unstack(-1)\n",
    "concat_significantOnly_wide_df.head()"
   ]
  },
  {
   "cell_type": "code",
   "execution_count": 7,
   "metadata": {
    "Collapsed": "false"
   },
   "outputs": [
    {
     "data": {
      "text/html": [
       "<div>\n",
       "<style scoped>\n",
       "    .dataframe tbody tr th:only-of-type {\n",
       "        vertical-align: middle;\n",
       "    }\n",
       "\n",
       "    .dataframe tbody tr th {\n",
       "        vertical-align: top;\n",
       "    }\n",
       "\n",
       "    .dataframe thead th {\n",
       "        text-align: right;\n",
       "    }\n",
       "</style>\n",
       "<table border=\"1\" class=\"dataframe\">\n",
       "  <thead>\n",
       "    <tr style=\"text-align: right;\">\n",
       "      <th></th>\n",
       "      <th>corpus</th>\n",
       "      <th>Twitter</th>\n",
       "      <th>Weibo</th>\n",
       "    </tr>\n",
       "    <tr>\n",
       "      <th>lex</th>\n",
       "      <th>feature</th>\n",
       "      <th></th>\n",
       "      <th></th>\n",
       "    </tr>\n",
       "  </thead>\n",
       "  <tbody>\n",
       "    <tr>\n",
       "      <th>PoliteLex</th>\n",
       "      <th>you_direct</th>\n",
       "      <td>NaN</td>\n",
       "      <td>-0.387303</td>\n",
       "    </tr>\n",
       "    <tr>\n",
       "      <th>LIWC</th>\n",
       "      <th>You</th>\n",
       "      <td>NaN</td>\n",
       "      <td>-0.356683</td>\n",
       "    </tr>\n",
       "    <tr>\n",
       "      <th>PoliteLex</th>\n",
       "      <th>gratitude</th>\n",
       "      <td>0.144762</td>\n",
       "      <td>0.439171</td>\n",
       "    </tr>\n",
       "    <tr>\n",
       "      <th rowspan=\"2\" valign=\"top\">LIWC</th>\n",
       "      <th>Pronoun</th>\n",
       "      <td>-0.053880</td>\n",
       "      <td>-0.313216</td>\n",
       "    </tr>\n",
       "    <tr>\n",
       "      <th>Social</th>\n",
       "      <td>NaN</td>\n",
       "      <td>-0.253933</td>\n",
       "    </tr>\n",
       "  </tbody>\n",
       "</table>\n",
       "</div>"
      ],
      "text/plain": [
       "corpus                 Twitter     Weibo\n",
       "lex       feature                       \n",
       "PoliteLex you_direct       NaN -0.387303\n",
       "LIWC      You              NaN -0.356683\n",
       "PoliteLex gratitude   0.144762  0.439171\n",
       "LIWC      Pronoun    -0.053880 -0.313216\n",
       "          Social           NaN -0.253933"
      ]
     },
     "execution_count": 7,
     "metadata": {},
     "output_type": "execute_result"
    }
   ],
   "source": [
    "## You can order by the average corr coeff across corpora.\n",
    "#order = concat_significantOnly_wide_df.T.mean().sort_values(ascending=False).index\n",
    "# Or you can order by the difference between the coeff across corpora.\n",
    "order = (\n",
    "    concat_significantOnly_wide_df['Twitter'].fillna(0)-\n",
    "    concat_significantOnly_wide_df['Weibo'].fillna(0)).abs().sort_values(ascending=False).index\n",
    "concat_significantOnly_wide_df = concat_significantOnly_wide_df.loc[order]\n",
    "concat_significantOnly_wide_df.head()"
   ]
  },
  {
   "cell_type": "code",
   "execution_count": 8,
   "metadata": {
    "Collapsed": "false"
   },
   "outputs": [],
   "source": [
    "concat_significantOnly_wide_df.to_csv(f'concat_significantOnly_wide_df_{FILE_SUFFIX}.csv')"
   ]
  },
  {
   "cell_type": "markdown",
   "metadata": {
    "Collapsed": "false"
   },
   "source": [
    "Want to:\n",
    "\n",
    "1. For each post x each category, calculate ratio of tokens belonging to the category / total num of tokens in this post.\n",
    "  1. Need total num of tokens belonging to each token (concat counts across all 3 lexica).\n",
    "  2. Need total num of tokens (need load the csv file).\n",
    "2. For each category, get the post with the max ratio on this category. call this `representative_posts_df`.\n",
    "3. Sort categories by desc order of abs diff between the corr across the corpora."
   ]
  },
  {
   "cell_type": "code",
   "execution_count": 9,
   "metadata": {
    "Collapsed": "false"
   },
   "outputs": [],
   "source": [
    "# Need to distinguish categories across lexica, otherwise we will have duplicate column names.\n",
    "prependToColNames = lambda df, prefix: df.rename(dict(zip(df.columns, prefix+df.columns)), axis=1)\n",
    "# Alternatively:\n",
    "def prependNewLevelToCol(df, prefix):\n",
    "    df = df.copy()\n",
    "    df.columns = pd.MultiIndex.from_product([[prefix], df.columns])\n",
    "    return df\n",
    "\n",
    "twitr_cnts_df = pd.concat([\n",
    "    prependNewLevelToCol(twitr_liwc_cnts_df, 'LIWC'),\n",
    "    prependNewLevelToCol(twitr_emolex_cnts_df, 'EmoLex'),\n",
    "    prependNewLevelToCol(twitr_polite_cnts_df, 'PoliteLex'),\n",
    "],axis=1)\n",
    "\n",
    "weibo_cnts_df = pd.concat([\n",
    "    prependNewLevelToCol(weibo_liwc_cnts_df, 'LIWC'),\n",
    "    prependNewLevelToCol(weibo_emolex_cnts_df, 'EmoLex'),\n",
    "    prependNewLevelToCol(weibo_polite_cnts_df, 'PoliteLex'),\n",
    "],axis=1)\n",
    "\n",
    "twitr_token_cnts = twitr_tokens.apply(len)\n",
    "weibo_token_cnts = weibo_tokens.apply(len)\n",
    "\n",
    "# We divide by the length of the post **twice**, so as to prefer short posts.\n",
    "twitr_ratios_df = twitr_cnts_df.div(twitr_token_cnts**2, axis=0)\n",
    "weibo_ratios_df = weibo_cnts_df.div(weibo_token_cnts**2, axis=0)\n",
    "\n",
    "# Get representative posts for each corpus.\n",
    "twitr_representativePost_ids = twitr_ratios_df.idxmax()\n",
    "weibo_representativePost_ids = weibo_ratios_df.idxmax()\n",
    "\n",
    "twitr_representativePost_texts = twitr_representativePost_ids.map(twitr_df['text']).rename('Twitter')\n",
    "weibo_representativePost_texts = weibo_representativePost_ids.map(weibo_df['text']).rename('Weibo')\n",
    "\n",
    "representativePost_texts_df = pd.concat([weibo_representativePost_texts, twitr_representativePost_texts], axis=1)\n",
    "representativePost_texts_df = representativePost_texts_df.reindex(order)\n",
    "representativePost_texts_df.to_csv(f'representativePost_texts_df_{FILE_SUFFIX}.csv')"
   ]
  },
  {
   "cell_type": "code",
   "execution_count": 10,
   "metadata": {
    "Collapsed": "false"
   },
   "outputs": [],
   "source": [
    "representativePost_corr_df = pd.concat([\n",
    "    prependNewLevelToCol(representativePost_texts_df, 'text'), \n",
    "    prependNewLevelToCol(concat_significantOnly_wide_df, 'corr')\n",
    "], axis=1)\n",
    "representativePost_corr_df.to_csv(f'representativePost_corr_df_{FILE_SUFFIX}.csv')"
   ]
  },
  {
   "cell_type": "markdown",
   "metadata": {
    "Collapsed": "false"
   },
   "source": [
    "### Plotting"
   ]
  },
  {
   "cell_type": "code",
   "execution_count": 11,
   "metadata": {
    "Collapsed": "false"
   },
   "outputs": [
    {
     "data": {
      "text/plain": [
       "<matplotlib.axes._subplots.AxesSubplot at 0x7f123c6316d0>"
      ]
     },
     "execution_count": 11,
     "metadata": {},
     "output_type": "execute_result"
    },
    {
     "data": {
      "image/png": "[encoded data removed]",
      "text/plain": [
       "<Figure size 432x129.6 with 1 Axes>"
      ]
     },
     "metadata": {},
     "output_type": "display_data"
    },
    {
     "data": {
      "image/png": "[encoded data removed]",
      "text/plain": [
       "<Figure size 432x288 with 1 Axes>"
      ]
     },
     "metadata": {},
     "output_type": "display_data"
    }
   ],
   "source": [
    "from itertools import product\n",
    "\n",
    "def plotPCCs(corr_df, figsize=(6, 16), insig='hide', filename=None):\n",
    "    order = corr_df.groupby('feature')['pearson_coef'].mean().sort_values(ascending=False).index\n",
    "    fig, ax = plt.subplots(1,1, figsize=figsize)\n",
    "    ax = sns.barplot(x='pearson_coef', y='feature', order=order, data=corr_df, hue='corpus', ax=ax, hue_order=['Weibo', 'Twitter'])\n",
    "    plt.ylabel('')\n",
    "    plt.xlabel('')\n",
    "    plt.legend(loc='best')\n",
    "    corpus_legend = ax.legend()\n",
    "    corpus_legend.set_title('Corpus')\n",
    "    y_axis_labels = [i.get_text() for i in ax.get_yticklabels()]\n",
    "    legend_labels = ax.get_legend_handles_labels()[1]\n",
    "    \n",
    "    for i, (patch, (corpus, feature)) in enumerate(zip(ax.patches, product(legend_labels, y_axis_labels))):\n",
    "        if_this_is_significant = corr_df.loc[(corr_df['feature']==feature) & (corr_df['corpus']==corpus), 'if_significant'].iloc[0]\n",
    "        if if_this_is_significant==False:\n",
    "            if insig=='hide': patch.remove()\n",
    "            elif insig=='shade':\n",
    "                patch.set_hatch('/////')\n",
    "                plt.text(patch.get_x()+patch.get_width(), patch.get_y(), f'{i} {feature} {corpus}')\n",
    "            else: raise ValueError('Unexpected argument.')\n",
    "\n",
    "    # Add legend for statistical significance.\n",
    "    if insig=='shade':\n",
    "        from matplotlib.patches import Patch\n",
    "        legend_elements = [ Patch(facecolor='white', edgecolor='black', label='Significant'), Patch(facecolor='white', edgecolor='black', hatch='/////', label='Insignificant')]\n",
    "        significance_legend = ax.legend(handles=legend_elements, loc='lower right', title='Statistical Significance')\n",
    "        ax.add_artist(corpus_legend)\n",
    "\n",
    "    ax.grid(True)\n",
    "    plt.tight_layout()\n",
    "    if filename!=None:\n",
    "        fig.savefig(filename)\n",
    "    return ax\n",
    "\n",
    "plotPCCs(corr_emolex_df, figsize=(6,1.8), filename=f'pcc-emolex_{FILE_SUFFIX}.png')\n",
    "plotPCCs(corr_polite_df, figsize=(6,4), filename=f'pcc-politelex_{FILE_SUFFIX}.png')"
   ]
  },
  {
   "cell_type": "code",
   "execution_count": 12,
   "metadata": {
    "Collapsed": "false"
   },
   "outputs": [],
   "source": [
    "rename_yticks = {\n",
    "'Function': 'Function',\n",
    "'Pronoun': '\tPronoun',\n",
    "'Ppron': '\t\tPpron',\n",
    "'I': '\t\t\tI',\n",
    "'We': '\t\t\tWe',\n",
    "'You': '\t\t\tYou',\n",
    "'Shehe': '\t\t\tShehe',\n",
    "'They': '\t\t\tThey',\n",
    "'Youpl': '\t\t\tYoupl',\n",
    "'Ipron': '\t\tIpron',\n",
    "'Prep': '\tPrep',\n",
    "'Auxverb': '\tAuxverb',\n",
    "'Adverb': '\tAdverb',\n",
    "'Conj': '\tConj',\n",
    "'Negate': '\tNegate',\n",
    "'Quanunit': '\tQuanunit',\n",
    "'Prepend': '\tPrepend',\n",
    "'Specart': '\tSpecart',\n",
    "'Tensem': '\tTensem',\n",
    "'Focuspast': '\t\tFocuspast',\n",
    "'Focuspresent': '\t\tFocuspresent',\n",
    "'Focusfuture': '\t\tFocusfuture',\n",
    "'Progm': '\t\tProgm',\n",
    "'Particle': '\tParticle',\n",
    "'Modal_pa': '\t\tModal_pa',\n",
    "'General_pa': '\t\tGeneral_pa',\n",
    "'Othergram': 'Othergram',\n",
    "'Compare': '\tCompare',\n",
    "'Interrog': '\tInterrog',\n",
    "'Number': '\tNumber',\n",
    "'Quant': '\tQuant',\n",
    "'Affect': 'Affect',\n",
    "'Posemo': '\tPosemo',\n",
    "'Negemo': '\tNegemo',\n",
    "'Anx': '\t\tAnx',\n",
    "'Anger': '\t\tAnger',\n",
    "'Sad': '\t\tSad',\n",
    "'Social': 'Social',\n",
    "'Family': '\tFamily',\n",
    "'Friend': '\tFriend',\n",
    "'Female': '\tFemale',\n",
    "'Male': '\tMale',\n",
    "'Cogproc': 'Cogproc',\n",
    "'Insight': '\tInsight',\n",
    "'Cause': '\tCause',\n",
    "'Discrep': '\tDiscrep',\n",
    "'Tentat': '\tTentat',\n",
    "'Certain': '\tCertain',\n",
    "'Differ': '\tDiffer',\n",
    "'Percept': 'Percept',\n",
    "'See': '\tSee',\n",
    "'Hear': '\tHear',\n",
    "'Feel': '\tFeel',\n",
    "'Bio': 'Bio',\n",
    "'Body': '\tBody',\n",
    "'Health': '\tHealth',\n",
    "'Sexual': '\tSexual',\n",
    "'Ingest': '\tIngest',\n",
    "'Drives': 'Drives',\n",
    "'Affiliation': '\tAffiliation',\n",
    "'Achieve': '\tAchieve',\n",
    "'Power': '\tPower',\n",
    "'Reward': '\tReward',\n",
    "'Risk': '\tRisk',\n",
    "'Relativ': 'Relativ',\n",
    "'Motion': '\tMotion',\n",
    "'Space': '\tSpace',\n",
    "'Time': '\tTime',\n",
    "'Persconc': 'Persconc',\n",
    "'Work': '\tWork',\n",
    "'Leisure': '\tLeisure',\n",
    "'Home': '\tHome',\n",
    "'Money': '\tMoney',\n",
    "'Relig': '\tRelig',\n",
    "'Death': '\tDeath',\n",
    "'Informal': 'Informal',\n",
    "'Swear': '\tSwear',\n",
    "'Netspeak': '\tNetspeak',\n",
    "'Assent': '\tAssent',\n",
    "'Nonflu': '\tNonflu',\n",
    "'Filler': '\tFiller',\n",
    "}\n",
    "\n",
    "liwc_top_category_to_lower = {'function':['pronoun','ppron','i','we','you','shehe','they','youpl','ipron','prep','auxverb','adverb','conj','negate','quanunit','prepend','specart','tensem','focuspast','focuspresent','focusfuture','progm','particle','modal_pa','general_pa'],\n",
    "'othergram':['compare','interrog','number','quant'],\n",
    "'affect':['posemo','negemo','anx','anger','sad'],\n",
    "'social':['family','friend','afemale','male','female'],\n",
    "'cogproc':['insight','cause','discrep','tentat','certain','differ'],\n",
    "#'percept':['see','hear','feel'],\n",
    "'bio':['body','health','sexual','ingest'],\n",
    "'drives':['affiliation','achieve','power','reward','risk'],\n",
    "#'relativ':['motion','space','time'],\n",
    "'persconc':['work','leisure','home','money','relig','death'],\n",
    "'informal':['swear','netspeak','assent','nonflu','filler']}\n",
    "\n",
    "top_level_to_full_name = {\n",
    "    'function': 'Function Words', \n",
    "    'othergram': 'Other Grammatical Categories', \n",
    "    'affect': 'Affective Processes',\n",
    "    'social': 'Social Processes',\n",
    "    'cogproc': 'Cognitive Processes',\n",
    "    #'percept': None, #'Perceptual Processes',\n",
    "    'bio': 'Biological Processes',\n",
    "    'drives': 'Drives',\n",
    "    #'relativ': None, #'Relativity',\n",
    "    'persconc': 'Personal Concerns',\n",
    "    'informal': 'Informal language',\n",
    "}\n",
    "\n",
    "liwc_ctgys_to_full_name = {\n",
    "'Achieve'\t\t: 'Achievement (Achieve)',\n",
    " 'Adverb'\t\t: 'Common Adverbs (Adverb)',\n",
    " 'Anx'\t\t\t: 'Anxiety (Anx)',\n",
    " 'Auxverb'\t\t: 'Auxiliary verbs (Auxverb)',\n",
    " 'Bio'\t\t\t: 'Biological processes (Bio)',\n",
    " 'Cause'\t\t: 'Causation (Cause)',\n",
    " 'Certain'\t\t: 'Certainty (Certain)',\n",
    " 'Cogproc'\t\t: 'Cognitive processes (Cogproc)',\n",
    " 'Compare'\t\t: 'Comparatives (Compare)',\n",
    " 'Conj'\t\t\t: 'Conjunctions (Conj)',\n",
    " 'Differ'\t\t: 'Differentiation (Differ)',\n",
    " 'Female'\t\t: 'Female references (Female)',\n",
    " 'Filler'\t\t: 'Fillers (Filler)',\n",
    " 'Focusfuture'\t: 'Future focus (Focusfuture)',\n",
    " 'Focuspresent'\t: 'Present focus (Focuspresent)',\n",
    " 'Friend'\t\t: 'Friends (Friend)',\n",
    " 'Function'\t\t: 'Function words (Function)',\n",
    " 'I'\t\t\t: 'First person singular (I)',\n",
    " 'Informal'\t\t: 'Informal language (Informal)',\n",
    " 'Ingest'\t\t: 'Ingestion (Ingest)',\n",
    " 'Interrog'\t\t: 'Interrogatives (Interrog)',\n",
    " 'Ipron'\t\t: 'Impersonal pronouns (Ipron)',\n",
    " 'Male'\t\t\t: 'Male references (Male)',\n",
    " 'Negate'\t\t: 'Negations (Negate)',\n",
    " 'Negemo'\t\t: 'Negative emotion (Negemo)',\n",
    " 'Nonflu'\t\t: 'Nonfluencies (Nonflu)',\n",
    " 'Number'\t\t: 'Numbers (Number)',\n",
    " 'Percept'\t\t: 'Perceptual processes (Percept)',\n",
    " 'Posemo'\t\t: 'Positive emotion (Posemo)',\n",
    " 'Ppron'\t\t: 'Personal pronouns (Ppron)',\n",
    " 'Prep'\t\t\t: 'Prepositions (Prep)',\n",
    " 'Pronoun'\t\t: 'Total pronouns (Pronoun)',\n",
    " 'Quant'\t\t: 'Quantifiers (Quant)',\n",
    " 'Relativ'\t\t: 'Relativity (Relativ)',\n",
    " 'Shehe'\t\t: 'Third person singular (Shehe)',\n",
    " 'Social'\t\t: 'Social processes (Social)',\n",
    " 'Swear'\t\t: 'Swear words (Swear)',\n",
    " 'Tentat'\t\t: 'Tentative (Tentat)',\n",
    " 'They'\t\t\t: 'Third person plural (They)',\n",
    " 'We'\t\t\t: 'First person plural (We)',\n",
    " 'You'\t\t\t: 'Second Person (You)'}"
   ]
  },
  {
   "cell_type": "code",
   "execution_count": 13,
   "metadata": {
    "Collapsed": "false"
   },
   "outputs": [
    {
     "data": {
      "image/png": "[encoded data removed]",
      "text/plain": [
       "<Figure size 432x432 with 4 Axes>"
      ]
     },
     "metadata": {},
     "output_type": "display_data"
    },
    {
     "data": {
      "image/png": "[encoded data removed]",
      "text/plain": [
       "<Figure size 432x432 with 5 Axes>"
      ]
     },
     "metadata": {},
     "output_type": "display_data"
    }
   ],
   "source": [
    "def findTopCategory(feature_name):\n",
    "    for k,v in liwc_top_category_to_lower.items():\n",
    "        if feature_name in v or feature_name==k: return k\n",
    "corr_liwc_df = corr_liwc_df.assign(top_level=corr_liwc_df['feature'].str.lower().apply(findTopCategory))\n",
    "\n",
    "liwc_top_ctgys = liwc_top_category_to_lower.keys()\n",
    "n_subplots = len(liwc_top_ctgys)\n",
    "assert n_subplots==9\n",
    "\n",
    "# Which side of the two-column plot should we draw each top-level category on? 0 = left; 1 = right.\n",
    "left_or_right = pd.Series({'function':0, 'othergram':0, 'affect':0, 'social':0, 'cogproc':1, 'bio':1, 'drives':1, 'persconc':1, 'informal':1})\n",
    "\n",
    "numOfSubCtgys = lambda top_ctgy: (corr_liwc_df['top_level']==top_ctgy).sum()\n",
    "ratios = pd.Series({top_ctgy: numOfSubCtgys(top_ctgy) for top_ctgy in liwc_top_ctgys})\n",
    "\n",
    "num_subplots_l = (left_or_right==0).sum()\n",
    "ratios_l = ratios.loc[left_or_right==0]\n",
    "fig_l, axes_l = plt.subplots(num_subplots_l, 1, figsize=(6, 6), \n",
    "                             sharex=True, gridspec_kw={'height_ratios': ratios_l})\n",
    "\n",
    "num_subplots_r = (left_or_right==1).sum()\n",
    "ratios_r = ratios.loc[left_or_right==1]\n",
    "fig_r, axes_r = plt.subplots(num_subplots_r, 1, figsize=(6, 6), \n",
    "                             sharex=True, gridspec_kw={'height_ratios': ratios_r})\n",
    "\n",
    "figs = [fig_l, fig_r]\n",
    "axes = list(axes_l) + list(axes_r)\n",
    "\n",
    "for i, ctgy in enumerate(liwc_top_ctgys):\n",
    "    # Look up variables from tables.\n",
    "    # Get a list of sub-categories to this top-level category.\n",
    "    sub_ctgys = liwc_top_category_to_lower[ctgy]\n",
    "    full_name = top_level_to_full_name[ctgy]\n",
    "    # Which side to paint this top category on.\n",
    "    side = left_or_right[ctgy]\n",
    "    \n",
    "    fix = figs[side]\n",
    "    ax = axes[i]\n",
    "\n",
    "    # Get correlations from both corpora about this top-level categories.\n",
    "    corr_df = corr_liwc_df[corr_liwc_df['top_level']==ctgy]\n",
    "    order = corr_df.groupby('feature')['pearson_coef'].mean().sort_values(ascending=False).index\n",
    "    sns.barplot(x='pearson_coef', y='feature', order=order, data=corr_df, hue='corpus', ax=ax, hue_order=['Weibo', 'Twitter'])\n",
    "    \n",
    "    # Remove insignificant bars.\n",
    "    y_axis_labels = [i.get_text() for i in ax.get_yticklabels()]\n",
    "    legend_labels = ax.get_legend_handles_labels()[1]\n",
    "    for i, (patch, (corpus, feature)) in enumerate(zip(ax.patches, product(legend_labels, y_axis_labels))):\n",
    "        if_this_is_significant = corr_df.loc[(corr_df['feature']==feature) & (corr_df['corpus']==corpus), 'if_significant'].iloc[0]\n",
    "        if if_this_is_significant==False: patch.remove()\n",
    "    \n",
    "    ax.set_ylabel('')\n",
    "    ax.set_xlabel('')\n",
    "    ax.get_legend().remove()\n",
    "    ax.grid(True)\n",
    "    ax.set_title(full_name)\n",
    "\n",
    "# Only show legend in the last subplot.\n",
    "corpus_legend = ax.legend()\n",
    "corpus_legend.set_title('Corpus')\n",
    "\n",
    "fig_l.subplots_adjust(hspace=.5)\n",
    "fig_r.subplots_adjust(hspace=.5)\n",
    "fig_l.tight_layout()\n",
    "fig_r.tight_layout()\n",
    "fig_l.savefig(f'pcc-liwc_l_{FILE_SUFFIX}.png')\n",
    "fig_r.savefig(f'pcc-liwc_r_{FILE_SUFFIX}.png')\n",
    "plt.show()\n",
    "#yax = ax.get_yaxis()\n",
    "#ax.set_yticklabels(ax.get_yticklabels(), ha = 'left')\n",
    "#yax.set_tick_params(pad=80)"
   ]
  },
  {
   "cell_type": "code",
   "execution_count": 14,
   "metadata": {
    "Collapsed": "false"
   },
   "outputs": [
    {
     "name": "stdout",
     "output_type": "stream",
     "text": [
      "   - Common Features: affect, bio, cogproc, drives, function, informal, othergram, persconc, social\n",
      "   - Features to keep: affect, bio, cogproc, drives, function, informal, othergram, social\n"
     ]
    },
    {
     "data": {
      "image/png": "[encoded data removed]",
      "text/plain": [
       "<Figure size 432x129.6 with 1 Axes>"
      ]
     },
     "metadata": {},
     "output_type": "display_data"
    }
   ],
   "source": [
    "aggregateLiwcCntsByTopLvCtgy = lambda df: pd.DataFrame({top_level: df.T.reindex(pd.Series(categories).str.title()).sum().astype(int) for top_level, categories in liwc_top_category_to_lower.items()})\n",
    "twitr_liwc_tLv_cnts_df = aggregateLiwcCntsByTopLvCtgy(twitr_liwc_cnts_df)\n",
    "weibo_liwc_tLv_cnts_df = aggregateLiwcCntsByTopLvCtgy(weibo_liwc_cnts_df)\n",
    "corr_liwc_tLv_df = computePCCsForFeatureSet(twitr_liwc_tLv_cnts_df, weibo_liwc_tLv_cnts_df)\n",
    "\n",
    "plotPCCs(corr_liwc_tLv_df, figsize=(6,1.8))\n",
    "plt.title('(Top-Level LIWC Categories)')\n",
    "plt.tight_layout()\n",
    "plt.savefig(f'pcc-liwc-topLv_{NUM_POSTS}_Weibo{FILE_SUFFIX}.png')\n",
    "plt.show()"
   ]
  },
  {
   "cell_type": "markdown",
   "metadata": {
    "Collapsed": "false"
   },
   "source": [
    "(March 2020) Find features that correlates most differently with pltns scores across sentiments."
   ]
  },
  {
   "cell_type": "code",
   "execution_count": 15,
   "metadata": {
    "Collapsed": "false"
   },
   "outputs": [
    {
     "name": "stdout",
     "output_type": "stream",
     "text": [
      "There are 3824 positive posts and 2477 negative posts. We take 2400 posts in each.\n"
     ]
    }
   ],
   "source": [
    "# Concat across corpora:\n",
    "cnts_df = pd.concat([twitr_cnts_df, weibo_cnts_df])\n",
    "scores = pd.concat([twitr_scores, weibo_scores])\n",
    "# Keep only shared features:\n",
    "cnts_df.dropna(axis=1, inplace=True)\n",
    "\n",
    "if_positive = cnts_df[('LIWC', 'Posemo')]>cnts_df[('LIWC', 'Negemo')]\n",
    "if_negative = cnts_df[('LIWC', 'Posemo')]<cnts_df[('LIWC', 'Negemo')]\n",
    "\n",
    "n = min(sum(if_positive), sum(if_negative))//100*100\n",
    "print(f\"There are {sum(if_positive)} positive posts and {sum(if_negative)} negative posts. We take {n} posts in each.\")\n",
    "\n",
    "pos_index = cnts_df.index[if_positive].to_series().sample(n).index\n",
    "neg_index = cnts_df.index[if_negative].to_series().sample(n).index\n",
    "\n",
    "pos_cnts_df = cnts_df.loc[pos_index]\n",
    "neg_cnts_df = cnts_df.loc[neg_index]\n",
    "pos_scores = scores.loc[pos_index]\n",
    "neg_scores = scores.loc[neg_index]"
   ]
  },
  {
   "cell_type": "code",
   "execution_count": 16,
   "metadata": {
    "Collapsed": "false"
   },
   "outputs": [
    {
     "name": "stderr",
     "output_type": "stream",
     "text": [
      "/home/myli/miniconda3/envs/main/lib/python3.7/site-packages/scipy/stats/stats.py:3508: PearsonRConstantInputWarning: An input array is constant; the correlation coefficent is not defined.\n",
      "  warnings.warn(PearsonRConstantInputWarning())\n"
     ]
    }
   ],
   "source": [
    "def getCorrForSenti(this_cnts_df, this_scores, if_remove_insignificant=False):\n",
    "    this_corr_df = this_cnts_df.apply(lambda x: stats.pearsonr(x, this_scores)).T\n",
    "    this_corr_df.columns = ['pearson_coef', 'p_value']\n",
    "    this_corr_df['if_significant'] = this_corr_df['p_value']<0.01\n",
    "    if if_remove_insignificant:\n",
    "        this_corr_df = this_corr_df.loc[this_corr_df['if_significant']]\n",
    "    return this_corr_df\n",
    "\n",
    "def getCorrAcrossSenti(if_remove_insignificant=False):\n",
    "    pos_corr_df = getCorrForSenti(pos_cnts_df, pos_scores, if_remove_insignificant)\n",
    "    neg_corr_df = getCorrForSenti(neg_cnts_df, neg_scores, if_remove_insignificant)\n",
    "\n",
    "    pos_corr_df.dropna(inplace=True)\n",
    "    neg_corr_df = neg_corr_df.reindex(pos_corr_df.index)\n",
    "    neg_corr_df.dropna(inplace=True)\n",
    "    pos_corr_df = pos_corr_df.reindex(neg_corr_df.index)\n",
    "    assert (pos_corr_df.index==neg_corr_df.index).all()\n",
    "\n",
    "    return stats.pearsonr(\n",
    "        pos_corr_df['pearson_coef'], \n",
    "        neg_corr_df['pearson_coef'])\n",
    "\n",
    "senti_corr_withInsig_r, senti_corr_withInsig_p = getCorrAcrossSenti(if_remove_insignificant=False)\n",
    "senti_corr_signiOnly_r, senti_corr_signiOnly_p = getCorrAcrossSenti(if_remove_insignificant=True)"
   ]
  },
  {
   "cell_type": "code",
   "execution_count": 17,
   "metadata": {
    "Collapsed": "false"
   },
   "outputs": [
    {
     "data": {
      "text/plain": [
       "(0.5082449913399197, 4.240348816192041e-08)"
      ]
     },
     "execution_count": 17,
     "metadata": {},
     "output_type": "execute_result"
    }
   ],
   "source": [
    "senti_corr_withInsig_r, senti_corr_withInsig_p"
   ]
  },
  {
   "cell_type": "code",
   "execution_count": 18,
   "metadata": {
    "Collapsed": "false"
   },
   "outputs": [
    {
     "data": {
      "text/plain": [
       "(0.5599374886652227, 6.350385659430543e-05)"
      ]
     },
     "execution_count": 18,
     "metadata": {},
     "output_type": "execute_result"
    }
   ],
   "source": [
    "senti_corr_signiOnly_r, senti_corr_signiOnly_p"
   ]
  },
  {
   "cell_type": "code",
   "execution_count": 19,
   "metadata": {
    "Collapsed": "false"
   },
   "outputs": [],
   "source": [
    "pos_corr_df = getCorrForSenti(pos_cnts_df, pos_scores, if_remove_insignificant=True)\n",
    "neg_corr_df = getCorrForSenti(neg_cnts_df, neg_scores, if_remove_insignificant=True)"
   ]
  },
  {
   "cell_type": "code",
   "execution_count": 20,
   "metadata": {
    "Collapsed": "false"
   },
   "outputs": [
    {
     "data": {
      "text/html": [
       "<div>\n",
       "<style scoped>\n",
       "    .dataframe tbody tr th:only-of-type {\n",
       "        vertical-align: middle;\n",
       "    }\n",
       "\n",
       "    .dataframe tbody tr th {\n",
       "        vertical-align: top;\n",
       "    }\n",
       "\n",
       "    .dataframe thead th {\n",
       "        text-align: right;\n",
       "    }\n",
       "</style>\n",
       "<table border=\"1\" class=\"dataframe\">\n",
       "  <thead>\n",
       "    <tr style=\"text-align: right;\">\n",
       "      <th></th>\n",
       "      <th>lexicon</th>\n",
       "      <th>feature</th>\n",
       "      <th>abs_diff_in_r</th>\n",
       "    </tr>\n",
       "  </thead>\n",
       "  <tbody>\n",
       "    <tr>\n",
       "      <th>0</th>\n",
       "      <td>LIWC</td>\n",
       "      <td>Cogproc</td>\n",
       "      <td>0.310524</td>\n",
       "    </tr>\n",
       "    <tr>\n",
       "      <th>1</th>\n",
       "      <td>PoliteLex</td>\n",
       "      <td>hedge</td>\n",
       "      <td>0.306207</td>\n",
       "    </tr>\n",
       "    <tr>\n",
       "      <th>2</th>\n",
       "      <td>LIWC</td>\n",
       "      <td>Tentat</td>\n",
       "      <td>0.299690</td>\n",
       "    </tr>\n",
       "    <tr>\n",
       "      <th>3</th>\n",
       "      <td>LIWC</td>\n",
       "      <td>Adverb</td>\n",
       "      <td>0.271456</td>\n",
       "    </tr>\n",
       "    <tr>\n",
       "      <th>4</th>\n",
       "      <td>LIWC</td>\n",
       "      <td>Auxverb</td>\n",
       "      <td>0.260571</td>\n",
       "    </tr>\n",
       "    <tr>\n",
       "      <th>5</th>\n",
       "      <td>LIWC</td>\n",
       "      <td>Differ</td>\n",
       "      <td>0.257196</td>\n",
       "    </tr>\n",
       "    <tr>\n",
       "      <th>6</th>\n",
       "      <td>LIWC</td>\n",
       "      <td>Discrep</td>\n",
       "      <td>0.255872</td>\n",
       "    </tr>\n",
       "    <tr>\n",
       "      <th>7</th>\n",
       "      <td>LIWC</td>\n",
       "      <td>Negate</td>\n",
       "      <td>0.255779</td>\n",
       "    </tr>\n",
       "    <tr>\n",
       "      <th>8</th>\n",
       "      <td>LIWC</td>\n",
       "      <td>Insight</td>\n",
       "      <td>0.246420</td>\n",
       "    </tr>\n",
       "    <tr>\n",
       "      <th>9</th>\n",
       "      <td>LIWC</td>\n",
       "      <td>Compare</td>\n",
       "      <td>0.237340</td>\n",
       "    </tr>\n",
       "    <tr>\n",
       "      <th>10</th>\n",
       "      <td>LIWC</td>\n",
       "      <td>Conj</td>\n",
       "      <td>0.215987</td>\n",
       "    </tr>\n",
       "    <tr>\n",
       "      <th>11</th>\n",
       "      <td>PoliteLex</td>\n",
       "      <td>taboo</td>\n",
       "      <td>0.207383</td>\n",
       "    </tr>\n",
       "    <tr>\n",
       "      <th>12</th>\n",
       "      <td>LIWC</td>\n",
       "      <td>Relativ</td>\n",
       "      <td>0.206894</td>\n",
       "    </tr>\n",
       "    <tr>\n",
       "      <th>13</th>\n",
       "      <td>LIWC</td>\n",
       "      <td>Swear</td>\n",
       "      <td>0.191754</td>\n",
       "    </tr>\n",
       "    <tr>\n",
       "      <th>14</th>\n",
       "      <td>LIWC</td>\n",
       "      <td>Space</td>\n",
       "      <td>0.188776</td>\n",
       "    </tr>\n",
       "    <tr>\n",
       "      <th>15</th>\n",
       "      <td>PoliteLex</td>\n",
       "      <td>gratitude</td>\n",
       "      <td>0.184268</td>\n",
       "    </tr>\n",
       "    <tr>\n",
       "      <th>16</th>\n",
       "      <td>LIWC</td>\n",
       "      <td>Risk</td>\n",
       "      <td>0.174339</td>\n",
       "    </tr>\n",
       "    <tr>\n",
       "      <th>17</th>\n",
       "      <td>LIWC</td>\n",
       "      <td>Certain</td>\n",
       "      <td>0.160013</td>\n",
       "    </tr>\n",
       "    <tr>\n",
       "      <th>18</th>\n",
       "      <td>LIWC</td>\n",
       "      <td>Quant</td>\n",
       "      <td>0.158533</td>\n",
       "    </tr>\n",
       "    <tr>\n",
       "      <th>19</th>\n",
       "      <td>LIWC</td>\n",
       "      <td>Cause</td>\n",
       "      <td>0.155087</td>\n",
       "    </tr>\n",
       "    <tr>\n",
       "      <th>20</th>\n",
       "      <td>EmoLex</td>\n",
       "      <td>Anticipation</td>\n",
       "      <td>0.139654</td>\n",
       "    </tr>\n",
       "    <tr>\n",
       "      <th>21</th>\n",
       "      <td>LIWC</td>\n",
       "      <td>Informal</td>\n",
       "      <td>0.139356</td>\n",
       "    </tr>\n",
       "    <tr>\n",
       "      <th>22</th>\n",
       "      <td>LIWC</td>\n",
       "      <td>Anx</td>\n",
       "      <td>0.138034</td>\n",
       "    </tr>\n",
       "    <tr>\n",
       "      <th>23</th>\n",
       "      <td>LIWC</td>\n",
       "      <td>Family</td>\n",
       "      <td>0.113336</td>\n",
       "    </tr>\n",
       "    <tr>\n",
       "      <th>24</th>\n",
       "      <td>PoliteLex</td>\n",
       "      <td>apologetic</td>\n",
       "      <td>0.107883</td>\n",
       "    </tr>\n",
       "    <tr>\n",
       "      <th>25</th>\n",
       "      <td>LIWC</td>\n",
       "      <td>Affiliation</td>\n",
       "      <td>0.101199</td>\n",
       "    </tr>\n",
       "    <tr>\n",
       "      <th>26</th>\n",
       "      <td>LIWC</td>\n",
       "      <td>Interrog</td>\n",
       "      <td>0.094123</td>\n",
       "    </tr>\n",
       "    <tr>\n",
       "      <th>27</th>\n",
       "      <td>LIWC</td>\n",
       "      <td>Sexual</td>\n",
       "      <td>0.092187</td>\n",
       "    </tr>\n",
       "    <tr>\n",
       "      <th>28</th>\n",
       "      <td>LIWC</td>\n",
       "      <td>Anger</td>\n",
       "      <td>0.089742</td>\n",
       "    </tr>\n",
       "    <tr>\n",
       "      <th>29</th>\n",
       "      <td>EmoLex</td>\n",
       "      <td>Disgust</td>\n",
       "      <td>0.077800</td>\n",
       "    </tr>\n",
       "    <tr>\n",
       "      <th>30</th>\n",
       "      <td>LIWC</td>\n",
       "      <td>Pronoun</td>\n",
       "      <td>0.068672</td>\n",
       "    </tr>\n",
       "    <tr>\n",
       "      <th>31</th>\n",
       "      <td>LIWC</td>\n",
       "      <td>Number</td>\n",
       "      <td>0.045825</td>\n",
       "    </tr>\n",
       "    <tr>\n",
       "      <th>32</th>\n",
       "      <td>LIWC</td>\n",
       "      <td>Female</td>\n",
       "      <td>0.042582</td>\n",
       "    </tr>\n",
       "    <tr>\n",
       "      <th>33</th>\n",
       "      <td>LIWC</td>\n",
       "      <td>Body</td>\n",
       "      <td>0.040924</td>\n",
       "    </tr>\n",
       "    <tr>\n",
       "      <th>34</th>\n",
       "      <td>LIWC</td>\n",
       "      <td>Posemo</td>\n",
       "      <td>0.035972</td>\n",
       "    </tr>\n",
       "    <tr>\n",
       "      <th>35</th>\n",
       "      <td>PoliteLex</td>\n",
       "      <td>can_you</td>\n",
       "      <td>0.035422</td>\n",
       "    </tr>\n",
       "    <tr>\n",
       "      <th>36</th>\n",
       "      <td>PoliteLex</td>\n",
       "      <td>you_direct</td>\n",
       "      <td>0.034098</td>\n",
       "    </tr>\n",
       "    <tr>\n",
       "      <th>37</th>\n",
       "      <td>LIWC</td>\n",
       "      <td>Ppron</td>\n",
       "      <td>0.033845</td>\n",
       "    </tr>\n",
       "    <tr>\n",
       "      <th>38</th>\n",
       "      <td>LIWC</td>\n",
       "      <td>You</td>\n",
       "      <td>0.031925</td>\n",
       "    </tr>\n",
       "    <tr>\n",
       "      <th>39</th>\n",
       "      <td>LIWC</td>\n",
       "      <td>Bio</td>\n",
       "      <td>0.027188</td>\n",
       "    </tr>\n",
       "    <tr>\n",
       "      <th>40</th>\n",
       "      <td>PoliteLex</td>\n",
       "      <td>start_you</td>\n",
       "      <td>0.022133</td>\n",
       "    </tr>\n",
       "    <tr>\n",
       "      <th>41</th>\n",
       "      <td>EmoLex</td>\n",
       "      <td>Joy</td>\n",
       "      <td>0.021656</td>\n",
       "    </tr>\n",
       "    <tr>\n",
       "      <th>42</th>\n",
       "      <td>LIWC</td>\n",
       "      <td>Social</td>\n",
       "      <td>0.009721</td>\n",
       "    </tr>\n",
       "    <tr>\n",
       "      <th>43</th>\n",
       "      <td>PoliteLex</td>\n",
       "      <td>you_honorific</td>\n",
       "      <td>0.007522</td>\n",
       "    </tr>\n",
       "    <tr>\n",
       "      <th>44</th>\n",
       "      <td>PoliteLex</td>\n",
       "      <td>please</td>\n",
       "      <td>0.002657</td>\n",
       "    </tr>\n",
       "  </tbody>\n",
       "</table>\n",
       "</div>"
      ],
      "text/plain": [
       "      lexicon        feature  abs_diff_in_r\n",
       "0        LIWC        Cogproc       0.310524\n",
       "1   PoliteLex          hedge       0.306207\n",
       "2        LIWC         Tentat       0.299690\n",
       "3        LIWC         Adverb       0.271456\n",
       "4        LIWC        Auxverb       0.260571\n",
       "5        LIWC         Differ       0.257196\n",
       "6        LIWC        Discrep       0.255872\n",
       "7        LIWC         Negate       0.255779\n",
       "8        LIWC        Insight       0.246420\n",
       "9        LIWC        Compare       0.237340\n",
       "10       LIWC           Conj       0.215987\n",
       "11  PoliteLex          taboo       0.207383\n",
       "12       LIWC        Relativ       0.206894\n",
       "13       LIWC          Swear       0.191754\n",
       "14       LIWC          Space       0.188776\n",
       "15  PoliteLex      gratitude       0.184268\n",
       "16       LIWC           Risk       0.174339\n",
       "17       LIWC        Certain       0.160013\n",
       "18       LIWC          Quant       0.158533\n",
       "19       LIWC          Cause       0.155087\n",
       "20     EmoLex   Anticipation       0.139654\n",
       "21       LIWC       Informal       0.139356\n",
       "22       LIWC            Anx       0.138034\n",
       "23       LIWC         Family       0.113336\n",
       "24  PoliteLex     apologetic       0.107883\n",
       "25       LIWC    Affiliation       0.101199\n",
       "26       LIWC       Interrog       0.094123\n",
       "27       LIWC         Sexual       0.092187\n",
       "28       LIWC          Anger       0.089742\n",
       "29     EmoLex        Disgust       0.077800\n",
       "30       LIWC        Pronoun       0.068672\n",
       "31       LIWC         Number       0.045825\n",
       "32       LIWC         Female       0.042582\n",
       "33       LIWC           Body       0.040924\n",
       "34       LIWC         Posemo       0.035972\n",
       "35  PoliteLex        can_you       0.035422\n",
       "36  PoliteLex     you_direct       0.034098\n",
       "37       LIWC          Ppron       0.033845\n",
       "38       LIWC            You       0.031925\n",
       "39       LIWC            Bio       0.027188\n",
       "40  PoliteLex      start_you       0.022133\n",
       "41     EmoLex            Joy       0.021656\n",
       "42       LIWC         Social       0.009721\n",
       "43  PoliteLex  you_honorific       0.007522\n",
       "44  PoliteLex         please       0.002657"
      ]
     },
     "execution_count": 20,
     "metadata": {},
     "output_type": "execute_result"
    }
   ],
   "source": [
    "abs_diff_in_r_df = (pos_corr_df['pearson_coef']-neg_corr_df['pearson_coef']).dropna().abs().sort_values(ascending=False).reset_index()\n",
    "abs_diff_in_r_df.columns = ['lexicon', 'feature', 'abs_diff_in_r']\n",
    "abs_diff_in_r_df.to_csv(f'abs_diff_of_PCCs_across_PosNeg_{FILE_SUFFIX}.csv')\n",
    "abs_diff_in_r_df"
   ]
  }
 ],
 "metadata": {
  "kernelspec": {
   "display_name": "Python 3",
   "language": "python",
   "name": "python3"
  },
  "language_info": {
   "codemirror_mode": {
    "name": "ipython",
    "version": 3
   },
   "file_extension": ".py",
   "mimetype": "text/x-python",
   "name": "python",
   "nbconvert_exporter": "python",
   "pygments_lexer": "ipython3",
   "version": "3.7.5"
  },
  "toc-autonumbering": true,
  "toc-showcode": false,
  "toc-showmarkdowntxt": false,
  "toc-showtags": false
 },
 "nbformat": 4,
 "nbformat_minor": 4
}
