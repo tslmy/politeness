{
 "cells": [
  {
   "cell_type": "code",
   "execution_count": 2,
   "metadata": {
    "Collapsed": "false"
   },
   "outputs": [],
   "source": [
    "from tqdm import tqdm\n",
    "import pandas as pd\n",
    "import re\n",
    "np = pd.np\n",
    "%matplotlib inline\n",
    "from matplotlib import pyplot as plt\n",
    "plt.style.use('ggplot')\n",
    "from collections import Counter"
   ]
  },
  {
   "cell_type": "markdown",
   "metadata": {
    "Collapsed": "false"
   },
   "source": [
    "# The Stanford Politeness Corpus"
   ]
  },
  {
   "cell_type": "code",
   "execution_count": 2,
   "metadata": {
    "Collapsed": "false"
   },
   "outputs": [],
   "source": [
    "HDF_FPATH = 'Stanford_politeness_corpus/fromJson.hdf'"
   ]
  },
  {
   "cell_type": "markdown",
   "metadata": {
    "Collapsed": "false"
   },
   "source": [
    "## Tokens"
   ]
  },
  {
   "cell_type": "code",
   "execution_count": null,
   "metadata": {
    "Collapsed": "false"
   },
   "outputs": [],
   "source": [
    "print('Preparing tokenized data...')\n",
    "try:\n",
    "    tokens = pd.read_hdf(HDF_FPATH, 'token')\n",
    "    print('Successfully loaded!')\n",
    "except:\n",
    "    from tqdm import tqdm\n",
    "    from ekphrasis.classes.preprocessor import TextPreProcessor\n",
    "    from ekphrasis.classes.tokenizer import SocialTokenizer\n",
    "\n",
    "    text_processor = TextPreProcessor(\n",
    "        # terms that will be normalized\n",
    "        normalize=['url', 'email', 'percent', 'money', 'phone', 'user', 'time', 'url', 'date', 'number'],\n",
    "        # terms that will be annotated\n",
    "        annotate={\"hashtag\", \"allcaps\", \"elongated\", \"repeated\", 'emphasis', 'censored'},\n",
    "        unpack_hashtags=False,  # perform word segmentation on hashtags\n",
    "        unpack_contractions=True,  # Unpack contractions (can't -> can not)\n",
    "        tokenizer=SocialTokenizer(lowercase=True).tokenize,)\n",
    "\n",
    "    def tokenize(s):\n",
    "        pbar.update()\n",
    "        return text_processor.pre_process_doc(s)\n",
    "    with tqdm(total=len(text_feats_2scores_df), desc='Tokenize') as pbar: tokens = text_feats_2scores_df.text.apply(tokenize).rename('token')\n",
    "    tokens.to_hdf(HDF_FPATH, 'token')\n",
    "    print('Successfully prepared!')\n",
    "token_cnts = tokens.apply(Counter)"
   ]
  },
  {
   "cell_type": "markdown",
   "metadata": {
    "Collapsed": "false"
   },
   "source": [
    "## LIWC Vectors"
   ]
  },
  {
   "cell_type": "code",
   "execution_count": null,
   "metadata": {
    "Collapsed": "false"
   },
   "outputs": [],
   "source": [
    "liwc_en_df = pd.read_csv('lexica/liwc_en.csv', index_col=0)\n",
    "liwc_en_df['ifWildcard'] = liwc_en_df['term'].str.endswith('*')\n",
    "liwc_en_df['term'] = liwc_en_df['term'].str.rstrip('*')\n",
    "convertToNestedDict = lambda _: {i: _.xs(i).to_dict() for i in _.index.levels[0]} # https://stackoverflow.com/a/42151082/1147061\n",
    "_ = liwc_en_df.groupby(['category', 'ifWildcard']).term.unique().apply(set)\n",
    "liwc_en = convertToNestedDict(_)\n",
    "\n",
    "from collections import Counter\n",
    "def countTokenByList(tkns, liwc=liwc_en):\n",
    "    pbar.update()\n",
    "    cnts = Counter(tkns)\n",
    "    res  = dict()\n",
    "    for category, sub_dict in liwc.items():\n",
    "        res[category] = sum(cnts[i] for i in sub_dict[False].intersection(cnts)) # simple_tkns\n",
    "        if True not in sub_dict: continue\n",
    "        for j, v in cnts.items():\n",
    "            for i in sub_dict[True]: # wildcard_tkns\n",
    "                if j.startswith(i):\n",
    "                    res[category] += v\n",
    "    return pd.Series(res)\n",
    "\n",
    "with tqdm(tokens) as pbar: liwc_cnts = tokens.apply(countTokenByList)\n",
    "liwc_cnts.to_hdf(HDF_FPATH, 'liwc_vecs_df')"
   ]
  },
  {
   "cell_type": "markdown",
   "metadata": {
    "Collapsed": "false"
   },
   "source": [
    "## EmoLex Vectors"
   ]
  },
  {
   "cell_type": "code",
   "execution_count": null,
   "metadata": {
    "Collapsed": "false"
   },
   "outputs": [],
   "source": [
    "def _(cnts, nrc_df=nrc_en_df):\n",
    "    pbar.update()\n",
    "    cnts = pd.Series(cnts)\n",
    "    return (nrc_df.reindex(cnts.index).T*cnts).T.sum().astype(int)\n",
    "with tqdm(token_cnts) as pbar:\n",
    "    nrc_cnts_df = token_cnts.apply(_, nrc_df=nrc_en_df)"
   ]
  },
  {
   "cell_type": "code",
   "execution_count": null,
   "metadata": {
    "Collapsed": "false"
   },
   "outputs": [],
   "source": [
    "# Save to HDF:\n",
    "nrc_cnts_df.to_hdf(HDF_FPATH, 'nrc_vecs_df')"
   ]
  },
  {
   "cell_type": "markdown",
   "metadata": {
    "Collapsed": "false"
   },
   "source": [
    "## PoliteLex Vectors"
   ]
  },
  {
   "cell_type": "code",
   "execution_count": null,
   "metadata": {
    "Collapsed": "false"
   },
   "outputs": [],
   "source": [
    "texts = tokens.apply(' '.join).str.replace(r'`.*?`', '', regex=True).str.replace(r' ?</?[a-z]*> ?', '.', regex=True)\n",
    "my_feats_df = extractFeaturesFromCorpus(texts, token_cnts, rule_lang='rule_en')"
   ]
  },
  {
   "cell_type": "code",
   "execution_count": null,
   "metadata": {
    "Collapsed": "false"
   },
   "outputs": [],
   "source": [
    "# Save to HDF:\n",
    "my_feats_df.to_hdf(HDF_FPATH, 'polite_cnts_df')"
   ]
  },
  {
   "cell_type": "markdown",
   "metadata": {
    "Collapsed": "false"
   },
   "source": [
    "# Microblogs"
   ]
  },
  {
   "cell_type": "code",
   "execution_count": 12,
   "metadata": {
    "Collapsed": "false"
   },
   "outputs": [],
   "source": [
    "HDF_FPATH = 'data_200516.hdf' # Weibo = 3245+3000 -> 6226 ; Twitter = 3083+3000 -> 5375"
   ]
  },
  {
   "cell_type": "markdown",
   "metadata": {
    "Collapsed": "false"
   },
   "source": [
    "## Tokens"
   ]
  },
  {
   "cell_type": "code",
   "execution_count": 13,
   "metadata": {
    "Collapsed": "false"
   },
   "outputs": [],
   "source": [
    "weibo_df = pd.read_csv('AnnotateWeibo/Weibo2014_3245+3000.csv').set_index(['sid', 'RT_level'])\n",
    "twitr_df = pd.read_csv('AnnotateTwitr/Twitr2014_3083+3000.csv').set_index('sid')"
   ]
  },
  {
   "cell_type": "code",
   "execution_count": 8,
   "metadata": {
    "Collapsed": "false"
   },
   "outputs": [
    {
     "name": "stdout",
     "output_type": "stream",
     "text": [
      "Loaded 5375 entries from HDF repository!\n",
      "Building tokenized versions of posts...\n"
     ]
    },
    {
     "name": "stderr",
     "output_type": "stream",
     "text": [
      "Segmentize Weibo posts:   0%|          | 0/6226 [00:00<?, ?it/s]Building prefix dict from the default dictionary ...\n",
      "Loading model from cache /tmp/jieba.cache\n",
      "Dumping model to file cache /tmp/jieba.cache\n",
      "Dump cache file failed.\n",
      "Traceback (most recent call last):\n",
      "  File \"<ipython-input-8-c7b6210c2f02>\", line 39, in <module>\n",
      "    weibo_tokens = pd.read_hdf(HDF_FPATH, 'Weibo2014_3245+3000_token')\n",
      "  File \"/home/myli/miniconda3/envs/main/lib/python3.7/site-packages/pandas/io/pytables.py\", line 407, in read_hdf\n",
      "    return store.select(key, auto_close=auto_close, **kwargs)\n",
      "  File \"/home/myli/miniconda3/envs/main/lib/python3.7/site-packages/pandas/io/pytables.py\", line 757, in select\n",
      "    raise KeyError(\"No object named {key} in the file\".format(key=key))\n",
      "KeyError: 'No object named Weibo2014_3245+3000_token in the file'\n",
      "\n",
      "During handling of the above exception, another exception occurred:\n",
      "\n",
      "Traceback (most recent call last):\n",
      "  File \"/home/myli/miniconda3/envs/main/lib/python3.7/site-packages/jieba_fast/__init__.py\", line 158, in initialize\n",
      "    _replace_file(fpath, cache_file)\n",
      "PermissionError: [Errno 1] Operation not permitted: '/tmp/tmphu3ubhr_' -> '/tmp/jieba.cache'\n",
      "Loading model cost 3.768 seconds.\n",
      "Prefix dict has been built succesfully.\n",
      "Segmentize Weibo posts: 100%|██████████| 6226/6226 [00:05<00:00, 1170.83it/s]\n",
      "Clean up Weibo posts: 100%|██████████| 6226/6226 [00:00<00:00, 99346.93it/s]\n",
      "/home/myli/miniconda3/envs/main/lib/python3.7/site-packages/tables/path.py:155: NaturalNameWarning: object name is not a valid Python identifier: 'Weibo2014_3245+3000_token'; it does not match the pattern ``^[a-zA-Z_][a-zA-Z0-9_]*$``; you will not be able to use natural naming to access this object; using ``getattr()`` will still work, though\n",
      "  check_attribute_name(name)\n"
     ]
    },
    {
     "name": "stdout",
     "output_type": "stream",
     "text": [
      "Saved 6226 entries to HDF repository!\n"
     ]
    },
    {
     "name": "stderr",
     "output_type": "stream",
     "text": [
      "/home/myli/miniconda3/envs/main/lib/python3.7/site-packages/pandas/core/generic.py:2530: PerformanceWarning: \n",
      "your performance may suffer as PyTables will pickle object types that it cannot\n",
      "map directly to c-types [inferred_type->mixed,key->values] [items->None]\n",
      "\n",
      "  pytables.to_hdf(path_or_buf, key, self, **kwargs)\n"
     ]
    }
   ],
   "source": [
    "def extractFromPattern(text, pattern, return_original_text_on_fail=True, capture_group_id=1):\n",
    "    m = pattern.search(text)\n",
    "    if m:\n",
    "        return m.group(capture_group_id)\n",
    "    elif return_original_text_on_fail:\n",
    "        return text\n",
    "\n",
    "try:\n",
    "    twitr_tokens = pd.read_hdf(HDF_FPATH, 'TwtUs2014_3083+3000_token')\n",
    "    print(f'Loaded {len(twitr_tokens)} entries from HDF repository!')\n",
    "except:\n",
    "    print('Building tokenized versions of posts...')\n",
    "    #!pip install ekphrasis\n",
    "    from ekphrasis.classes.preprocessor import TextPreProcessor\n",
    "    from ekphrasis.classes.tokenizer import SocialTokenizer\n",
    "    text_processor = TextPreProcessor(\n",
    "        # terms that will be normalized\n",
    "        normalize=['url', 'email', 'percent', 'money', 'phone', 'user', 'time', 'url', 'date', 'number'],\n",
    "        # terms that will be annotated\n",
    "        annotate={}, #{\"hashtag\", \"allcaps\", \"elongated\", \"repeated\", 'emphasis', 'censored'},\n",
    "        unpack_hashtags=False,  # perform word segmentation on hashtags\n",
    "        unpack_contractions=False,  # Unpack contractions (can't -> can not)\n",
    "        tokenizer=SocialTokenizer(lowercase=True).tokenize,)\n",
    "\n",
    "    def tokenize(s):\n",
    "        pbar.update()\n",
    "        tokens = text_processor.pre_process_doc(s)\n",
    "        # Remove the \"RT <user> :\" part:\n",
    "        if tokens[:3]==['rt', '<user>', ':']:\n",
    "            tokens = tokens[3:]\n",
    "        return tokens\n",
    "    with tqdm(total=len(twitr_df), desc='Tokenize') as pbar: \n",
    "        twitr_tokens = twitr_df['text'].apply(tokenize).rename('token')\n",
    "\n",
    "    twitr_tokens.to_hdf(HDF_FPATH, 'TwtUs2014_3083+3000_token')\n",
    "    print(f'Saved {len(twitr_tokens)} entries to HDF repository!')\n",
    "\n",
    "try:\n",
    "    weibo_tokens = pd.read_hdf(HDF_FPATH, 'Weibo2014_3245+3000_token')\n",
    "    print(f'Loaded {len(weibo_tokens)} entries from HDF repository!')\n",
    "except:\n",
    "    print('Building tokenized versions of posts...')\n",
    "\n",
    "    automated_reply_pattern = re.compile(r'^回复 {AT} .+?】的评论：\"(.+)\"查看原文：🔗网页链接$')\n",
    "    reply_pattern = re.compile(r'^回复 {AT} :(.+)')\n",
    "    \n",
    "    ## Segmentize posts. Code in this cell is essentially copy & pasted from `/data/myli/emoji/corpora/prepare_training_data.py`.\n",
    "    #!conda install -c conda-forge cysignals -y # dependency of pyfasttext\n",
    "    #!pip install jieba_fast emoji hanziconv pyfasttext\n",
    "    import jieba_fast\n",
    "    from weibo_cleaner import mask\n",
    "    from tqdm import tqdm\n",
    "\n",
    "    exploded_marker_pattern = re.compile(' { ([A-Z]{2}) } ')\n",
    "\n",
    "    # Clean text:\n",
    "    weibo_raw_texts = weibo_df['text']\n",
    "    weibo_masked_texts = weibo_raw_texts.apply(mask)\n",
    "    weibo_cleaned_texts = weibo_masked_texts\n",
    "    weibo_cleaned_texts = weibo_cleaned_texts.apply(extractFromPattern, pattern=automated_reply_pattern)\n",
    "    weibo_cleaned_texts = weibo_cleaned_texts.apply(extractFromPattern, pattern=reply_pattern)\n",
    "\n",
    "    # Now we are in the list-of-tokens space:\n",
    "    def segmentize(text, pbar):\n",
    "        '''Converts a string into a list of strings.'''\n",
    "        pbar.update()\n",
    "        jieba_tokens = jieba_fast.cut(text)\n",
    "        jieba_tokenized_text = ' '.join(jieba_tokens)\n",
    "        fixed_string = exploded_marker_pattern.sub(r'{\\1}', ' '+jieba_tokenized_text+' ').strip() # fix exploded markers\n",
    "        return fixed_string.split(' ')\n",
    "    with tqdm(total=len(weibo_cleaned_texts), desc='Segmentize Weibo posts') as pbar: \n",
    "        weibo_all_tokens = weibo_cleaned_texts.apply(segmentize, pbar=pbar)\n",
    "        \n",
    "    def cleanUp(tokens, pbar):\n",
    "        '''Clean up a list of tokens by removing unwanted, meaningless tokens.'''\n",
    "        pbar.update()\n",
    "        tokens = filter(None, tokens) # Remove empty tokens\n",
    "        tokens = filter(lambda token: token!='{SP}', tokens) # Remove space tokens\n",
    "        return list(tokens)\n",
    "    with tqdm(total=len(weibo_all_tokens), desc='Clean up Weibo posts') as pbar: \n",
    "        weibo_cleaned_tokens = weibo_all_tokens.apply(cleanUp, pbar=pbar)\n",
    "\n",
    "    weibo_tokens = weibo_cleaned_tokens.rename('token')\n",
    "\n",
    "    # Save to file:\n",
    "    weibo_tokens.to_hdf(HDF_FPATH, 'Weibo2014_3245+3000_token')\n",
    "    print(f'Saved {len(weibo_tokens)} entries to HDF repository!')"
   ]
  },
  {
   "cell_type": "markdown",
   "metadata": {
    "Collapsed": "false"
   },
   "source": [
    "### Preview tokens"
   ]
  },
  {
   "cell_type": "code",
   "execution_count": 9,
   "metadata": {
    "Collapsed": "false"
   },
   "outputs": [
    {
     "data": {
      "text/plain": [
       "sid\n",
       "492077708252151808    [actually, ready, for, school, to, start, back...\n",
       "484345814979203073     [distilled, water, has, a, funny, taste, to, it]\n",
       "494326161368166400          [\", <user>, :, <url>, <user>, hahahahahaha]\n",
       "484301971927887872    [queensland, aus, cairns, », <url>, <number>, ...\n",
       "484402308092923904    [forever, hating, comcast, network, for, not, ...\n",
       "                                            ...                        \n",
       "422576337736302592                              [pound, it, bro, <url>]\n",
       "485154577453711360    [🐧, ⛄, ️, 🐧, ⛄, ️, 🐧, hi, luke, hemmings, from...\n",
       "487328065815449601    [🔆, 💕, 🔆, 💕, 🔆, 💕, 🔆, 💕, <user>, hi, luke, fro...\n",
       "422496885035634688    [<user>, hiii, greg, :), i, ', m, really, sorr...\n",
       "454426594644221952    [one, of, my, favorite, guitar, players, <user...\n",
       "Name: token, Length: 5375, dtype: object"
      ]
     },
     "execution_count": 9,
     "metadata": {},
     "output_type": "execute_result"
    }
   ],
   "source": [
    "twitr_tokens"
   ]
  },
  {
   "cell_type": "code",
   "execution_count": 10,
   "metadata": {
    "Collapsed": "false"
   },
   "outputs": [
    {
     "data": {
      "text/plain": [
       "sid               RT_level\n",
       "3703569989511011  1           [第一段, ：, 经常, 上, 天涯, 看, （, 婆媳, 大战, 、, 母子, 关系, 、...\n",
       "3694122940089227  3           [呵呵, ，, 你, 不会, 以为, 中国, 搜寻, 飞机, 是从, 中国, 起飞, 的, ...\n",
       "3745219256257320  2           [早晚, 的, 事, ，, 但, 他, 忽视, 了, 一个, 重要, 问题, —, —, 【...\n",
       "3691292627832848  2           [呵, …, …, 有, 时间, 会, 补眠别, 担心, ，, 有, 空闲, 时间, 也, ...\n",
       "3717359665330839  2           [{TP}, 抱歉, 抱歉, ！, 昨天, 交了, 一遍, 稿, ，, 可能, 是, 半夜,...\n",
       "                                                    ...                        \n",
       "3683247063733501  2           [谢谢您, 支持, ！, 新浪, 和, 网络, 要, 奖励, 那些, 无偿, 写出, 那么,...\n",
       "3739886810577395  0           [回复, {AT}, 【, 诗歌, ：, 偶想, 】, 的, 评论, ：, \", {TP},...\n",
       "3752126586912077  0           [回复, {AT}, 对, 博文, 【, 散文, ：, 故乡, 的, 房子, 】, 的, 评...\n",
       "3741321527205730  0           [回复, {AT}, 【, 小小说, ：, 规矩, 】, 的, 评论, ：, \", {TP}...\n",
       "3710791964277578  1           [再次, 致歉, 并, 为, 您, 的, 气度, 所, 折服, ！, 从, “, 被, 获奖...\n",
       "Name: token, Length: 6226, dtype: object"
      ]
     },
     "execution_count": 10,
     "metadata": {},
     "output_type": "execute_result"
    }
   ],
   "source": [
    "weibo_tokens"
   ]
  },
  {
   "cell_type": "markdown",
   "metadata": {
    "Collapsed": "false"
   },
   "source": [
    "## LIWC Vectors"
   ]
  },
  {
   "cell_type": "markdown",
   "metadata": {
    "Collapsed": "false"
   },
   "source": [
    "### LIWC Term Counts"
   ]
  },
  {
   "cell_type": "code",
   "execution_count": 14,
   "metadata": {
    "Collapsed": "false"
   },
   "outputs": [],
   "source": [
    "convertToNestedDict = lambda _: {i: _.xs(i).to_dict() for i in _.index.levels[0]} # https://stackoverflow.com/a/42151082/1147061\n",
    "def convertCsvLiwcToNestedDict(csvpath = '../emoji/lexica/liwc.csv'):\n",
    "    '''\n",
    "    '''\n",
    "    liwc_df = pd.read_csv(csvpath)\n",
    "    liwc_df['ifWildcard'] = liwc_df['term'].str.endswith('*')\n",
    "    liwc_df['term'] = liwc_df['term'].str.rstrip('*')\n",
    "    _ = liwc_df.groupby(['category', 'ifWildcard']).term.unique().apply(set)\n",
    "    return convertToNestedDict(_)\n",
    "liwc_en = convertCsvLiwcToNestedDict('lexica/liwc_en.csv')\n",
    "liwc_cn = convertCsvLiwcToNestedDict('lexica/liwc_cn.csv')\n",
    "from collections import Counter\n",
    "def countTokenByList(tkns, liwc):\n",
    "    pbar.update()\n",
    "    cnts = Counter(tkns)\n",
    "    res  = dict()\n",
    "    for category, sub_dict in liwc.items():\n",
    "        res[category] = sum(cnts[i] for i in sub_dict[False].intersection(cnts)) # simple_tkns\n",
    "        if True not in sub_dict: continue\n",
    "        for j, v in cnts.items():\n",
    "            for i in sub_dict[True]: # wildcard_tkns\n",
    "                if j.startswith(i):\n",
    "                    res[category] += v\n",
    "    return pd.Series(res"
   ]
  },
  {
   "cell_type": "code",
   "execution_count": 15,
   "metadata": {
    "Collapsed": "false"
   },
   "outputs": [
    {
     "name": "stdout",
     "output_type": "stream",
     "text": [
      "Loaded 5375 entries from HDF repository!\n",
      "Loaded 6226 entries from HDF repository!\n"
     ]
    }
   ],
   "source": [
    "try:\n",
    "    twitr_liwc_cnts_df = pd.read_hdf(HDF_FPATH, 'TwtUs2014_3083+3000_liwc_cnts_df')\n",
    "    print(f'Loaded {len(twitr_liwc_cnts_df)} entries from HDF repository!')\n",
    "except:\n",
    "    print('Counting tokens for each LIWC category in each post...')\n",
    "    with tqdm(twitr_tokens) as pbar: \n",
    "        twitr_liwc_cnts_df = twitr_tokens.apply(countTokenByList, liwc=liwc_en)\n",
    "    twitr_liwc_cnts_df.to_hdf(HDF_FPATH, 'TwtUs2014_3083+3000_liwc_cnts_df')\n",
    "    print(f'Saved {len(twitr_liwc_cnts_df)} entries to HDF repository!')    \n",
    "\n",
    "try:\n",
    "    weibo_liwc_cnts_df = pd.read_hdf(HDF_FPATH, 'Weibo2014_3245+3000_liwc_cnts_df')\n",
    "    print(f'Loaded {len(weibo_liwc_cnts_df)} entries from HDF repository!')\n",
    "except:\n",
    "    print(f'Counting tokens for each LIWC category in each post...')\n",
    "    with tqdm(weibo_tokens) as pbar: \n",
    "        weibo_liwc_cnts_df = weibo_tokens.apply(countTokenByList, liwc=liwc_cn)\n",
    "    weibo_liwc_cnts_df.to_hdf(HDF_FPATH, 'Weibo2014_3245+3000_liwc_cnts_df')\n",
    "    print(f'Saved {len(weibo_liwc_cnts_df)} entries to HDF repository!')"
   ]
  },
  {
   "cell_type": "code",
   "execution_count": 17,
   "metadata": {
    "Collapsed": "false"
   },
   "outputs": [
    {
     "data": {
      "text/html": [
       "<div>\n",
       "<style scoped>\n",
       "    .dataframe tbody tr th:only-of-type {\n",
       "        vertical-align: middle;\n",
       "    }\n",
       "\n",
       "    .dataframe tbody tr th {\n",
       "        vertical-align: top;\n",
       "    }\n",
       "\n",
       "    .dataframe thead th {\n",
       "        text-align: right;\n",
       "    }\n",
       "</style>\n",
       "<table border=\"1\" class=\"dataframe\">\n",
       "  <thead>\n",
       "    <tr style=\"text-align: right;\">\n",
       "      <th></th>\n",
       "      <th>Achieve</th>\n",
       "      <th>Adj</th>\n",
       "      <th>Adverb</th>\n",
       "      <th>Affect</th>\n",
       "      <th>Affiliation</th>\n",
       "      <th>Anger</th>\n",
       "      <th>Anx</th>\n",
       "      <th>Article</th>\n",
       "      <th>Assent</th>\n",
       "      <th>Auxverb</th>\n",
       "      <th>...</th>\n",
       "      <th>Social</th>\n",
       "      <th>Space</th>\n",
       "      <th>Swear</th>\n",
       "      <th>Tentat</th>\n",
       "      <th>They</th>\n",
       "      <th>Time</th>\n",
       "      <th>Verb</th>\n",
       "      <th>We</th>\n",
       "      <th>Work</th>\n",
       "      <th>You</th>\n",
       "    </tr>\n",
       "    <tr>\n",
       "      <th>sid</th>\n",
       "      <th></th>\n",
       "      <th></th>\n",
       "      <th></th>\n",
       "      <th></th>\n",
       "      <th></th>\n",
       "      <th></th>\n",
       "      <th></th>\n",
       "      <th></th>\n",
       "      <th></th>\n",
       "      <th></th>\n",
       "      <th></th>\n",
       "      <th></th>\n",
       "      <th></th>\n",
       "      <th></th>\n",
       "      <th></th>\n",
       "      <th></th>\n",
       "      <th></th>\n",
       "      <th></th>\n",
       "      <th></th>\n",
       "      <th></th>\n",
       "      <th></th>\n",
       "    </tr>\n",
       "  </thead>\n",
       "  <tbody>\n",
       "    <tr>\n",
       "      <th>492077708252151808</th>\n",
       "      <td>0</td>\n",
       "      <td>0</td>\n",
       "      <td>2</td>\n",
       "      <td>1</td>\n",
       "      <td>0</td>\n",
       "      <td>0</td>\n",
       "      <td>0</td>\n",
       "      <td>0</td>\n",
       "      <td>0</td>\n",
       "      <td>0</td>\n",
       "      <td>...</td>\n",
       "      <td>0</td>\n",
       "      <td>1</td>\n",
       "      <td>0</td>\n",
       "      <td>0</td>\n",
       "      <td>0</td>\n",
       "      <td>2</td>\n",
       "      <td>1</td>\n",
       "      <td>0</td>\n",
       "      <td>1</td>\n",
       "      <td>0</td>\n",
       "    </tr>\n",
       "    <tr>\n",
       "      <th>484345814979203073</th>\n",
       "      <td>0</td>\n",
       "      <td>1</td>\n",
       "      <td>0</td>\n",
       "      <td>1</td>\n",
       "      <td>0</td>\n",
       "      <td>0</td>\n",
       "      <td>0</td>\n",
       "      <td>1</td>\n",
       "      <td>0</td>\n",
       "      <td>1</td>\n",
       "      <td>...</td>\n",
       "      <td>0</td>\n",
       "      <td>0</td>\n",
       "      <td>0</td>\n",
       "      <td>0</td>\n",
       "      <td>0</td>\n",
       "      <td>0</td>\n",
       "      <td>1</td>\n",
       "      <td>0</td>\n",
       "      <td>0</td>\n",
       "      <td>0</td>\n",
       "    </tr>\n",
       "    <tr>\n",
       "      <th>494326161368166400</th>\n",
       "      <td>0</td>\n",
       "      <td>0</td>\n",
       "      <td>0</td>\n",
       "      <td>1</td>\n",
       "      <td>0</td>\n",
       "      <td>0</td>\n",
       "      <td>0</td>\n",
       "      <td>0</td>\n",
       "      <td>0</td>\n",
       "      <td>0</td>\n",
       "      <td>...</td>\n",
       "      <td>0</td>\n",
       "      <td>0</td>\n",
       "      <td>0</td>\n",
       "      <td>0</td>\n",
       "      <td>0</td>\n",
       "      <td>0</td>\n",
       "      <td>0</td>\n",
       "      <td>0</td>\n",
       "      <td>0</td>\n",
       "      <td>0</td>\n",
       "    </tr>\n",
       "    <tr>\n",
       "      <th>484301971927887872</th>\n",
       "      <td>0</td>\n",
       "      <td>1</td>\n",
       "      <td>0</td>\n",
       "      <td>1</td>\n",
       "      <td>0</td>\n",
       "      <td>0</td>\n",
       "      <td>0</td>\n",
       "      <td>2</td>\n",
       "      <td>0</td>\n",
       "      <td>0</td>\n",
       "      <td>...</td>\n",
       "      <td>0</td>\n",
       "      <td>0</td>\n",
       "      <td>0</td>\n",
       "      <td>1</td>\n",
       "      <td>0</td>\n",
       "      <td>1</td>\n",
       "      <td>0</td>\n",
       "      <td>0</td>\n",
       "      <td>0</td>\n",
       "      <td>0</td>\n",
       "    </tr>\n",
       "    <tr>\n",
       "      <th>484402308092923904</th>\n",
       "      <td>0</td>\n",
       "      <td>0</td>\n",
       "      <td>0</td>\n",
       "      <td>1</td>\n",
       "      <td>1</td>\n",
       "      <td>1</td>\n",
       "      <td>0</td>\n",
       "      <td>0</td>\n",
       "      <td>0</td>\n",
       "      <td>0</td>\n",
       "      <td>...</td>\n",
       "      <td>1</td>\n",
       "      <td>0</td>\n",
       "      <td>0</td>\n",
       "      <td>1</td>\n",
       "      <td>0</td>\n",
       "      <td>1</td>\n",
       "      <td>1</td>\n",
       "      <td>0</td>\n",
       "      <td>0</td>\n",
       "      <td>0</td>\n",
       "    </tr>\n",
       "    <tr>\n",
       "      <th>...</th>\n",
       "      <td>...</td>\n",
       "      <td>...</td>\n",
       "      <td>...</td>\n",
       "      <td>...</td>\n",
       "      <td>...</td>\n",
       "      <td>...</td>\n",
       "      <td>...</td>\n",
       "      <td>...</td>\n",
       "      <td>...</td>\n",
       "      <td>...</td>\n",
       "      <td>...</td>\n",
       "      <td>...</td>\n",
       "      <td>...</td>\n",
       "      <td>...</td>\n",
       "      <td>...</td>\n",
       "      <td>...</td>\n",
       "      <td>...</td>\n",
       "      <td>...</td>\n",
       "      <td>...</td>\n",
       "      <td>...</td>\n",
       "      <td>...</td>\n",
       "    </tr>\n",
       "    <tr>\n",
       "      <th>422576337736302592</th>\n",
       "      <td>0</td>\n",
       "      <td>0</td>\n",
       "      <td>0</td>\n",
       "      <td>0</td>\n",
       "      <td>1</td>\n",
       "      <td>0</td>\n",
       "      <td>0</td>\n",
       "      <td>0</td>\n",
       "      <td>0</td>\n",
       "      <td>0</td>\n",
       "      <td>...</td>\n",
       "      <td>1</td>\n",
       "      <td>0</td>\n",
       "      <td>0</td>\n",
       "      <td>0</td>\n",
       "      <td>0</td>\n",
       "      <td>0</td>\n",
       "      <td>0</td>\n",
       "      <td>0</td>\n",
       "      <td>0</td>\n",
       "      <td>0</td>\n",
       "    </tr>\n",
       "    <tr>\n",
       "      <th>485154577453711360</th>\n",
       "      <td>0</td>\n",
       "      <td>0</td>\n",
       "      <td>1</td>\n",
       "      <td>2</td>\n",
       "      <td>1</td>\n",
       "      <td>0</td>\n",
       "      <td>0</td>\n",
       "      <td>1</td>\n",
       "      <td>0</td>\n",
       "      <td>1</td>\n",
       "      <td>...</td>\n",
       "      <td>2</td>\n",
       "      <td>0</td>\n",
       "      <td>0</td>\n",
       "      <td>0</td>\n",
       "      <td>0</td>\n",
       "      <td>0</td>\n",
       "      <td>3</td>\n",
       "      <td>0</td>\n",
       "      <td>0</td>\n",
       "      <td>1</td>\n",
       "    </tr>\n",
       "    <tr>\n",
       "      <th>487328065815449601</th>\n",
       "      <td>0</td>\n",
       "      <td>2</td>\n",
       "      <td>0</td>\n",
       "      <td>4</td>\n",
       "      <td>3</td>\n",
       "      <td>0</td>\n",
       "      <td>0</td>\n",
       "      <td>0</td>\n",
       "      <td>1</td>\n",
       "      <td>0</td>\n",
       "      <td>...</td>\n",
       "      <td>4</td>\n",
       "      <td>0</td>\n",
       "      <td>0</td>\n",
       "      <td>0</td>\n",
       "      <td>0</td>\n",
       "      <td>0</td>\n",
       "      <td>2</td>\n",
       "      <td>0</td>\n",
       "      <td>0</td>\n",
       "      <td>1</td>\n",
       "    </tr>\n",
       "    <tr>\n",
       "      <th>422496885035634688</th>\n",
       "      <td>0</td>\n",
       "      <td>2</td>\n",
       "      <td>2</td>\n",
       "      <td>3</td>\n",
       "      <td>0</td>\n",
       "      <td>0</td>\n",
       "      <td>0</td>\n",
       "      <td>0</td>\n",
       "      <td>0</td>\n",
       "      <td>2</td>\n",
       "      <td>...</td>\n",
       "      <td>1</td>\n",
       "      <td>0</td>\n",
       "      <td>0</td>\n",
       "      <td>0</td>\n",
       "      <td>0</td>\n",
       "      <td>0</td>\n",
       "      <td>4</td>\n",
       "      <td>0</td>\n",
       "      <td>0</td>\n",
       "      <td>1</td>\n",
       "    </tr>\n",
       "    <tr>\n",
       "      <th>454426594644221952</th>\n",
       "      <td>0</td>\n",
       "      <td>2</td>\n",
       "      <td>0</td>\n",
       "      <td>3</td>\n",
       "      <td>2</td>\n",
       "      <td>0</td>\n",
       "      <td>0</td>\n",
       "      <td>1</td>\n",
       "      <td>0</td>\n",
       "      <td>2</td>\n",
       "      <td>...</td>\n",
       "      <td>5</td>\n",
       "      <td>0</td>\n",
       "      <td>0</td>\n",
       "      <td>0</td>\n",
       "      <td>0</td>\n",
       "      <td>0</td>\n",
       "      <td>4</td>\n",
       "      <td>0</td>\n",
       "      <td>0</td>\n",
       "      <td>0</td>\n",
       "    </tr>\n",
       "  </tbody>\n",
       "</table>\n",
       "<p>5375 rows × 73 columns</p>\n",
       "</div>"
      ],
      "text/plain": [
       "                    Achieve  Adj  Adverb  Affect  Affiliation  Anger  Anx  \\\n",
       "sid                                                                         \n",
       "492077708252151808        0    0       2       1            0      0    0   \n",
       "484345814979203073        0    1       0       1            0      0    0   \n",
       "494326161368166400        0    0       0       1            0      0    0   \n",
       "484301971927887872        0    1       0       1            0      0    0   \n",
       "484402308092923904        0    0       0       1            1      1    0   \n",
       "...                     ...  ...     ...     ...          ...    ...  ...   \n",
       "422576337736302592        0    0       0       0            1      0    0   \n",
       "485154577453711360        0    0       1       2            1      0    0   \n",
       "487328065815449601        0    2       0       4            3      0    0   \n",
       "422496885035634688        0    2       2       3            0      0    0   \n",
       "454426594644221952        0    2       0       3            2      0    0   \n",
       "\n",
       "                    Article  Assent  Auxverb  ...  Social  Space  Swear  \\\n",
       "sid                                           ...                         \n",
       "492077708252151808        0       0        0  ...       0      1      0   \n",
       "484345814979203073        1       0        1  ...       0      0      0   \n",
       "494326161368166400        0       0        0  ...       0      0      0   \n",
       "484301971927887872        2       0        0  ...       0      0      0   \n",
       "484402308092923904        0       0        0  ...       1      0      0   \n",
       "...                     ...     ...      ...  ...     ...    ...    ...   \n",
       "422576337736302592        0       0        0  ...       1      0      0   \n",
       "485154577453711360        1       0        1  ...       2      0      0   \n",
       "487328065815449601        0       1        0  ...       4      0      0   \n",
       "422496885035634688        0       0        2  ...       1      0      0   \n",
       "454426594644221952        1       0        2  ...       5      0      0   \n",
       "\n",
       "                    Tentat  They  Time  Verb  We  Work  You  \n",
       "sid                                                          \n",
       "492077708252151808       0     0     2     1   0     1    0  \n",
       "484345814979203073       0     0     0     1   0     0    0  \n",
       "494326161368166400       0     0     0     0   0     0    0  \n",
       "484301971927887872       1     0     1     0   0     0    0  \n",
       "484402308092923904       1     0     1     1   0     0    0  \n",
       "...                    ...   ...   ...   ...  ..   ...  ...  \n",
       "422576337736302592       0     0     0     0   0     0    0  \n",
       "485154577453711360       0     0     0     3   0     0    1  \n",
       "487328065815449601       0     0     0     2   0     0    1  \n",
       "422496885035634688       0     0     0     4   0     0    1  \n",
       "454426594644221952       0     0     0     4   0     0    0  \n",
       "\n",
       "[5375 rows x 73 columns]"
      ]
     },
     "execution_count": 17,
     "metadata": {},
     "output_type": "execute_result"
    }
   ],
   "source": [
    "twitr_liwc_cnts_df"
   ]
  },
  {
   "cell_type": "markdown",
   "metadata": {
    "Collapsed": "false"
   },
   "source": [
    "#### Simple stats (optional)"
   ]
  },
  {
   "cell_type": "code",
   "execution_count": 13,
   "metadata": {
    "Collapsed": "false"
   },
   "outputs": [
    {
     "data": {
      "image/png": "[encoded data removed]",
      "text/plain": [
       "<Figure size 1080x1080 with 1 Axes>"
      ]
     },
     "metadata": {},
     "output_type": "display_data"
    }
   ],
   "source": [
    "twitr_liwc_ifFound_df = twitr_liwc_cnts_df>0\n",
    "twitr_liwc_ifFound_vc_df = twitr_liwc_ifFound_df.apply(pd.Series.value_counts).T\n",
    "twitr_liwc_ifFound_vc_df.sort_values(True, inplace=True)\n",
    "\n",
    "weibo_liwc_ifFound_df = weibo_liwc_cnts_df>0\n",
    "weibo_liwc_ifFound_vc_df = weibo_liwc_ifFound_df.apply(pd.Series.value_counts).T\n",
    "weibo_liwc_ifFound_vc_df.sort_values(True, inplace=True)\n",
    "\n",
    "liwc_ifFound_ratio_df = pd.DataFrame({\n",
    "    'weibo': ((weibo_liwc_cnts_df>0).sum()/len(weibo_liwc_cnts_df)),\n",
    "    'twitr': ((twitr_liwc_cnts_df>0).sum()/len(twitr_liwc_cnts_df)),})\n",
    "liwc_ifFound_ratio_df = liwc_ifFound_ratio_df.reindex(liwc_ifFound_ratio_df.T.mean().sort_values().index)\n",
    "liwc_ifFound_ratio_df.plot.barh(figsize=(15,15), title='Fraction of All Posts Having At Least One Token in Each LIWC Category');"
   ]
  },
  {
   "cell_type": "markdown",
   "metadata": {
    "Collapsed": "false"
   },
   "source": [
    "### Convert LIWC term counts into TF-IDF"
   ]
  },
  {
   "cell_type": "code",
   "execution_count": 14,
   "metadata": {
    "Collapsed": "false"
   },
   "outputs": [
    {
     "name": "stdout",
     "output_type": "stream",
     "text": [
      "Computing TF-IDF from LIWC counts...\n",
      "Saved 5375 entries to HDF repository!\n"
     ]
    },
    {
     "name": "stderr",
     "output_type": "stream",
     "text": [
      "/home/myli/miniconda3/envs/main/lib/python3.7/site-packages/tables/path.py:155: NaturalNameWarning: object name is not a valid Python identifier: 'TwtUs2014_3083+3000_liwc_tfidf_df'; it does not match the pattern ``^[a-zA-Z_][a-zA-Z0-9_]*$``; you will not be able to use natural naming to access this object; using ``getattr()`` will still work, though\n",
      "  check_attribute_name(name)\n"
     ]
    }
   ],
   "source": [
    "try:\n",
    "    twitr_liwc_tfidf_df = pd.read_hdf(HDF_FPATH, 'TwtUs2014_3083+3000_liwc_tfidf_df')\n",
    "    print(f'Loaded {len(twitr_liwc_tfidf_df)} entries from HDF repository!')\n",
    "except:\n",
    "    print(f'Computing TF-IDF from LIWC counts...')\n",
    "    twitr_num_tokens      = twitr_tokens.apply(len)\n",
    "    twitr_liwc_tfs_df     = (twitr_liwc_cnts_df.T/twitr_num_tokens).T\n",
    "    twitr_liwc_ifFound_df = twitr_liwc_cnts_df>0\n",
    "    twitr_liwc_idfs       = np.log(len(twitr_tokens) / (twitr_liwc_ifFound_df).sum())\n",
    "    twitr_liwc_tfidf_df   = twitr_liwc_tfs_df*twitr_liwc_idfs\n",
    "    twitr_liwc_tfidf_df.to_hdf(HDF_FPATH, 'TwtUs2014_3083+3000_liwc_tfidf_df')\n",
    "    print(f'Saved {len(twitr_liwc_tfidf_df)} entries to HDF repository!') "
   ]
  },
  {
   "cell_type": "code",
   "execution_count": 15,
   "metadata": {
    "Collapsed": "false"
   },
   "outputs": [
    {
     "name": "stdout",
     "output_type": "stream",
     "text": [
      "Computing TF-IDF from LIWC counts...\n",
      "Saved 6226 entries to HDF repository!\n"
     ]
    },
    {
     "name": "stderr",
     "output_type": "stream",
     "text": [
      "/home/myli/miniconda3/envs/main/lib/python3.7/site-packages/tables/path.py:155: NaturalNameWarning: object name is not a valid Python identifier: 'Weibo2014_3245+3000_liwc_tfidf_df'; it does not match the pattern ``^[a-zA-Z_][a-zA-Z0-9_]*$``; you will not be able to use natural naming to access this object; using ``getattr()`` will still work, though\n",
      "  check_attribute_name(name)\n"
     ]
    }
   ],
   "source": [
    "try:\n",
    "    weibo_liwc_tfidf_df = pd.read_hdf(HDF_FPATH, 'Weibo2014_3245+3000_liwc_tfidf_df')\n",
    "    print(f'Loaded {len(weibo_liwc_tfidf_df)} entries from HDF repository!')\n",
    "except:\n",
    "    print(f'Computing TF-IDF from LIWC counts...')\n",
    "    weibo_num_tokens      = weibo_tokens.apply(len)\n",
    "    weibo_liwc_tfs_df     = (weibo_liwc_cnts_df.T/weibo_num_tokens).T\n",
    "    weibo_liwc_ifFound_df = weibo_liwc_cnts_df>0\n",
    "    weibo_liwc_idfs       = np.log(len(weibo_tokens) / (weibo_liwc_ifFound_df).sum())\n",
    "    weibo_liwc_tfidf_df   = weibo_liwc_tfs_df*weibo_liwc_idfs\n",
    "    weibo_liwc_tfidf_df.to_hdf(HDF_FPATH, 'Weibo2014_3245+3000_liwc_tfidf_df')\n",
    "    print(f'Saved {len(weibo_liwc_tfidf_df)} entries to HDF repository!') "
   ]
  },
  {
   "cell_type": "markdown",
   "metadata": {
    "Collapsed": "false"
   },
   "source": [
    "#### Simple stats (optional)"
   ]
  },
  {
   "cell_type": "code",
   "execution_count": 16,
   "metadata": {
    "Collapsed": "false"
   },
   "outputs": [],
   "source": [
    "# liwc term counts:\n",
    "countLiwcTermsInEachCtgy = lambda d: pd.Series({k: len(v[False])+(len(v[True]) if True in v else 0) for k, v in d.items()})\n",
    "liwc_cn_termCnts = countLiwcTermsInEachCtgy(liwc_cn).rename('weibo')\n",
    "liwc_en_termCnts = countLiwcTermsInEachCtgy(liwc_en).rename('twitr')"
   ]
  },
  {
   "cell_type": "code",
   "execution_count": 17,
   "metadata": {
    "Collapsed": "false"
   },
   "outputs": [
    {
     "data": {
      "image/png": "[encoded data removed]",
      "text/plain": [
       "<Figure size 1080x1080 with 1 Axes>"
      ]
     },
     "metadata": {},
     "output_type": "display_data"
    }
   ],
   "source": [
    "# liwc TF-IDF ratiostwitr_token_cnts:\n",
    "liwc_tfidf_ratio_df = pd.DataFrame({\n",
    "    'weibo': (weibo_liwc_tfidf_df.sum()/len(weibo_liwc_cnts_df)),\n",
    "    'twitr': (twitr_liwc_tfidf_df.sum()/len(twitr_liwc_cnts_df)),})\n",
    "liwc_tfidf_ratio_df = liwc_tfidf_ratio_df.reindex(liwc_tfidf_ratio_df.T.mean().sort_values().index)\n",
    "liwc_tfidf_ratio_df.plot.barh(figsize=(15,15));"
   ]
  },
  {
   "cell_type": "markdown",
   "metadata": {
    "Collapsed": "false"
   },
   "source": [
    "## EmoLex"
   ]
  },
  {
   "cell_type": "code",
   "execution_count": 18,
   "metadata": {
    "Collapsed": "false"
   },
   "outputs": [],
   "source": [
    "# Load NRC lexicon:\n",
    "nrc_df = pd.read_csv('lexica/nrc_selected.csv')\n",
    "# Split by language:\n",
    "nrc_cn_df = nrc_df.drop_duplicates('zh').drop(['en', 'ja'], axis=1).set_index('zh').astype(bool)\n",
    "nrc_en_df = nrc_df.drop_duplicates('en').drop(['zh', 'ja'], axis=1).set_index('en').astype(bool)\n",
    "# Count tokens (this is also needed for PoliteLex):\n",
    "twitr_token_cnts = twitr_tokens.apply(Counter)\n",
    "weibo_token_cnts = weibo_tokens.apply(Counter)\n",
    "\n",
    "def countEmoLex(cnts, nrc_df=nrc_en_df):\n",
    "    pbar.update()\n",
    "    cnts = pd.Series(cnts)\n",
    "    return (nrc_df.reindex(cnts.index).T*cnts).T.sum().astype(int)"
   ]
  },
  {
   "cell_type": "markdown",
   "metadata": {
    "Collapsed": "false"
   },
   "source": [
    "### Actual Work"
   ]
  },
  {
   "cell_type": "code",
   "execution_count": 19,
   "metadata": {
    "Collapsed": "false"
   },
   "outputs": [
    {
     "name": "stderr",
     "output_type": "stream",
     "text": [
      "  0%|          | 11/5375 [00:00<00:48, 109.64it/s]"
     ]
    },
    {
     "name": "stdout",
     "output_type": "stream",
     "text": [
      "Computing EmoLex counts...\n"
     ]
    },
    {
     "name": "stderr",
     "output_type": "stream",
     "text": [
      "100%|██████████| 5375/5375 [00:57<00:00, 93.37it/s] \n",
      "/home/myli/miniconda3/envs/main/lib/python3.7/site-packages/tables/path.py:155: NaturalNameWarning: object name is not a valid Python identifier: 'TwtUs2014_3083+3000_nrc_cnts_df'; it does not match the pattern ``^[a-zA-Z_][a-zA-Z0-9_]*$``; you will not be able to use natural naming to access this object; using ``getattr()`` will still work, though\n",
      "  check_attribute_name(name)\n",
      "  0%|          | 6/6226 [00:00<02:05, 49.49it/s]"
     ]
    },
    {
     "name": "stdout",
     "output_type": "stream",
     "text": [
      "Saved 5375 entries to HDF repository!\n",
      "Computing EmoLex counts...\n"
     ]
    },
    {
     "name": "stderr",
     "output_type": "stream",
     "text": [
      "100%|██████████| 6226/6226 [01:47<00:00, 58.14it/s]"
     ]
    },
    {
     "name": "stdout",
     "output_type": "stream",
     "text": [
      "Saved 6226 entries to HDF repository!\n"
     ]
    },
    {
     "name": "stderr",
     "output_type": "stream",
     "text": [
      "\n",
      "/home/myli/miniconda3/envs/main/lib/python3.7/site-packages/tables/path.py:155: NaturalNameWarning: object name is not a valid Python identifier: 'Weibo2014_3245+3000_nrc_cnts_df'; it does not match the pattern ``^[a-zA-Z_][a-zA-Z0-9_]*$``; you will not be able to use natural naming to access this object; using ``getattr()`` will still work, though\n",
      "  check_attribute_name(name)\n"
     ]
    }
   ],
   "source": [
    "try:\n",
    "    twitr_nrc_cnts_df = pd.read_hdf(HDF_FPATH, 'TwtUs2014_3083+3000_nrc_cnts_df')\n",
    "    print(f'Loaded {len(twitr_nrc_cnts_df)} entries from HDF repository!')\n",
    "except:\n",
    "    print(f'Computing EmoLex counts...')\n",
    "    with tqdm(twitr_token_cnts) as pbar:\n",
    "        twitr_nrc_cnts_df = twitr_token_cnts.apply(countEmoLex, nrc_df=nrc_en_df)\n",
    "    twitr_nrc_cnts_df.to_hdf(HDF_FPATH, 'TwtUs2014_3083+3000_nrc_cnts_df')\n",
    "    print(f'Saved {len(twitr_nrc_cnts_df)} entries to HDF repository!')     \n",
    "\n",
    "try:\n",
    "    weibo_nrc_cnts_df = pd.read_hdf(HDF_FPATH, 'Weibo2014_3245+3000_nrc_cnts_df')\n",
    "    print(f'Loaded {len(weibo_nrc_cnts_df)} entries from HDF repository!')\n",
    "except:\n",
    "    print(f'Computing EmoLex counts...')\n",
    "    with tqdm(weibo_token_cnts) as pbar:\n",
    "        weibo_nrc_cnts_df = weibo_token_cnts.apply(countEmoLex, nrc_df=nrc_cn_df)\n",
    "    weibo_nrc_cnts_df.to_hdf(HDF_FPATH, 'Weibo2014_3245+3000_nrc_cnts_df')    \n",
    "    print(f'Saved {len(weibo_nrc_cnts_df)} entries to HDF repository!')     "
   ]
  },
  {
   "cell_type": "markdown",
   "metadata": {
    "Collapsed": "false"
   },
   "source": [
    "## My Politeness Strategies: PoliteLex"
   ]
  },
  {
   "cell_type": "code",
   "execution_count": 20,
   "metadata": {
    "Collapsed": "false"
   },
   "outputs": [],
   "source": [
    "def extractFeaturesFromCorpus(texts, token_cnts, rule_lang='rule_en'):\n",
    "    rules = my_rules_df[rule_lang]\n",
    "    liwc_rules = rules.str.startswith('liwc_')==True\n",
    "    feature_definitions = rules[~liwc_rules].to_dict()\n",
    "    def extractFeaturesFromDocument(r):\n",
    "        pbar.update()\n",
    "        def _extractFeature(feature_definition, r):\n",
    "            s = r.text\n",
    "            cnts = r.tkns\n",
    "            if type(feature_definition) is set:\n",
    "                return sum(cnts[keyword] if keyword in cnts else 0 for keyword in feature_definition) # cnts[keyword] if keyword in cnts else 0\n",
    "            elif type(feature_definition) is re.Pattern:\n",
    "                return len(feature_definition.findall(s))\n",
    "            else:\n",
    "                raise TypeError('Feature definition handler not defined.')\n",
    "        return pd.Series({feature_name: _extractFeature(feature_definition, r) for feature_name, feature_definition in feature_definitions.items()})\n",
    "    with tqdm(texts) as pbar:\n",
    "        my_feats_df = pd.DataFrame({'text': texts, 'tkns': token_cnts}).apply(extractFeaturesFromDocument, axis=1)\n",
    "        liwc_ctgys_to_include = rules[liwc_rules]\n",
    "        if len(liwc_ctgys_to_include)>0:\n",
    "            liwc_vecs_to_include_df = liwc_vecs_df[liwc_ctgys_to_include.str[5:]]>0\n",
    "            liwc_vecs_to_include_df.columns = liwc_ctgys_to_include\n",
    "            my_feats_df = pd.concat([my_feats_df, liwc_vecs_to_include_df], axis=1, sort=False)\n",
    "    return my_feats_df\n",
    "\n",
    "### Load and Parse the Feature Definitions\n",
    "\n",
    "import re\n",
    "set_of_hedges_en = {\"almost\", \"apparent\", \"apparently\", \"appear\", \"appeared\", \"appears\", \"approximately\", \"argue\", \"argued\", \"argues\", \"around\", \"assume\", \"assumed\", \"broadly\", \"certain amount\", \"certain extent\", \"certain level\", \"claim\", \"claimed\", \"claims\", \"doubt\", \"doubtful\", \"essentially\", \"estimate\", \"estimated\", \"fairly\", \"feel\", \"feels\", \"felt\", \"frequently\", \"from my perspective\", \"from our perspective\", \"from this perspective\", \"generally\", \"guess\", \"in general\", \"in most cases\", \"in most instances\", \"in my opinion\", \"in my view\", \"in our opinion\", \"in our view\", \"in this view\", \"indicate\", \"indicated\", \"indicates\", \"largely\", \"likely\", \"mainly\", \"may\", \"maybe\", \"might\", \"mostly\", \"often\", \"on the whole\", \"ought\", \"perhaps\", \"plausible\", \"plausibly\", \"possible\", \"possibly\", \"postulate\", \"postulated\", \"postulates\", \"presumable\", \"presumably\", \"probable\", \"probably\", \"quite\", \"rather\", \"relatively\", \"roughly\", \"seems\", \"should\", \"sometimes\", \"somewhat\", \"suggest\", \"suggested\", \"suggests\", \"suppose\", \"supposed\", \"supposes\", \"suspect\", \"suspects\", \"tend to\", \"tended to\", \"tends to\", \"think\", \"thinking\", \"thought\", \"to my knowledge\", \"typical\", \"typically\", \"uncertain\", \"uncertainly\", \"unclear\", \"unclearly\", \"unlikely\", \"usually\"}\n",
    "set_of_hedges_cn = {'可', '可以', '能', '不能', '应', '应该', '需', '会', '不回', '将', '一些', '几乎', '上下', '左右', '尽可能', '多', '少数', '多数', '验证', '按时', '表明', '推测', '判断', '猜测', '猜', '估计', '大概', '没准', '也许', '或许', '或者', '可能', '似乎', '说不定', '少许', '稍微', '一点儿', '一点', '一丁点', '一丁点儿', '稍稍', '少量'}\n",
    "set_of_taboo_cn  = {'米田共', '屁', '屎', '屌', '粪', '尿', '死'}\n",
    "set_of_namecalling_cn = set('白目,白痴,人渣,王八蛋,怪胎,孬种,畜生,淫妇,混蛋,混蛋,魂淡,龟孙,笨蛋,智障,傻瓜,蠢猪,蠢狗,傻狗,窝囊废,废物,泼妇,骚货,骚逼,贱人,贱货,荡妇,杂种,坏蛋,烂货,傻帽,250,贰佰伍,二货,2B,二百五,SB,傻逼,傻B,煞笔,沙比,混账,婊子,脑残'.split(','))\n",
    "set_of_swearfiller_cn = set('拷,靠,操,艹,草,cao,我擦,擦嘞,干,呸,夭寿,他妈,他妹的,你妈,你妹,nm,tm,去你的,他奶奶的,tnnd,妈蛋,妈的,md,该死,靠背,靠杯'.split(','))\n",
    "set_of_taboo_cn  = set_of_taboo_cn | set_of_namecalling_cn | set_of_swearfiller_cn\n",
    "set_of_taboo_en  = {\"4r5e\", \"5h1t\", \"5hit\", \"a55\", \"anal\", \"anus\", \"ar5e\", \"arrse\", \"arse\", \"ass\", \"ass-fucker\", \"asses\", \"assfucker\", \"assfukka\", \"asshole\", \"assholes\", \"asswhole\", \"a_s_s\", \"b!tch\", \"b00bs\", \"b17ch\", \"b1tch\", \"ballbag\", \"balls\", \"ballsack\", \"bastard\", \"beastial\", \"beastiality\", \"bellend\", \"bestial\", \"bestiality\", \"bi+ch\", \"biatch\", \"bitch\", \"bitcher\", \"bitchers\", \"bitches\", \"bitchin\", \"bitching\", \"bloody\", \"blow job\", \"blowjob\", \"blowjobs\", \"boiolas\", \"bollock\", \"bollok\", \"boner\", \"boob\", \"boobs\", \"booobs\", \"boooobs\", \"booooobs\", \"booooooobs\", \"breasts\", \"buceta\", \"bugger\", \"bum\", \"bunny fucker\", \"butt\", \"butthole\", \"buttmuch\", \"buttplug\", \"c0ck\", \"c0cksucker\", \"carpet muncher\", \"cawk\", \"chink\", \"cipa\", \"cl1t\", \"clit\", \"clitoris\", \"clits\", \"cnut\", \"cock\", \"cock-sucker\", \"cockface\", \"cockhead\", \"cockmunch\", \"cockmuncher\", \"cocks\", \"cocksuck\", \"cocksucked\", \"cocksucker\", \"cocksucking\", \"cocksucks\", \"cocksuka\", \"cocksukka\", \"cok\", \"cokmuncher\", \"coksucka\", \"coon\", \"cox\", \"crap\", \"cum\", \"cummer\", \"cumming\", \"cums\", \"cumshot\", \"cunilingus\", \"cunillingus\", \"cunnilingus\", \"cunt\", \"cuntlick\", \"cuntlicker\", \"cuntlicking\", \"cunts\", \"cyalis\", \"cyberfuc\", \"cyberfuck\", \"cyberfucked\", \"cyberfucker\", \"cyberfuckers\", \"cyberfucking\", \"d1ck\", \"damn\", \"dick\", \"dickhead\", \"dildo\", \"dildos\", \"dink\", \"dinks\", \"dirsa\", \"dlck\", \"dog-fucker\", \"doggin\", \"dogging\", \"donkeyribber\", \"doosh\", \"duche\", \"dyke\", \"ejaculate\", \"ejaculated\", \"ejaculates\", \"ejaculating\", \"ejaculatings\", \"ejaculation\", \"ejakulate\", \"f u c k\", \"f u c k e r\", \"f4nny\", \"fag\", \"fagging\", \"faggitt\", \"faggot\", \"faggs\", \"fagot\", \"fagots\", \"fags\", \"fanny\", \"fannyflaps\", \"fannyfucker\", \"fanyy\", \"fatass\", \"fcuk\", \"fcuker\", \"fcuking\", \"feck\", \"fecker\", \"felching\", \"fellate\", \"fellatio\", \"fingerfuck\", \"fingerfucked\", \"fingerfucker\", \"fingerfuckers\", \"fingerfucking\", \"fingerfucks\", \"fistfuck\", \"fistfucked\", \"fistfucker\", \"fistfuckers\", \"fistfucking\", \"fistfuckings\", \"fistfucks\", \"flange\", \"fook\", \"fooker\", \"fuck\", \"fucka\", \"fucked\", \"fucker\", \"fuckers\", \"fuckhead\", \"fuckheads\", \"fuckin\", \"fucking\", \"fuckings\", \"fuckingshitmotherfucker\", \"fuckme\", \"fucks\", \"fuckwhit\", \"fuckwit\", \"fudge packer\", \"fudgepacker\", \"fuk\", \"fuker\", \"fukker\", \"fukkin\", \"fuks\", \"fukwhit\", \"fukwit\", \"fux\", \"fux0r\", \"f_u_c_k\", \"gangbang\", \"gangbanged\", \"gangbangs\", \"gaylord\", \"gaysex\", \"goatse\", \"God\", \"god-dam\", \"god-damned\", \"goddamn\", \"goddamned\", \"hardcoresex\", \"hell\", \"heshe\", \"hoar\", \"hoare\", \"hoer\", \"homo\", \"hore\", \"horniest\", \"horny\", \"hotsex\", \"jack-off\", \"jackoff\", \"jap\", \"jerk-off\", \"jism\", \"jiz\", \"jizm\", \"jizz\", \"kawk\", \"knob\", \"knobead\", \"knobed\", \"knobend\", \"knobhead\", \"knobjocky\", \"knobjokey\", \"kock\", \"kondum\", \"kondums\", \"kum\", \"kummer\", \"kumming\", \"kums\", \"kunilingus\", \"l3i+ch\", \"l3itch\", \"labia\", \"lmfao\", \"lust\", \"lusting\", \"m0f0\", \"m0fo\", \"m45terbate\", \"ma5terb8\", \"ma5terbate\", \"masochist\", \"master-bate\", \"masterb8\", \"masterbat*\", \"masterbat3\", \"masterbate\", \"masterbation\", \"masterbations\", \"masturbate\", \"mo-fo\", \"mof0\", \"mofo\", \"mothafuck\", \"mothafucka\", \"mothafuckas\", \"mothafuckaz\", \"mothafucked\", \"mothafucker\", \"mothafuckers\", \"mothafuckin\", \"mothafucking\", \"mothafuckings\", \"mothafucks\", \"mother fucker\", \"motherfuck\", \"motherfucked\", \"motherfucker\", \"motherfuckers\", \"motherfuckin\", \"motherfucking\", \"motherfuckings\", \"motherfuckka\", \"motherfucks\", \"muff\", \"mutha\", \"muthafecker\", \"muthafuckker\", \"muther\", \"mutherfucker\", \"n1gga\", \"n1gger\", \"nazi\", \"nigg3r\", \"nigg4h\", \"nigga\", \"niggah\", \"niggas\", \"niggaz\", \"nigger\", \"niggers\", \"nob\", \"nob jokey\", \"nobhead\", \"nobjocky\", \"nobjokey\", \"numbnuts\", \"nutsack\", \"orgasim\", \"orgasims\", \"orgasm\", \"orgasms\", \"p0rn\", \"pawn\", \"pecker\", \"penis\", \"penisfucker\", \"phonesex\", \"phuck\", \"phuk\", \"phuked\", \"phuking\", \"phukked\", \"phukking\", \"phuks\", \"phuq\", \"pigfucker\", \"pimpis\", \"piss\", \"pissed\", \"pisser\", \"pissers\", \"pisses\", \"pissflaps\", \"pissin\", \"pissing\", \"pissoff\", \"poop\", \"porn\", \"porno\", \"pornography\", \"pornos\", \"prick\", \"pricks\", \"pron\", \"pube\", \"pusse\", \"pussi\", \"pussies\", \"pussy\", \"pussys\", \"rectum\", \"retard\", \"rimjaw\", \"rimming\", \"s hit\", \"s.o.b.\", \"sadist\", \"schlong\", \"screwing\", \"scroat\", \"scrote\", \"scrotum\", \"semen\", \"sex\", \"sh!+\", \"sh!t\", \"sh1t\", \"shag\", \"shagger\", \"shaggin\", \"shagging\", \"shemale\", \"shi+\", \"shit\", \"shitdick\", \"shite\", \"shited\", \"shitey\", \"shitfuck\", \"shitfull\", \"shithead\", \"shiting\", \"shitings\", \"shits\", \"shitted\", \"shitter\", \"shitters\", \"shitting\", \"shittings\", \"shitty\", \"skank\", \"slut\", \"sluts\", \"smegma\", \"smut\", \"snatch\", \"son-of-a-bitch\", \"spac\", \"spunk\", \"s_h_i_t\", \"t1tt1e5\", \"t1tties\", \"teets\", \"teez\", \"testical\", \"testicle\", \"tit\", \"titfuck\", \"tits\", \"titt\", \"tittie5\", \"tittiefucker\", \"titties\", \"tittyfuck\", \"tittywank\", \"titwank\", \"tosser\", \"turd\", \"tw4t\", \"twat\", \"twathead\", \"twatty\", \"twunt\", \"twunter\", \"v14gra\", \"v1gra\", \"vagina\", \"viagra\", \"vulva\", \"w00se\", \"wang\", \"wank\", \"wanker\", \"wanky\", \"whoar\", \"whore\", \"willies\", \"willy\", \"xrated\", \"xxx\"} # https://gist.github.com/jamiew/1112488\n",
    "set_of_wishes_en = re.compile(r\"(wish|hope) (you|y'all|everyone)\")#(have a (nice|good|great|excellent|wonderful) (day|night|time|week|year)|(wish|hope) you have|best wishes)')\n",
    "set_of_praise_en = set('awesome,outstanding,excellent,great,good,neat,remarkable,fantastic,super,beautiful,bravo,incredible'.split(','))\n",
    "set_of_emergency_en = set('right now,rn,as soon as possible,asap,immediately,hurry up,straightaway,at once'.split(','))\n",
    "\n",
    "lexicon_raw_df = pd.read_csv('PoliteLex.csv')\n",
    "lexicon_desc_df = lexicon_raw_df.drop(['rule_cn', 'rule_en'], axis=1).set_index('name')\n",
    "my_rules_df = lexicon_raw_df[['name', 'rule_cn', 'rule_en']].set_index('name')\n",
    "def pythonize(rule):\n",
    "    if rule.startswith('re.compile(r'): return re.compile(rule[len('re.compile(r\"'):-2])\n",
    "    elif rule.startswith('liwc_'): return rule\n",
    "    return eval(rule)\n",
    "my_rules_df = my_rules_df.applymap(pythonize)"
   ]
  },
  {
   "cell_type": "markdown",
   "metadata": {
    "Collapsed": "false"
   },
   "source": [
    "### Actual Work"
   ]
  },
  {
   "cell_type": "code",
   "execution_count": 21,
   "metadata": {
    "Collapsed": "false"
   },
   "outputs": [
    {
     "name": "stderr",
     "output_type": "stream",
     "text": [
      "  0%|          | 0/6226 [00:00<?, ?it/s]"
     ]
    },
    {
     "name": "stdout",
     "output_type": "stream",
     "text": [
      "Computing PoliteLex counts...\n"
     ]
    },
    {
     "name": "stderr",
     "output_type": "stream",
     "text": [
      "100%|██████████| 6226/6226 [00:12<00:00, 481.80it/s]\n",
      "/home/myli/miniconda3/envs/main/lib/python3.7/site-packages/tables/path.py:155: NaturalNameWarning: object name is not a valid Python identifier: 'Weibo2014_3245+3000_polite_cnts_df'; it does not match the pattern ``^[a-zA-Z_][a-zA-Z0-9_]*$``; you will not be able to use natural naming to access this object; using ``getattr()`` will still work, though\n",
      "  check_attribute_name(name)\n",
      "  1%|          | 50/5375 [00:00<00:10, 497.22it/s]"
     ]
    },
    {
     "name": "stdout",
     "output_type": "stream",
     "text": [
      "Saved 6226 entries to HDF repository!\n",
      "Computing PoliteLex counts...\n"
     ]
    },
    {
     "name": "stderr",
     "output_type": "stream",
     "text": [
      "5376it [00:11, 458.58it/s]                          "
     ]
    },
    {
     "name": "stdout",
     "output_type": "stream",
     "text": [
      "Saved 5375 entries to HDF repository!\n"
     ]
    },
    {
     "name": "stderr",
     "output_type": "stream",
     "text": [
      "\n",
      "/home/myli/miniconda3/envs/main/lib/python3.7/site-packages/tables/path.py:155: NaturalNameWarning: object name is not a valid Python identifier: 'TwtUs2014_3083+3000_polite_cnts_df'; it does not match the pattern ``^[a-zA-Z_][a-zA-Z0-9_]*$``; you will not be able to use natural naming to access this object; using ``getattr()`` will still work, though\n",
      "  check_attribute_name(name)\n"
     ]
    }
   ],
   "source": [
    "try:\n",
    "    weibo_my_feats_df = pd.read_hdf(HDF_FPATH, 'Weibo2014_3245+3000_polite_cnts_df')\n",
    "    print(f'Loaded {len(weibo_my_feats_df)} entries from HDF repository!')\n",
    "except:\n",
    "    print(f'Computing PoliteLex counts...')\n",
    "    weibo_texts = weibo_tokens.apply(''.join).str.replace(' ', '').replace(r'\\{[A-Z]{2}\\}', '.', regex=True)\n",
    "    weibo_my_feats_df = extractFeaturesFromCorpus(weibo_texts, weibo_token_cnts, rule_lang='rule_cn')\n",
    "    weibo_my_feats_df.to_hdf(HDF_FPATH, 'Weibo2014_3245+3000_polite_cnts_df')\n",
    "    print(f'Saved {len(weibo_my_feats_df)} entries to HDF repository!') \n",
    "    \n",
    "try:\n",
    "    twitr_my_feats_df = pd.read_hdf(HDF_FPATH, 'TwtUs2014_3083+3000_polite_cnts_df')\n",
    "    print(f'Loaded {len(twitr_my_feats_df)} entries from HDF repository!')\n",
    "except:\n",
    "    print(f'Computing PoliteLex counts...')\n",
    "    twitr_texts = twitr_tokens.apply(' '.join).str.replace(r' ?</?[a-z]*> ?', '.', regex=True).str.replace('rt.:', '').replace('#', '')\n",
    "    twitr_my_feats_df = extractFeaturesFromCorpus(twitr_texts, twitr_token_cnts, rule_lang='rule_en')\n",
    "    twitr_my_feats_df.to_hdf(HDF_FPATH, 'TwtUs2014_3083+3000_polite_cnts_df')\n",
    "    print(f'Saved {len(twitr_my_feats_df)} entries to HDF repository!') "
   ]
  },
  {
   "cell_type": "markdown",
   "metadata": {
    "Collapsed": "false"
   },
   "source": [
    "# How big is all the lexcical vectors DataFrames combined?"
   ]
  },
  {
   "cell_type": "code",
   "execution_count": 22,
   "metadata": {
    "Collapsed": "false"
   },
   "outputs": [
    {
     "name": "stderr",
     "output_type": "stream",
     "text": [
      "/home/myli/miniconda3/envs/main/lib/python3.7/site-packages/tables/path.py:155: NaturalNameWarning: object name is not a valid Python identifier: 'TwtUs2014_3083+3000_liwc_cnts_df'; it does not match the pattern ``^[a-zA-Z_][a-zA-Z0-9_]*$``; you will not be able to use natural naming to access this object; using ``getattr()`` will still work, though\n",
      "  check_attribute_name(name)\n"
     ]
    }
   ],
   "source": [
    "keys = [\n",
    "    'TwtUs2014_3083+3000_liwc_cnts_df',\n",
    "    'Weibo2014_3245+3000_liwc_cnts_df',\n",
    "    'TwtUs2014_3083+3000_nrc_cnts_df',\n",
    "    'Weibo2014_3245+3000_nrc_cnts_df',\n",
    "    'TwtUs2014_3083+3000_polite_cnts_df',\n",
    "    'Weibo2014_3245+3000_polite_cnts_df',\n",
    "]\n",
    "for key in keys:\n",
    "    pd.read_hdf(HDF_FPATH, key).to_hdf('lexical_vecs_dfs.hdf', key)"
   ]
  },
  {
   "cell_type": "code",
   "execution_count": 23,
   "metadata": {
    "Collapsed": "false"
   },
   "outputs": [
    {
     "name": "stdout",
     "output_type": "stream",
     "text": [
      "16M lexical_vecs_dfs.hdf\n"
     ]
    }
   ],
   "source": [
    "!ls -sh lexical_vecs_dfs.hdf"
   ]
  }
 ],
 "metadata": {
  "kernelspec": {
   "display_name": "Python 3",
   "language": "python",
   "name": "python3"
  },
  "language_info": {
   "codemirror_mode": {
    "name": "ipython",
    "version": 3
   },
   "file_extension": ".py",
   "mimetype": "text/x-python",
   "name": "python",
   "nbconvert_exporter": "python",
   "pygments_lexer": "ipython3",
   "version": "3.7.5"
  }
 },
 "nbformat": 4,
 "nbformat_minor": 4
}
