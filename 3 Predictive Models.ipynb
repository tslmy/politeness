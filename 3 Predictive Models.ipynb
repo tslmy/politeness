{
 "cells": [
  {
   "cell_type": "code",
   "execution_count": 2,
   "metadata": {
    "Collapsed": "false"
   },
   "outputs": [],
   "source": [
    "from matplotlib import font_manager as fm\n",
    "font_cn = fm.FontProperties(fname='fonts/SourceHanSansSC-Normal.otf')\n",
    "font_cn.set_weight = 'normal'\n",
    "from matplotlib import pyplot as plt\n",
    "%matplotlib inline\n",
    "plt.style.use('ggplot')\n",
    "\n",
    "import pandas as pd\n",
    "import seaborn as sns\n",
    "from tqdm import tqdm\n",
    "from collections import defaultdict, Counter\n",
    "scores = defaultdict(dict)\n",
    "\n",
    "from sklearn.metrics import roc_curve\n",
    "from sklearn.model_selection import train_test_split\n",
    "from sklearn.svm import SVC\n",
    "from sklearn.model_selection import GridSearchCV\n",
    "from sklearn.metrics import accuracy_score\n",
    "from sklearn.metrics import classification_report\n",
    "\n",
    "# constants:\n",
    "HDF_FPATH = 'Stanford_politeness_corpus/fromJson.hdf'\n",
    "params = {'kernel':('linear',), 'C':[0.01, 0.05, 0.1, 0.25, 0.5], 'gamma': [0.001, 0.0025, 0.005, 0.01, 0.025, 0.05, 0.1]} # Define search region\n",
    "import os, re"
   ]
  },
  {
   "cell_type": "code",
   "execution_count": 3,
   "metadata": {
    "Collapsed": "false"
   },
   "outputs": [],
   "source": [
    "# Control global random state (https://github.com/scikit-learn/scikit-learn/issues/2046#issuecomment-19173565):\n",
    "import numpy as np\n",
    "np.random.seed(42)\n",
    "import random\n",
    "random.seed(42)"
   ]
  },
  {
   "cell_type": "markdown",
   "metadata": {
    "Collapsed": "true"
   },
   "source": [
    "# On the Stanford Corpus"
   ]
  },
  {
   "cell_type": "code",
   "execution_count": 24,
   "metadata": {
    "Collapsed": "false"
   },
   "outputs": [
    {
     "name": "stdout",
     "output_type": "stream",
     "text": [
      "There are 10956 documents in the Stfd Corpus.\n",
      "There are 2739 rude posts and 2739 polite posts in Twitter.\n",
      "There are 2739 posts in each class.\n"
     ]
    }
   ],
   "source": [
    "# Load data:\n",
    "text_feats_2scores_df = pd.read_hdf(HDF_FPATH, 'text_feats_2scores_df').dropna()\n",
    "print(f'There are {len(text_feats_2scores_df)} documents in the Stfd Corpus.')\n",
    "## Split X and y:\n",
    "X = text_feats_2scores_df.drop(['text', 'score_annot', 'score_predi_stfd'], axis=1)\n",
    "y = text_feats_2scores_df['score_annot'].astype(float).sort_values()\n",
    "\n",
    "class_size = len(y)//4\n",
    "r_sids = y.head(class_size).index\n",
    "p_sids = y.tail(class_size).index\n",
    "print(f'There are {class_size} rude posts and {class_size} polite posts in Twitter.')\n",
    "# Register to main dataframe:\n",
    "text_feats_2scores_df.loc[   :  , 'label'] = None\n",
    "text_feats_2scores_df.loc[r_sids, 'label'] = -1\n",
    "text_feats_2scores_df.loc[p_sids, 'label'] =  1\n",
    "y = text_feats_2scores_df['label'].dropna().astype(int)\n",
    "X = X.reindex(y.index)\n",
    "print(f'There are {class_size} posts in each class.')\n",
    "# Split training and testing data:\n",
    "X_train, X_test, y_train, y_test = train_test_split(X, y, random_state=42, test_size=500)\n",
    "\n",
    "# By the way:\n",
    "stfd_features_df   = X.loc[:,  X.columns.str.startswith('feature_')]\n",
    "bigram_features_df = X.loc[:, ~X.columns.str.startswith('feature_')]"
   ]
  },
  {
   "cell_type": "code",
   "execution_count": 38,
   "metadata": {
    "Collapsed": "false"
   },
   "outputs": [
    {
     "data": {
      "text/plain": [
       "count    10956.000000\n",
       "mean       127.937295\n",
       "std         71.622112\n",
       "min          4.000000\n",
       "25%         78.000000\n",
       "50%        112.000000\n",
       "75%        161.000000\n",
       "max        799.000000\n",
       "Name: text, dtype: float64"
      ]
     },
     "execution_count": 38,
     "metadata": {},
     "output_type": "execute_result"
    }
   ],
   "source": [
    "text_feats_2scores_df['text'].apply(len).describe()"
   ]
  },
  {
   "cell_type": "code",
   "execution_count": 25,
   "metadata": {
    "Collapsed": "false"
   },
   "outputs": [
    {
     "data": {
      "text/plain": [
       "BIGRAM_(    1426\n",
       "feature_      21\n",
       "dtype: int64"
      ]
     },
     "execution_count": 25,
     "metadata": {},
     "output_type": "execute_result"
    }
   ],
   "source": [
    "X.columns.to_series().str[:8].value_counts()"
   ]
  },
  {
   "cell_type": "code",
   "execution_count": 26,
   "metadata": {
    "Collapsed": "false"
   },
   "outputs": [],
   "source": [
    "from sklearn.model_selection import GridSearchCV\n",
    "def trainSVM(X_cls_train=None, X_cls_test=None, X_reg_train=None, X_reg_test=None, \n",
    "             y_cls_train=None, y_cls_test=None, y_reg_train=None, y_reg_test=None, \n",
    "             task_name='temp', if_cv=True, if_classify=True, if_regress=False):\n",
    "    if if_classify:## For classification:\n",
    "        if if_cv:\n",
    "            svm_cls_gs = GridSearchCV(SVC(probability=True), params, cv=10, verbose=True, n_jobs=5) \n",
    "        else:\n",
    "            svm_cls_gs = SVC(C=0.02, kernel='linear', probability=True, random_state=42) # these are the params from the literature\n",
    "        svm_cls_gs_res = svm_cls_gs.fit(X_cls_train, y_cls_train) # Train:\n",
    "        y_cls_hat_svc  = svm_cls_gs.predict(X_cls_test          ) # Test:\n",
    "        scores['SVM_'+task_name]['accuracy'] = accuracy_score(y_true=y_cls_test, y_pred=y_cls_hat_svc)\n",
    "    if if_regress: ## For regression:\n",
    "        if if_cv:\n",
    "            svm_reg_gs = GridSearchCV(SVR(), params, cv=10, verbose=True, n_jobs=24)\n",
    "        else:\n",
    "            svm_reg_gs = SVR(C=0.02, kernel='linear') # these are the params from the literature\n",
    "        svm_reg_gs_res = svm_reg_gs.fit(X_reg_train, y_reg_train) # Train:\n",
    "        y_reg_hat_svc  = svm_reg_gs.predict(X_reg_test          ) # Test:\n",
    "        scores['SVM_'+task_name]['r2_score'] = r2_score(y_true=y_reg_test, y_pred=y_reg_hat_svc) # was 0.706 on cv=4\n",
    "    return svm_cls_gs if if_classify else None, svm_reg_gs if if_regress else y_cls_hat_svc\n",
    "\n",
    "def getMostImportantFeatures(clf, X_ofChoice, n=None):\n",
    "    weights = pd.Series(clf.coef_[0, :], index=X_ofChoice.columns)\n",
    "    index = weights.abs().sort_values(ascending=True).index.to_series()\n",
    "    if n is not None: index = index.tail(n)\n",
    "    weights_toPlot = weights.reindex(index)\n",
    "    weights_toPlot_df = pd.DataFrame({\n",
    "        'Negative': weights_toPlot.apply(lambda v: -v if v<0 else 0),\n",
    "        'Positive': weights_toPlot.apply(lambda v:  v if v>0 else 0),})\n",
    "    return weights, weights_toPlot_df\n",
    "\n",
    "def plotWeights(weights_toPlot_df, figsize=(12, 4)):\n",
    "    is_bigram = weights_toPlot_df.index.str.startswith('BIGRAM')\n",
    "    lexicals  = weights_toPlot_df[~is_bigram]\n",
    "    bigrams   = weights_toPlot_df[is_bigram].tail(len(lexicals))\n",
    "    lexi_desc = lexicals.T.sum().describe()\n",
    "    bigr_desc = bigrams.T.sum().describe()\n",
    "\n",
    "    fig, (ax1, ax2) = plt.subplots(1, 2, figsize=figsize)\n",
    "    if lexicals.index.str.startswith('feature_politeness_==').all():\n",
    "        lexicals.index = lexicals.index.str[len('feature_politeness_=='):-len('==')]\n",
    "    lexicals.plot.barh(stacked=True, ax=ax1, title='Stanford Feature Set (Grey)')\n",
    "    ax1.axvline(lexi_desc['mean'], linestyle='-', color='grey')\n",
    "    ax1.axvline(lexi_desc['25%'], linestyle=':' , color='grey')\n",
    "    ax1.axvline(lexi_desc['75%'], linestyle=':' , color='grey')\n",
    "    ax1.axvline(lexi_desc['50%'], linestyle='--', color='grey')\n",
    "    ax1.axvline(bigr_desc['mean'], linestyle='-', color='black')\n",
    "    ax1.axvline(bigr_desc['25%'], linestyle=':' , color='black')\n",
    "    ax1.axvline(bigr_desc['75%'], linestyle=':' , color='black')\n",
    "    ax1.axvline(bigr_desc['50%'], linestyle='--', color='black')\n",
    "\n",
    "    bigrams.index = bigrams.index.str[len('BIGRAM_('):-1]\n",
    "    bigrams.plot.barh(stacked=True, ax=ax2, title='Stanford Bigram Set (Black)')\n",
    "    ax2.axvline(lexi_desc['mean'], linestyle='-', color='grey')\n",
    "    ax2.axvline(lexi_desc['25%'], linestyle=':' , color='grey')\n",
    "    ax2.axvline(lexi_desc['75%'], linestyle=':' , color='grey')\n",
    "    ax2.axvline(lexi_desc['50%'], linestyle='--', color='grey')\n",
    "    ax2.axvline(bigr_desc['mean'], linestyle='-', color='black')\n",
    "    ax2.axvline(bigr_desc['25%'], linestyle=':' , color='black')\n",
    "    ax2.axvline(bigr_desc['75%'], linestyle=':' , color='black')\n",
    "    ax2.axvline(bigr_desc['50%'], linestyle='--', color='black')\n",
    "\n",
    "    plt.show()"
   ]
  },
  {
   "cell_type": "markdown",
   "metadata": {
    "Collapsed": "false"
   },
   "source": [
    "## Ori and Rep"
   ]
  },
  {
   "cell_type": "code",
   "execution_count": 27,
   "metadata": {
    "Collapsed": "false"
   },
   "outputs": [],
   "source": [
    "y_prob_ori = text_feats_2scores_df['score_predi_stfd'].reindex(y_test.index).dropna()\n",
    "y_hat_ori = y_prob_ori.apply(lambda v: 1 if v>.5 else -1) ## The Ori\n",
    "scores['Stanford']['accuracy'] = accuracy_score(y_true=y_test, y_pred=y_hat_ori)"
   ]
  },
  {
   "cell_type": "code",
   "execution_count": null,
   "metadata": {
    "Collapsed": "false"
   },
   "outputs": [
    {
     "name": "stdout",
     "output_type": "stream",
     "text": [
      "Fitting 10 folds for each of 35 candidates, totalling 350 fits\n"
     ]
    },
    {
     "name": "stderr",
     "output_type": "stream",
     "text": [
      "[Parallel(n_jobs=5)]: Using backend LokyBackend with 5 concurrent workers.\n",
      "[Parallel(n_jobs=5)]: Done  40 tasks      | elapsed: 30.6min\n",
      "[Parallel(n_jobs=5)]: Done 190 tasks      | elapsed: 130.9min\n"
     ]
    }
   ],
   "source": [
    "%time clf_rep, y_hat_rep = trainSVM(X_train, X_test, None, None, y_train, y_test, task_name='rep') ## Can We Repeat This Performance?"
   ]
  },
  {
   "cell_type": "code",
   "execution_count": 31,
   "metadata": {
    "Collapsed": "false"
   },
   "outputs": [
    {
     "data": {
      "text/plain": [
       "['clf_rep.joblib']"
      ]
     },
     "execution_count": 31,
     "metadata": {},
     "output_type": "execute_result"
    }
   ],
   "source": [
    "import joblib\n",
    "joblib.dump(clf_rep, 'clf_rep.joblib')"
   ]
  },
  {
   "cell_type": "markdown",
   "metadata": {
    "Collapsed": "false"
   },
   "source": [
    "## BLE and BLEP"
   ]
  },
  {
   "cell_type": "markdown",
   "metadata": {
    "Collapsed": "false"
   },
   "source": [
    "### Prepare Datasets"
   ]
  },
  {
   "cell_type": "code",
   "execution_count": null,
   "metadata": {
    "Collapsed": "false"
   },
   "outputs": [],
   "source": [
    "# Import lexica counts:\n",
    "liwc_vecs_df = pd.read_hdf(HDF_FPATH, 'liwc_vecs_df')\n",
    "emolex_vecs_df  = pd.read_hdf(HDF_FPATH,  'emolex_vecs_df')\n",
    "emolex_vecs_df.columns = '*'+emolex_vecs_df.columns\n",
    "IF_DO_STATS = False\n",
    "my_feats_df = pd.read_hdf(HDF_FPATH, 'polite_cnts_df')\n",
    "if IF_DO_STATS: \n",
    "    # Stats:\n",
    "    _ = (my_feats_df>0).apply(pd.Series.value_counts).fillna(0).astype(int)\n",
    "    _.loc['frac'] = ((_.loc[True]/_.sum())*100)#.apply(lambda s: '%.2f%%'%s)\n",
    "    my_feats_cnts_df = _.T\n",
    "    lexicon_desc_df.loc[:, 'Fraction of Documents with This Feature'] = (my_feats_cnts_df['frac'].round(2))\n",
    "    lexicon_desc_df.reset_index(inplace=True)\n",
    "    lexicon_desc_df.sort_values(['Direction', 'Type of Strategy', 'Fraction of Documents with This Feature'], ascending=False, inplace=True)\n",
    "    lexicon_desc_df.drop('name', axis=1, inplace=True)\n",
    "    lexicon_desc_df.set_index(['Direction', 'Type of Strategy', 'Name of Feature'], inplace=True)\n",
    "    lexicon_desc_df.to_csv('mySet_for_tex.csv')\n",
    "    \n",
    "# Normalizations:\n",
    "IF_NORMALIZE_BY_TOKEN_COUNTS = False\n",
    "IF_BINARIFY = False\n",
    "if IF_NORMALIZE_BY_TOKEN_COUNTS:\n",
    "    token_cnts = pd.read_hdf(HDF_FPATH, 'token').apply(len)\n",
    "    liwc_vecs_df = (liwc_vecs_df.T/token_cnts).T\n",
    "    emolex_vecs_df  = ( emolex_vecs_df.T/token_cnts).T\n",
    "    my_feats_df  = ( my_feats_df.T/token_cnts).T\n",
    "if IF_BINARIFY:\n",
    "    liwc_vecs_df = liwc_vecs_df>0\n",
    "    emolex_vecs_df = emolex_vecs_df>0\n",
    "    my_feats_df = my_feats_df>0"
   ]
  },
  {
   "cell_type": "code",
   "execution_count": null,
   "metadata": {
    "Collapsed": "false"
   },
   "outputs": [],
   "source": [
    "liwc_vecs_df.to_csv('liwc_vecs_df.csv')\n",
    "emolex_vecs_df.to_csv('emolex_vecs_df.csv')\n",
    "my_feats_df.to_csv('my_feats_df.csv')\n",
    "!zip lexical_vecs_dfs.zip liwc_vecs_df.csv emolex_vecs_df.csv my_feats_df.csv\n",
    "!rm liwc_vecs_df.csv emolex_vecs_df.csv my_feats_df.csv"
   ]
  },
  {
   "cell_type": "markdown",
   "metadata": {
    "Collapsed": "false"
   },
   "source": [
    "### Train Classifiers"
   ]
  },
  {
   "cell_type": "code",
   "execution_count": null,
   "metadata": {
    "Collapsed": "false"
   },
   "outputs": [],
   "source": [
    "### L = LIWC only\n",
    "X_l = liwc_vecs_df.reindex(y.index)\n",
    "X_l_train, X_l_test, y_train, y_test =train_test_split(X_l, y, random_state=1, test_size=500)\n",
    "clf_l, y_hat_l = trainSVM(X_l_train, X_l_test, None, None, y_train, y_test, task_name='l')\n",
    "### E = EmoLex only\n",
    "X_e = emolex_vecs_df.reindex(y.index)\n",
    "X_e_train, X_e_test, y_train, y_test =train_test_split(X_e, y, random_state=1, test_size=500)\n",
    "clf_e, y_hat_e = trainSVM(X_e_train, X_e_test, None, None, y_train, y_test, task_name='e')\n",
    "### P = Additional Features only\n",
    "X_p = my_feats_df.reindex(y.index)\n",
    "X_p_train, X_p_test, y_train, y_test =train_test_split(X_p, y, random_state=1, test_size=500)\n",
    "clf_p, y_hat_p = trainSVM(X_p_train, X_p_test, None, None, y_train, y_test, task_name='p')\n",
    "### LE = LIWC + EmoLex\n",
    "X_le = pd.concat([liwc_vecs_df, emolex_vecs_df], axis=1).reindex(y.index)\n",
    "X_le_train, X_le_test, y_train, y_test =train_test_split(X_le, y, random_state=1, test_size=500)\n",
    "clf_le, y_hat_le = trainSVM(X_le_train, X_le_test, None, None, y_train, y_test, task_name='le')\n",
    "### LP = LIWC + PoliteLex\n",
    "X_lp = pd.concat([liwc_vecs_df, my_feats_df], axis=1).reindex(y.index)\n",
    "X_lp_train, X_lp_test, y_train, y_test =train_test_split(X_lp, y, random_state=1, test_size=500)\n",
    "clf_lp, y_hat_lp = trainSVM(X_lp_train, X_lp_test, None, None, y_train, y_test, task_name='lp')\n",
    "### LEP = LIWC + EmoLex + PoliteLex\n",
    "X_lep = pd.concat([liwc_vecs_df, emolex_vecs_df, my_feats_df], axis=1).reindex(y.index)\n",
    "X_lep_train, X_lep_test, y_train, y_test =train_test_split(X_lep, y, random_state=1, test_size=500)\n",
    "clf_lep, y_hat_lep = trainSVM(X_lep_train, X_lep_test, None, None, y_train, y_test, task_name='lep')"
   ]
  },
  {
   "cell_type": "raw",
   "metadata": {
    "Collapsed": "false"
   },
   "source": [
    "from sklearn.svm import SVC\n",
    "### L = LIWC only\n",
    "X_l = liwc_vecs_df.reindex(y.index)\n",
    "X_l_train, X_l_test, y_train, y_test = train_test_split(X_l, y, random_state=1, test_size=500)\n",
    "clf_l = SVC(probability=True, C=0.02, kernel='linear', random_state=42)\n",
    "clf_l.fit(X_l_train, y_train)\n",
    "y_hat_l = clf_l.predict(X_l_test)\n",
    "### E = EmoLex only\n",
    "X_e = emolex_vecs_df.reindex(y.index)\n",
    "X_e_train, X_e_test, y_train, y_test = train_test_split(X_e, y, random_state=1, test_size=500)\n",
    "clf_e = SVC(probability=True, C=0.02, kernel='linear', random_state=42)\n",
    "clf_e.fit(X_e_train, y_train)\n",
    "y_hat_e = clf_e.predict(X_e_test)\n",
    "### P = PoliteLex only\n",
    "X_p = my_feats_df.reindex(y.index)\n",
    "X_p_train, X_p_test, y_train, y_test = train_test_split(X_p, y, random_state=1, test_size=500)\n",
    "clf_p = SVC(probability=True, C=0.02, kernel='linear', random_state=42)\n",
    "clf_p.fit(X_p_train, y_train)\n",
    "y_hat_p = clf_p.predict(X_p_test)\n",
    "\n",
    "from sklearn.ensemble import VotingClassifier\n",
    "### LE = LIWC + EmoLex\n",
    "X_le = pd.concat([liwc_vecs_df, emolex_vecs_df], axis=1).reindex(y.index)\n",
    "X_le_train, X_le_test, y_train, y_test =train_test_split(X_le, y, random_state=1, test_size=500)\n",
    "clf_le = VotingClassifier(estimators=[('l', clf_l), ('e', clf_e)], voting='soft', weights=[1, 1])\n",
    "clf_le.fit(X_le_train, y_train)\n",
    "y_hat_le = clf_le.predict(X_le_test)\n",
    "### LP = LIWC + PoliteLex\n",
    "X_lp = pd.concat([liwc_vecs_df, my_feats_df], axis=1).reindex(y.index)\n",
    "X_lp_train, X_lp_test, y_train, y_test =train_test_split(X_lp, y, random_state=1, test_size=500)\n",
    "clf_lp = VotingClassifier(estimators=[('l', clf_l), ('p', clf_p)], voting='soft', weights=[1, 1])\n",
    "clf_lp.fit(X_lp_train, y_train)\n",
    "y_hat_lp = clf_lp.predict(X_lp_test)\n",
    "### EP = EmoLex + PoliteLex\n",
    "X_ep = pd.concat([liwc_vecs_df, my_feats_df], axis=1).reindex(y.index)\n",
    "X_ep_train, X_ep_test, y_train, y_test =train_test_split(X_ep, y, random_state=1, test_size=500)\n",
    "clf_ep = VotingClassifier(estimators=[('e', clf_e), ('p', clf_p)], voting='soft', weights=[1, 1])\n",
    "clf_ep.fit(X_ep_train, y_train)\n",
    "y_hat_ep = clf_ep.predict(X_ep_test)\n",
    "### LEP = LIWC + EmoLex + PoliteLex\n",
    "X_lep = pd.concat([liwc_vecs_df, my_feats_df], axis=1).reindex(y.index)\n",
    "X_lep_train, X_lep_test, y_train, y_test =train_test_split(X_lep, y, random_state=1, test_size=500)\n",
    "clf_lep = VotingClassifier(estimators=[('l', clf_l), ('e', clf_e), ('p', clf_p)], voting='soft', weights=[1, 1, 1])\n",
    "clf_lep.fit(X_lep_train, y_train)\n",
    "y_hat_lep = clf_lep.predict(X_lep_test)"
   ]
  },
  {
   "cell_type": "raw",
   "metadata": {
    "Collapsed": "false"
   },
   "source": [
    "from sklearn.tree import DecisionTreeClassifier\n",
    "### L = LIWC only\n",
    "X_l = liwc_vecs_df.reindex(y.index)\n",
    "X_l_train, X_l_test, y_train, y_test =train_test_split(X_l, y, random_state=1, test_size=500)\n",
    "clf_l = DecisionTreeClassifier(random_state=42)\n",
    "clf_l.fit(X_l_train, y_train)\n",
    "y_hat_l = clf_l.predict(X_l_test)\n",
    "### E = EmoLex only\n",
    "X_e = emolex_vecs_df.reindex(y.index)\n",
    "X_e_train, X_e_test, y_train, y_test =train_test_split(X_e, y, random_state=1, test_size=500)\n",
    "clf_e = DecisionTreeClassifier(random_state=42)\n",
    "clf_e.fit(X_e_train, y_train)\n",
    "y_hat_e = clf_e.predict(X_e_test)\n",
    "### LE = LIWC + EmoLex\n",
    "X_le = pd.concat([liwc_vecs_df, emolex_vecs_df], axis=1).reindex(y.index)\n",
    "X_le_train, X_le_test, y_train, y_test =train_test_split(X_le, y, random_state=1, test_size=500)\n",
    "clf_le = DecisionTreeClassifier(random_state=42)\n",
    "clf_le.fit(X_le_train, y_train)\n",
    "y_hat_le = clf_le.predict(X_le_test)\n",
    "### LP = LIWC + PoliteLex\n",
    "X_lp = pd.concat([liwc_vecs_df, my_feats_df], axis=1).reindex(y.index)\n",
    "X_lp_train, X_lp_test, y_train, y_test =train_test_split(X_lp, y, random_state=1, test_size=500)\n",
    "clf_lp = DecisionTreeClassifier(random_state=42)\n",
    "clf_lp.fit(X_lp_train, y_train)\n",
    "y_hat_lp = clf_lp.predict(X_lp_test)\n",
    "### LEP = LIWC + EmoLex + PoliteLex\n",
    "X_lep = pd.concat([liwc_vecs_df, emolex_vecs_df, my_feats_df], axis=1).reindex(y.index)\n",
    "X_lep_train, X_lep_test, y_train, y_test =train_test_split(X_lep, y, random_state=1, test_size=500)\n",
    "clf_lep = DecisionTreeClassifier(random_state=42)\n",
    "clf_lep.fit(X_lep_train, y_train)\n",
    "y_hat_lep = clf_lep.predict(X_lep_test)"
   ]
  },
  {
   "cell_type": "raw",
   "metadata": {
    "Collapsed": "false"
   },
   "source": [
    "from sklearn.ensemble import AdaBoostClassifier\n",
    "### L = LIWC only\n",
    "X_l = liwc_vecs_df.reindex(y.index)\n",
    "X_l_train, X_l_test, y_train, y_test =train_test_split(X_l, y, random_state=1, test_size=500)\n",
    "clf_l = AdaBoostClassifier(random_state=42)\n",
    "clf_l.fit(X_l_train, y_train)\n",
    "y_hat_l = clf_l.predict(X_l_test)\n",
    "### E = EmoLex only\n",
    "X_e = emolex_vecs_df.reindex(y.index)\n",
    "X_e_train, X_e_test, y_train, y_test =train_test_split(X_e, y, random_state=1, test_size=500)\n",
    "clf_e = AdaBoostClassifier(random_state=42)\n",
    "clf_e.fit(X_e_train, y_train)\n",
    "y_hat_e = clf_e.predict(X_e_test)\n",
    "### LE = LIWC + EmoLex\n",
    "X_le = pd.concat([liwc_vecs_df, emolex_vecs_df], axis=1).reindex(y.index)\n",
    "X_le_train, X_le_test, y_train, y_test =train_test_split(X_le, y, random_state=1, test_size=500)\n",
    "clf_le = AdaBoostClassifier(random_state=42)\n",
    "clf_le.fit(X_le_train, y_train)\n",
    "y_hat_le = clf_le.predict(X_le_test)\n",
    "### LP = LIWC + PoliteLex\n",
    "X_lp = pd.concat([liwc_vecs_df, my_feats_df], axis=1).reindex(y.index)\n",
    "X_lp_train, X_lp_test, y_train, y_test =train_test_split(X_lp, y, random_state=1, test_size=500)\n",
    "clf_lp = AdaBoostClassifier(random_state=42)\n",
    "clf_lp.fit(X_lp_train, y_train)\n",
    "y_hat_lp = clf_lp.predict(X_lp_test)\n",
    "### LEP = LIWC + EmoLex + PoliteLex\n",
    "X_lep = pd.concat([liwc_vecs_df, emolex_vecs_df, my_feats_df], axis=1).reindex(y.index)\n",
    "X_lep_train, X_lep_test, y_train, y_test =train_test_split(X_lep, y, random_state=1, test_size=500)\n",
    "clf_lep = AdaBoostClassifier(random_state=42)\n",
    "clf_lep.fit(X_lep_train, y_train)\n",
    "y_hat_lep = clf_lep.predict(X_lep_test)"
   ]
  },
  {
   "cell_type": "raw",
   "metadata": {
    "Collapsed": "false"
   },
   "source": [
    "## With bigrams:\n",
    "### BLE = Bigram + LIWC + EmoLex\n",
    "X_bigramLiwcNrc = pd.concat([bigram_features_df, liwc_vecs_df, emolex_vecs_df], axis=1).reindex(y.index)\n",
    "X_bigramLiwcemolex_train, X_bigramLiwcemolex_test, y_train, y_test = train_test_split(X_bigramLiwcNrc, y, random_state=1, test_size=500)\n",
    "clf_ble, y_hat_ble = trainSVM(X_bigramLiwcemolex_train, X_bigramLiwcemolex_test, None, None, y_train, y_test, task_name='ble')\n",
    "### BLEP = Bigram + LIWC + EmoLex + PoliteLex\n",
    "X_blep = pd.concat([bigram_features_df, liwc_vecs_df, emolex_vecs_df, my_feats_df], axis=1).reindex(y.index)\n",
    "X_blep_train, X_blep_test, y_train, y_test =train_test_split(X_blep, y, random_state=1, test_size=500)\n",
    "clf_blep, y_hat_blep = trainSVM(X_blep_train, X_blep_test, None, None, y_train, y_test, task_name='blep')\n",
    "## new = only the ones explicitly mentioned in the paper\n",
    "X_new = pd.concat([liwc_vecs_df,#[['Negemo', 'Posemo', 'Swear', 'Affiliation', 'We', 'Differ', 'Negate']], \n",
    "                   emolex_vecs_df, \n",
    "                   my_feats_df#[['please', 'start_please', 'apologetic', 'greeting', 'best_wishes', 'gratitude', 'honorifics', 'hedge']]\n",
    "                  ], axis=1).reindex(y.index)\n",
    "X_new_train, X_new_test, y_train, y_test =train_test_split(X_new, y, random_state=1, test_size=500)\n",
    "clf_new, y_hat_new = trainSVM(X_new_train, X_new_test, None, None, y_train, y_test, task_name='new')"
   ]
  },
  {
   "cell_type": "markdown",
   "metadata": {
    "Collapsed": "false"
   },
   "source": [
    "## Visualize Performances"
   ]
  },
  {
   "cell_type": "code",
   "execution_count": null,
   "metadata": {
    "Collapsed": "false"
   },
   "outputs": [],
   "source": [
    "from sklearn.metrics import roc_auc_score, roc_curve\n",
    "y_prob_rep  = clf_rep.predict_proba(X_test    )[:,1]\n",
    "y_prob_l    = clf_l  .predict_proba(X_l_test  )[:,1]\n",
    "y_prob_e    = clf_e  .predict_proba(X_e_test  )[:,1]\n",
    "y_prob_le   = clf_le .predict_proba(X_le_test )[:,1]\n",
    "y_prob_lp   = clf_lp .predict_proba(X_lp_test )[:,1]\n",
    "y_prob_lep  = clf_lep.predict_proba(X_lep_test)[:,1]\n",
    "#y_prob_ep   = clf_ep.predict_proba(X_ep_test)[:,1]\n",
    "fpr_ori,  tpr_ori,  _ = roc_curve(y_test, y_prob_ori, pos_label=1)\n",
    "fpr_rep,  tpr_rep,  _ = roc_curve(y_test, y_prob_rep, pos_label=1)\n",
    "fpr_l  ,  tpr_l  ,  _ = roc_curve(y_test, y_prob_l  , pos_label=1)\n",
    "fpr_e  ,  tpr_e  ,  _ = roc_curve(y_test, y_prob_e  , pos_label=1)\n",
    "fpr_le ,  tpr_le ,  _ = roc_curve(y_test, y_prob_le , pos_label=1)\n",
    "fpr_lp ,  tpr_lp ,  _ = roc_curve(y_test, y_prob_lp , pos_label=1)\n",
    "fpr_lep,  tpr_lep,  _ = roc_curve(y_test, y_prob_lep, pos_label=1)"
   ]
  },
  {
   "cell_type": "code",
   "execution_count": null,
   "metadata": {
    "Collapsed": "false"
   },
   "outputs": [],
   "source": [
    "plt.figure(1, figsize=(5,5))\n",
    "plt.plot([0, 1], [0, 1], 'k--')\n",
    "plt.plot(fpr_ori,  tpr_ori,  label='Stanford Politeness API')#'Stanford (Pre-trained)')\n",
    "#plt.plot(fpr_rep, tpr_rep, label='Stanford Politeness API')\n",
    "plt.plot(fpr_l  , tpr_l  , label='LIWC Only')\n",
    "#plt.plot(fpr_e  , tpr_e  , label='EmoLex Only')\n",
    "#plt.plot(fpr_le , tpr_le , label='LIWC + EmoLex')\n",
    "#plt.plot(fpr_lp , tpr_lp , label='LIWC + PoliteLex')\n",
    "plt.plot(fpr_lep, tpr_lep, label='LIWC + EmoLex + PoliteLex')\n",
    "#plt.plot(fpr_blep, tpr_blep, label='BLEP')\n",
    "plt.xlabel('False Positive Rate')\n",
    "plt.ylabel('True Positive Rate')\n",
    "#plt.title('ROC Curves')\n",
    "plt.legend(loc='best')\n",
    "plt.show()"
   ]
  },
  {
   "cell_type": "code",
   "execution_count": null,
   "metadata": {
    "Collapsed": "false"
   },
   "outputs": [],
   "source": [
    "accuracies = pd.DataFrame.from_dict(scores, orient='index').sort_values('accuracy', ascending=False).accuracy\n",
    "def getClassificationReport(y_hat, y_test=y_test, name=''):\n",
    "    _ = classification_report(y_true=y_test, y_pred=y_hat, target_names=['rude', 'polite'], output_dict=True)\n",
    "    _ = pd.DataFrame(_).drop('support').reset_index().rename(columns={'index': 'metric'}).assign(\n",
    "        model=name).set_index(['model', 'metric'])['weighted avg'].unstack()\n",
    "    return _.assign(ROCAUC   = roc_auc_score(y_true=y_test , y_score=y_hat, average='weighted'),\n",
    "                    Accuracy = accuracy_score(y_true=y_test, y_pred=y_hat)).round(3)\n",
    "df = pd.concat([\n",
    "    getClassificationReport(y_hat_ori, name='Stanford'),\n",
    "    #getClassificationReport(y_hat_rep, name='Stanford'),\n",
    "    getClassificationReport(y_hat_l  , name='LIWC Only'),\n",
    "    getClassificationReport(y_hat_e  , name='EmoLex Only'),\n",
    "    getClassificationReport(y_hat_p  , name='PoliteLex Only'),\n",
    "    getClassificationReport(y_hat_le , name='LIWC + EmoLex'),\n",
    "    getClassificationReport(y_hat_lp , name='LIWC + PoliteLex'),\n",
    "    getClassificationReport(y_hat_lep, name='LIWC + EmoLex + PoliteLex'),\n",
    "], sort=False)#.assign(accuracy=accuracies)\n",
    "df.columns = df.columns.str.title()\n",
    "df.to_csv('clf_report.csv')\n",
    "df"
   ]
  },
  {
   "cell_type": "markdown",
   "metadata": {
    "Collapsed": "false"
   },
   "source": [
    "Render to LaTeX:"
   ]
  },
  {
   "cell_type": "code",
   "execution_count": null,
   "metadata": {
    "Collapsed": "false"
   },
   "outputs": [],
   "source": [
    "l = '\\n'.join(df.to_latex().split('\\n')[5:])\n",
    "l = l.replace(r' \\\\', r'  \\tabularnewline\\hline')\n",
    "l = l.replace(r'\\toprule', '').replace(r'\\midrule', '')\n",
    "l = l.replace(r'\\bottomrule', '')#.replace('0.', '$0.').replace(' &', '$ &')\n",
    "l = '''\n",
    "\\\\begin{tabular}{|l|r|r|r|r|r|}\n",
    "\\hline\n",
    "                                    &          F1 &    Precision &    Recall &    ROCAUC &    Accuracy  \\\\tabularnewline\\hline\\hline\n",
    "'''+l\n",
    "l = re.sub(r'(0.\\d{3})', r'$\\1$', l)\n",
    "print(l)"
   ]
  },
  {
   "cell_type": "markdown",
   "metadata": {
    "Collapsed": "false"
   },
   "source": [
    "# On the Microblog (Weibo + Twitter) Corpora"
   ]
  },
  {
   "cell_type": "code",
   "execution_count": 4,
   "metadata": {
    "Collapsed": "false"
   },
   "outputs": [],
   "source": [
    "HDF_FPATH = 'data_200516.hdf' # Weibo = 3245+3000 -> 6226 ; Twitter = 3083+3000 -> 5375\n",
    "NUM_POSTS = 5300\n",
    "IF_SUBSAMPLE_TO_QUARTILES = True\n",
    "# Annotators to use in analysis.\n",
    "WEIBO_ANNOTATORS = list('ABCD')\n",
    "TWITR_ANNOTATORS = list('ABDE')\n",
    "\n",
    "IF_NORMALIZE_BY_TOKEN_COUNTS = False\n",
    "IF_BINARIFY = False"
   ]
  },
  {
   "cell_type": "markdown",
   "metadata": {
    "Collapsed": "false"
   },
   "source": [
    "## Load data"
   ]
  },
  {
   "cell_type": "markdown",
   "metadata": {
    "Collapsed": "false"
   },
   "source": [
    "Load Annotated datasets:"
   ]
  },
  {
   "cell_type": "code",
   "execution_count": 5,
   "metadata": {
    "Collapsed": "false"
   },
   "outputs": [
    {
     "name": "stderr",
     "output_type": "stream",
     "text": [
      "/home/myli/miniconda3/envs/main/lib/python3.7/site-packages/ipykernel_launcher.py:17: SettingWithCopyWarning: \n",
      "A value is trying to be set on a copy of a slice from a DataFrame\n",
      "\n",
      "See the caveats in the documentation: http://pandas.pydata.org/pandas-docs/stable/user_guide/indexing.html#returning-a-view-versus-a-copy\n"
     ]
    }
   ],
   "source": [
    "FILE_SUFFIX = f'{NUM_POSTS}_Weibo{\"\".join(WEIBO_ANNOTATORS)}Twitr{\"\".join(TWITR_ANNOTATORS)}'\n",
    "\n",
    "standardize = lambda df: (df-df.mean())/df.std()\n",
    "\n",
    "# Tokens are only used in selecting representative posts.\n",
    "weibo_tokens = pd.read_hdf(HDF_FPATH, 'Weibo2014_3245+3000_token')\n",
    "twitr_tokens = pd.read_hdf(HDF_FPATH, 'TwtUs2014_3083+3000_token')\n",
    "\n",
    "def loadAnnots(csv_path: str, annotators: list, index_cols: str) -> pd.DataFrame:\n",
    "    # Load data. This part is identical to \"Performance\" Notebook.\n",
    "    raw_df = pd.read_csv(csv_path).set_index(index_cols)\n",
    "\n",
    "    # Take only the raw annotated scores from the annotators we want.\n",
    "    rawAnnots_df = raw_df[annotators]\n",
    "    # Make sure that these are the posts that the desired annotators have annotated.\n",
    "    # This is a stronger requirement than keeping the most politeness-explicit posts.\n",
    "    rawAnnots_df.dropna(inplace=True, how='all')\n",
    "\n",
    "    # Keep only most politeness-explicit posts.\n",
    "    idx_explicit = standardize(rawAnnots_df).T.mean().abs().sort_values().tail(NUM_POSTS).index\n",
    "    rawAnnots_df = rawAnnots_df.loc[idx_explicit]\n",
    "\n",
    "    # Since we capped the number of posts, we need to re-evaluate the standardizations.\n",
    "    stdzdAnnots_df = standardize(rawAnnots_df)\n",
    "    stdzdAnnots_df.columns = stdzdAnnots_df.columns + '_stdzd'\n",
    "    stdzdAnnots_df['stdzd_avg'] = stdzdAnnots_df.T.mean()\n",
    "\n",
    "    # Combine and return.\n",
    "    concat_df = pd.concat([rawAnnots_df, stdzdAnnots_df, raw_df.loc[rawAnnots_df.index, ['text']]], axis=1)\n",
    "    return concat_df\n",
    "\n",
    "weibo_df = loadAnnots('AnnotateWeibo/Weibo2014_3245+3000.csv', WEIBO_ANNOTATORS, ['sid', 'RT_level'])\n",
    "twitr_df = loadAnnots('AnnotateTwitr/Twitr2014_3083+3000.csv', TWITR_ANNOTATORS, ['sid'])\n"
   ]
  },
  {
   "cell_type": "code",
   "execution_count": 50,
   "metadata": {
    "Collapsed": "false"
   },
   "outputs": [
    {
     "data": {
      "text/plain": [
       "Text(0.5, 0, 'Characters')"
      ]
     },
     "execution_count": 50,
     "metadata": {},
     "output_type": "execute_result"
    },
    {
     "data": {
      "image/png": "[encoded data removed]",
      "text/plain": [
       "<Figure size 576x360 with 1 Axes>"
      ]
     },
     "metadata": {},
     "output_type": "display_data"
    }
   ],
   "source": [
    "fig, ax = plt.subplots(1,1, figsize=(8, 5))\n",
    "len_df = pd.DataFrame({\"Stanford Politeness Corpus\": text_feats_2scores_df['text'].apply(len).reset_index(drop=True),\n",
    "\"Microblog Politeness Corpus - Twitter (ours)\": twitr_df['text'].apply(len).reset_index(drop=True),\n",
    "\"Microblog Politeness Corpus - Weibo (ours)\": weibo_df['text'].apply(len).reset_index(drop=True),})\n",
    "len_df.plot.hist(ax=ax, bins=60, alpha=.5)\n",
    "plt.title(\"Histogram: Lengths of Posts in Each Coprus\")\n",
    "plt.xlabel(\"Characters\")"
   ]
  },
  {
   "cell_type": "code",
   "execution_count": 54,
   "metadata": {
    "Collapsed": "false"
   },
   "outputs": [
    {
     "data": {
      "text/plain": [
       "Stanford Politeness Corpus                      112.0\n",
       "Microblog Politeness Corpus - Twitter (ours)     83.0\n",
       "Microblog Politeness Corpus - Weibo (ours)       58.0\n",
       "dtype: float64"
      ]
     },
     "execution_count": 54,
     "metadata": {},
     "output_type": "execute_result"
    }
   ],
   "source": [
    "len_df.median()#.describe().T"
   ]
  },
  {
   "cell_type": "markdown",
   "metadata": {
    "Collapsed": "false"
   },
   "source": [
    "If we are conducting experiments following the Stanford paper, we need to subsample to the two extreme quartiles here. Else, we can keep all posts in each corpus."
   ]
  },
  {
   "cell_type": "code",
   "execution_count": 6,
   "metadata": {
    "Collapsed": "false"
   },
   "outputs": [
    {
     "name": "stdout",
     "output_type": "stream",
     "text": [
      "There are 1325 rude posts and 1325 polite posts in Twitter.\n",
      "There are 1325 rude posts and 1325 polite posts in Weibo.\n"
     ]
    },
    {
     "data": {
      "text/html": [
       "<div>\n",
       "<style scoped>\n",
       "    .dataframe tbody tr th:only-of-type {\n",
       "        vertical-align: middle;\n",
       "    }\n",
       "\n",
       "    .dataframe tbody tr th {\n",
       "        vertical-align: top;\n",
       "    }\n",
       "\n",
       "    .dataframe thead th {\n",
       "        text-align: right;\n",
       "    }\n",
       "</style>\n",
       "<table border=\"1\" class=\"dataframe\">\n",
       "  <thead>\n",
       "    <tr style=\"text-align: right;\">\n",
       "      <th></th>\n",
       "      <th>Weibo</th>\n",
       "      <th>Twitter</th>\n",
       "    </tr>\n",
       "  </thead>\n",
       "  <tbody>\n",
       "    <tr>\n",
       "      <th>1</th>\n",
       "      <td>1325</td>\n",
       "      <td>1325</td>\n",
       "    </tr>\n",
       "    <tr>\n",
       "      <th>-1</th>\n",
       "      <td>1325</td>\n",
       "      <td>1325</td>\n",
       "    </tr>\n",
       "  </tbody>\n",
       "</table>\n",
       "</div>"
      ],
      "text/plain": [
       "    Weibo  Twitter\n",
       " 1   1325     1325\n",
       "-1   1325     1325"
      ]
     },
     "execution_count": 6,
     "metadata": {},
     "output_type": "execute_result"
    }
   ],
   "source": [
    "if IF_SUBSAMPLE_TO_QUARTILES:\n",
    "    # ------------------------------------- Twitter -----------------------------------------\n",
    "    twitr_size = len(twitr_df)//4\n",
    "    twitr_r_sids = twitr_df.head(twitr_size).index\n",
    "    twitr_p_sids = twitr_df.tail(twitr_size).index\n",
    "    print(f'There are {twitr_size} rude posts and {twitr_size} polite posts in Twitter.')\n",
    "    \n",
    "    # Register to main dataframe:\n",
    "    twitr_df.loc[:, 'label'] = None\n",
    "    twitr_df.loc[twitr_r_sids, 'label'] = -1\n",
    "    twitr_df.loc[twitr_p_sids, 'label'] = 1\n",
    "    \n",
    "    # -------------------------------------- Weibo ------------------------------------------\n",
    "    weibo_size = len(weibo_df)//4\n",
    "    weibo_r_sids = weibo_df.head(weibo_size).index\n",
    "    weibo_p_sids = weibo_df.tail(weibo_size).index\n",
    "    print(f'There are {weibo_size} rude posts and {weibo_size} polite posts in Weibo.')\n",
    "    \n",
    "    # Register to main dataframe:\n",
    "    weibo_df.loc[:, 'label'] = None\n",
    "    weibo_df.loc[weibo_r_sids, 'label'] = -1\n",
    "    weibo_df.loc[weibo_p_sids, 'label'] = 1\n",
    "    \n",
    "else:\n",
    "    # Labels are simply the signs of the standardized average politeness scores.\n",
    "    twitr_df.loc[:, 'label'] = (twitr_df['stdzd_avg']>=0).map({False: -1, True: 1})\n",
    "    weibo_df.loc[:, 'label'] = (weibo_df['stdzd_avg']>=0).map({False: -1, True: 1})\n",
    "\n",
    "twitr_y = twitr_df['label'].dropna().astype(int)\n",
    "weibo_y = weibo_df['label'].dropna().astype(int)\n",
    "\n",
    "pd.DataFrame({\n",
    "    'Weibo': weibo_y.value_counts(),\n",
    "    'Twitter': twitr_y.value_counts(),\n",
    "})"
   ]
  },
  {
   "cell_type": "markdown",
   "metadata": {
    "Collapsed": "false"
   },
   "source": [
    "Import lexica counts: "
   ]
  },
  {
   "cell_type": "code",
   "execution_count": 7,
   "metadata": {
    "Collapsed": "false"
   },
   "outputs": [],
   "source": [
    "# with pd.HDFStore(HDF_FPATH) as hdf: print('\\n'.join(hdf.keys()))\n",
    "twitr_liwc_vecs_df = pd.read_hdf(HDF_FPATH, 'TwtUs2014_3083+3000_liwc_cnts_df').reindex(twitr_y.index)\n",
    "weibo_liwc_vecs_df = pd.read_hdf(HDF_FPATH, 'Weibo2014_3245+3000_liwc_cnts_df').reindex(weibo_y.index)\n",
    "common_liwc_ctgys  = list(set(twitr_liwc_vecs_df.columns).intersection(weibo_liwc_vecs_df))\n",
    "twitr_liwc_vecs_df = twitr_liwc_vecs_df[common_liwc_ctgys]\n",
    "weibo_liwc_vecs_df = weibo_liwc_vecs_df[common_liwc_ctgys]\n",
    "\n",
    "# `nrc` is a historical name for EmoLex.\n",
    "twitr_emolex_vecs_df  = pd.read_hdf(HDF_FPATH, 'TwtUs2014_3083+3000_nrc_cnts_df').reindex(twitr_y.index)\n",
    "weibo_emolex_vecs_df  = pd.read_hdf(HDF_FPATH, 'Weibo2014_3245+3000_nrc_cnts_df').reindex(weibo_y.index)\n",
    "twitr_emolex_vecs_df.columns = '*'+twitr_emolex_vecs_df.columns\n",
    "weibo_emolex_vecs_df.columns = '*'+weibo_emolex_vecs_df.columns\n",
    "\n",
    "twitr_polite_vecs_df = pd.read_hdf(HDF_FPATH, 'TwtUs2014_3083+3000_polite_cnts_df').reindex(twitr_y.index)\n",
    "weibo_polite_vecs_df = pd.read_hdf(HDF_FPATH, 'Weibo2014_3245+3000_polite_cnts_df').reindex(weibo_y.index)\n",
    "twitr_polite_vecs_df.columns = '+'+twitr_polite_vecs_df.columns\n",
    "weibo_polite_vecs_df.columns = '+'+weibo_polite_vecs_df.columns\n",
    "\n",
    "# Stanford Feature Set is only available for English, thus it's only available for Twitter US Corpus.\n",
    "twitr_stfd_vecs_df = pd.read_hdf(HDF_FPATH, 'TwtUs2014_3083+3000_stfd_df').reindex(twitr_y.index)\n",
    "twitr_stfd_vecs_df.columns = '!'+twitr_stfd_vecs_df.columns\n",
    "\n",
    "\n",
    "# Normalizations:\n",
    "\n",
    "if IF_NORMALIZE_BY_TOKEN_COUNTS:\n",
    "    twitr_token_cnts = pd.read_hdf(HDF_FPATH, 'TwtUs2014_3083+3000_token').apply(len).reindex(twitr_y.index)\n",
    "    weibo_token_cnts = pd.read_hdf(HDF_FPATH, 'Weibo2014_3245+3000_token').apply(len).reindex(weibo_y.index)\n",
    "    \n",
    "    twitr_liwc_vecs_df = (twitr_liwc_vecs_df.T/twitr_token_cnts).T\n",
    "    weibo_liwc_vecs_df = (weibo_liwc_vecs_df.T/weibo_token_cnts).T\n",
    "    \n",
    "    twitr_emolex_vecs_df = (twitr_emolex_vecs_df.T/twitr_token_cnts).T\n",
    "    weibo_emolex_vecs_df = (weibo_emolex_vecs_df.T/weibo_token_cnts).T\n",
    "    \n",
    "    twitr_polite_vecs_df = (twitr_polite_vecs_df.T/twitr_token_cnts).T\n",
    "    weibo_polite_vecs_df = (weibo_polite_vecs_df.T/weibo_token_cnts).T\n",
    "    #twitr_stfd_vecs_df = (twitr_stfd_vecs_df.T/twitr_token_cnts).T\n",
    "    \n",
    "if IF_BINARIFY:\n",
    "    twitr_liwc_vecs_df   = twitr_liwc_vecs_df  >0\n",
    "    twitr_emolex_vecs_df    = twitr_emolex_vecs_df   >0\n",
    "    twitr_polite_vecs_df = twitr_polite_vecs_df>0\n",
    "    weibo_liwc_vecs_df   = weibo_liwc_vecs_df  >0\n",
    "    weibo_emolex_vecs_df    = weibo_emolex_vecs_df   >0\n",
    "    weibo_polite_vecs_df = weibo_polite_vecs_df>0\n",
    "    # twitr_stfd_vecs_df   = twitr_stfd_vecs_df  >0 # Already binary\n",
    "    \n",
    "# Handy functions that we willn eed to use later in analysis and presentation stages.\n",
    "renameFeatCombos = lambda x: x.replace('l', 'LIWC +\\n').replace('e', 'EmoLex +\\n').replace('p', 'PoliteLex +\\n').replace('s', 'Stanford Features +\\n').rstrip(' +\\n')\n",
    "renameCorpus = lambda x: {'twitr': 'Twitter', 'weibo': 'Weibo'}[x]"
   ]
  },
  {
   "cell_type": "code",
   "execution_count": 8,
   "metadata": {
    "Collapsed": "false"
   },
   "outputs": [],
   "source": [
    "corpus_to_feats_and_labels = {\n",
    "    'weibo': {\n",
    "        'feats': {\n",
    "            'l': weibo_liwc_vecs_df,\n",
    "            'e': weibo_emolex_vecs_df,\n",
    "            'p': weibo_polite_vecs_df,\n",
    "        },\n",
    "        'labels': weibo_y,\n",
    "    },\n",
    "    'twitr': {\n",
    "        'feats': {\n",
    "            'l': twitr_liwc_vecs_df,\n",
    "            'e': twitr_emolex_vecs_df,\n",
    "            'p': twitr_polite_vecs_df,\n",
    "            's': twitr_stfd_vecs_df,\n",
    "        },\n",
    "        'labels': twitr_y,\n",
    "    },\n",
    "}"
   ]
  },
  {
   "cell_type": "markdown",
   "metadata": {
    "Collapsed": "false"
   },
   "source": [
    "## Feature-wise Ablation Study"
   ]
  },
  {
   "cell_type": "code",
   "execution_count": null,
   "metadata": {
    "Collapsed": "false"
   },
   "outputs": [
    {
     "name": "stderr",
     "output_type": "stream",
     "text": [
      "Ablation on twitr:  66%|██████▋   | 83/125 [56:03<28:24, 40.58s/it]  "
     ]
    }
   ],
   "source": [
    "def ablationStudy(corpus_name):\n",
    "    feats_and_labels = corpus_to_feats_and_labels[corpus_name]\n",
    "    all_featureSets = feats_and_labels['feats'].values()\n",
    "    allFeats_df = pd.concat(all_featureSets, sort=False, axis=1)\n",
    "    results = {}\n",
    "    with tqdm(allFeats_df.columns, desc=\"Ablation on \"+corpus_name) as pbar:\n",
    "        for feature in pbar:\n",
    "            X = allFeats_df.drop(feature, axis=1)\n",
    "            y = feats_and_labels['labels'].reindex(X.index)\n",
    "            cv = GridSearchCV(SVC(probability=True), params, verbose=False, n_jobs=20, cv=5)\n",
    "            cv.fit(X, y)\n",
    "            results[feature] = cv\n",
    "    return results\n",
    "\n",
    "cvs = {\n",
    "    'twitr': ablationStudy(\"twitr\"),\n",
    "    'weibo': ablationStudy(\"weibo\"),\n",
    "}\n",
    "\n",
    "from joblib import dump, load\n",
    "dump(cvs, f'ablationStudy_cvs{\"\" if IF_SUBSAMPLE_TO_QUARTILES else \"_noQuartileFiltering\"}.joblib')"
   ]
  },
  {
   "cell_type": "code",
   "execution_count": 16,
   "metadata": {
    "Collapsed": "false"
   },
   "outputs": [
    {
     "data": {
      "text/html": [
       "<div>\n",
       "<style scoped>\n",
       "    .dataframe tbody tr th:only-of-type {\n",
       "        vertical-align: middle;\n",
       "    }\n",
       "\n",
       "    .dataframe tbody tr th {\n",
       "        vertical-align: top;\n",
       "    }\n",
       "\n",
       "    .dataframe thead th {\n",
       "        text-align: right;\n",
       "    }\n",
       "</style>\n",
       "<table border=\"1\" class=\"dataframe\">\n",
       "  <thead>\n",
       "    <tr style=\"text-align: right;\">\n",
       "      <th></th>\n",
       "      <th></th>\n",
       "      <th>mean_fit_time</th>\n",
       "      <th>std_fit_time</th>\n",
       "      <th>mean_score_time</th>\n",
       "      <th>std_score_time</th>\n",
       "      <th>param_C</th>\n",
       "      <th>param_gamma</th>\n",
       "      <th>param_kernel</th>\n",
       "      <th>params</th>\n",
       "      <th>split0_test_score</th>\n",
       "      <th>split1_test_score</th>\n",
       "      <th>split2_test_score</th>\n",
       "      <th>split3_test_score</th>\n",
       "      <th>split4_test_score</th>\n",
       "      <th>mean_test_score</th>\n",
       "      <th>std_test_score</th>\n",
       "      <th>rank_test_score</th>\n",
       "    </tr>\n",
       "    <tr>\n",
       "      <th>corpus</th>\n",
       "      <th>feature</th>\n",
       "      <th></th>\n",
       "      <th></th>\n",
       "      <th></th>\n",
       "      <th></th>\n",
       "      <th></th>\n",
       "      <th></th>\n",
       "      <th></th>\n",
       "      <th></th>\n",
       "      <th></th>\n",
       "      <th></th>\n",
       "      <th></th>\n",
       "      <th></th>\n",
       "      <th></th>\n",
       "      <th></th>\n",
       "      <th></th>\n",
       "      <th></th>\n",
       "    </tr>\n",
       "  </thead>\n",
       "  <tbody>\n",
       "    <tr>\n",
       "      <th rowspan=\"2\" valign=\"top\">twitr</th>\n",
       "      <th>Anx</th>\n",
       "      <td>3.474722</td>\n",
       "      <td>0.460420</td>\n",
       "      <td>0.119050</td>\n",
       "      <td>0.017016</td>\n",
       "      <td>0.05</td>\n",
       "      <td>0.001</td>\n",
       "      <td>linear</td>\n",
       "      <td>{'C': 0.05, 'gamma': 0.001, 'kernel': 'linear'}</td>\n",
       "      <td>0.703774</td>\n",
       "      <td>0.696226</td>\n",
       "      <td>0.707547</td>\n",
       "      <td>0.769811</td>\n",
       "      <td>0.771698</td>\n",
       "      <td>0.729811</td>\n",
       "      <td>0.033634</td>\n",
       "      <td>1</td>\n",
       "    </tr>\n",
       "    <tr>\n",
       "      <th>Shehe</th>\n",
       "      <td>3.740550</td>\n",
       "      <td>0.517964</td>\n",
       "      <td>0.108842</td>\n",
       "      <td>0.020882</td>\n",
       "      <td>0.10</td>\n",
       "      <td>0.001</td>\n",
       "      <td>linear</td>\n",
       "      <td>{'C': 0.1, 'gamma': 0.001, 'kernel': 'linear'}</td>\n",
       "      <td>0.692453</td>\n",
       "      <td>0.698113</td>\n",
       "      <td>0.705660</td>\n",
       "      <td>0.764151</td>\n",
       "      <td>0.773585</td>\n",
       "      <td>0.726792</td>\n",
       "      <td>0.034737</td>\n",
       "      <td>1</td>\n",
       "    </tr>\n",
       "  </tbody>\n",
       "</table>\n",
       "</div>"
      ],
      "text/plain": [
       "                mean_fit_time  std_fit_time  mean_score_time  std_score_time  \\\n",
       "corpus feature                                                                 \n",
       "twitr  Anx           3.474722      0.460420         0.119050        0.017016   \n",
       "       Shehe         3.740550      0.517964         0.108842        0.020882   \n",
       "\n",
       "                param_C  param_gamma param_kernel  \\\n",
       "corpus feature                                      \n",
       "twitr  Anx         0.05        0.001       linear   \n",
       "       Shehe       0.10        0.001       linear   \n",
       "\n",
       "                                                         params  \\\n",
       "corpus feature                                                    \n",
       "twitr  Anx      {'C': 0.05, 'gamma': 0.001, 'kernel': 'linear'}   \n",
       "       Shehe     {'C': 0.1, 'gamma': 0.001, 'kernel': 'linear'}   \n",
       "\n",
       "                split0_test_score  split1_test_score  split2_test_score  \\\n",
       "corpus feature                                                            \n",
       "twitr  Anx               0.703774           0.696226           0.707547   \n",
       "       Shehe             0.692453           0.698113           0.705660   \n",
       "\n",
       "                split3_test_score  split4_test_score  mean_test_score  \\\n",
       "corpus feature                                                          \n",
       "twitr  Anx               0.769811           0.771698         0.729811   \n",
       "       Shehe             0.764151           0.773585         0.726792   \n",
       "\n",
       "                std_test_score  rank_test_score  \n",
       "corpus feature                                   \n",
       "twitr  Anx            0.033634                1  \n",
       "       Shehe          0.034737                1  "
      ]
     },
     "execution_count": 16,
     "metadata": {},
     "output_type": "execute_result"
    }
   ],
   "source": [
    "def readResultsForTheBestEstimatorFromEachCv(cvs: dict)-> pd.Series:\n",
    "    for corpus_name, corpus_cvs in cvs.items():\n",
    "        for feature, cv in corpus_cvs.items():\n",
    "            bestEstimator_cvResults = pd.DataFrame(cv.cv_results_).iloc[cv.best_index_]\n",
    "            bestEstimator_cvResults['feature'] = feature\n",
    "            bestEstimator_cvResults['corpus'] = corpus_name\n",
    "            yield bestEstimator_cvResults\n",
    "\n",
    "# Results for the best estimator from each CV object:\n",
    "cvs_df = pd.DataFrame(list(readResultsForTheBestEstimatorFromEachCv(cvs)))\n",
    "cvs_df.set_index(['corpus', 'feature'], inplace=True)\n",
    "cvs_df.to_csv(f'weibo+twitr_{NUM_POSTS}Each{\"\" if IF_SUBSAMPLE_TO_QUARTILES else \"_ablationStudy_noQuartileFiltering\"}_cvResults_df.csv')\n",
    "cvs_df.head(2)"
   ]
  },
  {
   "cell_type": "code",
   "execution_count": 72,
   "metadata": {
    "Collapsed": "false"
   },
   "outputs": [],
   "source": [
    "abl_df = cvs_df['mean_test_score'].unstack(0).dropna()"
   ]
  },
  {
   "cell_type": "code",
   "execution_count": 73,
   "metadata": {
    "Collapsed": "false"
   },
   "outputs": [
    {
     "data": {
      "text/html": [
       "<div>\n",
       "<style scoped>\n",
       "    .dataframe tbody tr th:only-of-type {\n",
       "        vertical-align: middle;\n",
       "    }\n",
       "\n",
       "    .dataframe tbody tr th {\n",
       "        vertical-align: top;\n",
       "    }\n",
       "\n",
       "    .dataframe thead th {\n",
       "        text-align: right;\n",
       "    }\n",
       "</style>\n",
       "<table border=\"1\" class=\"dataframe\">\n",
       "  <thead>\n",
       "    <tr style=\"text-align: right;\">\n",
       "      <th></th>\n",
       "      <th></th>\n",
       "      <th>twitr</th>\n",
       "      <th>weibo</th>\n",
       "    </tr>\n",
       "    <tr>\n",
       "      <th>lex</th>\n",
       "      <th>feature</th>\n",
       "      <th></th>\n",
       "      <th></th>\n",
       "    </tr>\n",
       "  </thead>\n",
       "  <tbody>\n",
       "    <tr>\n",
       "      <th rowspan=\"5\" valign=\"top\">EmoLex</th>\n",
       "      <th>Anger</th>\n",
       "      <td>0.725660</td>\n",
       "      <td>0.781132</td>\n",
       "    </tr>\n",
       "    <tr>\n",
       "      <th>Anticipation</th>\n",
       "      <td>0.729434</td>\n",
       "      <td>0.780000</td>\n",
       "    </tr>\n",
       "    <tr>\n",
       "      <th>Disgust</th>\n",
       "      <td>0.727547</td>\n",
       "      <td>0.779245</td>\n",
       "    </tr>\n",
       "    <tr>\n",
       "      <th>Fear</th>\n",
       "      <td>0.730943</td>\n",
       "      <td>0.779623</td>\n",
       "    </tr>\n",
       "    <tr>\n",
       "      <th>Joy</th>\n",
       "      <td>0.720755</td>\n",
       "      <td>0.778868</td>\n",
       "    </tr>\n",
       "  </tbody>\n",
       "</table>\n",
       "</div>"
      ],
      "text/plain": [
       "                        twitr     weibo\n",
       "lex    feature                         \n",
       "EmoLex Anger         0.725660  0.781132\n",
       "       Anticipation  0.729434  0.780000\n",
       "       Disgust       0.727547  0.779245\n",
       "       Fear          0.730943  0.779623\n",
       "       Joy           0.720755  0.778868"
      ]
     },
     "execution_count": 73,
     "metadata": {},
     "output_type": "execute_result"
    }
   ],
   "source": [
    "def splitPrefixIntoAnotherColumn(t):\n",
    "    if t[0]=='*':\n",
    "        return 'EmoLex', t[1:]\n",
    "    if t[0]=='+':\n",
    "        return 'PoliteLex', t[1:]\n",
    "    return 'LIWC', t\n",
    "new_index = abl_df.index.to_series().apply(splitPrefixIntoAnotherColumn).apply(pd.Series).rename(columns={0: 'lex', 1: 'feature'})\n",
    "abl_df = pd.concat([abl_df, new_index],axis=1).set_index(['lex', 'feature'])\n",
    "abl_df.head()"
   ]
  },
  {
   "cell_type": "code",
   "execution_count": 74,
   "metadata": {
    "Collapsed": "false"
   },
   "outputs": [
    {
     "data": {
      "text/html": [
       "<div>\n",
       "<style scoped>\n",
       "    .dataframe tbody tr th:only-of-type {\n",
       "        vertical-align: middle;\n",
       "    }\n",
       "\n",
       "    .dataframe tbody tr th {\n",
       "        vertical-align: top;\n",
       "    }\n",
       "\n",
       "    .dataframe thead th {\n",
       "        text-align: right;\n",
       "    }\n",
       "</style>\n",
       "<table border=\"1\" class=\"dataframe\">\n",
       "  <thead>\n",
       "    <tr style=\"text-align: right;\">\n",
       "      <th></th>\n",
       "      <th></th>\n",
       "      <th>twitr</th>\n",
       "      <th>weibo</th>\n",
       "    </tr>\n",
       "    <tr>\n",
       "      <th>lex</th>\n",
       "      <th>feature</th>\n",
       "      <th></th>\n",
       "      <th></th>\n",
       "    </tr>\n",
       "  </thead>\n",
       "  <tbody>\n",
       "    <tr>\n",
       "      <th rowspan=\"2\" valign=\"top\">PoliteLex</th>\n",
       "      <th>gratitude</th>\n",
       "      <td>0.727170</td>\n",
       "      <td>0.723396</td>\n",
       "    </tr>\n",
       "    <tr>\n",
       "      <th>apologetic</th>\n",
       "      <td>0.726038</td>\n",
       "      <td>0.769811</td>\n",
       "    </tr>\n",
       "    <tr>\n",
       "      <th>EmoLex</th>\n",
       "      <th>Joy</th>\n",
       "      <td>0.720755</td>\n",
       "      <td>0.778868</td>\n",
       "    </tr>\n",
       "    <tr>\n",
       "      <th>LIWC</th>\n",
       "      <th>Swear</th>\n",
       "      <td>0.725660</td>\n",
       "      <td>0.777358</td>\n",
       "    </tr>\n",
       "    <tr>\n",
       "      <th>EmoLex</th>\n",
       "      <th>Trust</th>\n",
       "      <td>0.724528</td>\n",
       "      <td>0.778868</td>\n",
       "    </tr>\n",
       "  </tbody>\n",
       "</table>\n",
       "</div>"
      ],
      "text/plain": [
       "                         twitr     weibo\n",
       "lex       feature                       \n",
       "PoliteLex gratitude   0.727170  0.723396\n",
       "          apologetic  0.726038  0.769811\n",
       "EmoLex    Joy         0.720755  0.778868\n",
       "LIWC      Swear       0.725660  0.777358\n",
       "EmoLex    Trust       0.724528  0.778868"
      ]
     },
     "execution_count": 74,
     "metadata": {},
     "output_type": "execute_result"
    }
   ],
   "source": [
    "abl_avgs = abl_df.T.mean().sort_values(ascending=True)\n",
    "abl_df = abl_df.reindex(abl_avgs.index)\n",
    "abl_df.head()"
   ]
  },
  {
   "cell_type": "code",
   "execution_count": 67,
   "metadata": {
    "Collapsed": "false"
   },
   "outputs": [],
   "source": [
    "abl_df.to_csv(f'weibo+twitr_{NUM_POSTS}Each{\"\" if IF_SUBSAMPLE_TO_QUARTILES else \"_ablationStudy_noQuartileFiltering\"}_accuranciesWithEachFeatureRemoved_df.csv')"
   ]
  },
  {
   "cell_type": "code",
   "execution_count": 68,
   "metadata": {
    "Collapsed": "false"
   },
   "outputs": [
    {
     "data": {
      "text/html": [
       "<div>\n",
       "<style scoped>\n",
       "    .dataframe tbody tr th:only-of-type {\n",
       "        vertical-align: middle;\n",
       "    }\n",
       "\n",
       "    .dataframe tbody tr th {\n",
       "        vertical-align: top;\n",
       "    }\n",
       "\n",
       "    .dataframe thead th {\n",
       "        text-align: right;\n",
       "    }\n",
       "</style>\n",
       "<table border=\"1\" class=\"dataframe\">\n",
       "  <thead>\n",
       "    <tr style=\"text-align: right;\">\n",
       "      <th></th>\n",
       "      <th></th>\n",
       "      <th>Twitter</th>\n",
       "      <th>Weibo</th>\n",
       "    </tr>\n",
       "    <tr>\n",
       "      <th>lex</th>\n",
       "      <th>feature</th>\n",
       "      <th></th>\n",
       "      <th></th>\n",
       "    </tr>\n",
       "  </thead>\n",
       "  <tbody>\n",
       "    <tr>\n",
       "      <th>PoliteLex</th>\n",
       "      <th>you_direct</th>\n",
       "      <td>NaN</td>\n",
       "      <td>-0.387303</td>\n",
       "    </tr>\n",
       "    <tr>\n",
       "      <th>LIWC</th>\n",
       "      <th>Swear</th>\n",
       "      <td>-0.42129</td>\n",
       "      <td>-0.329483</td>\n",
       "    </tr>\n",
       "    <tr>\n",
       "      <th>PoliteLex</th>\n",
       "      <th>taboo</th>\n",
       "      <td>-0.41714</td>\n",
       "      <td>-0.324693</td>\n",
       "    </tr>\n",
       "    <tr>\n",
       "      <th rowspan=\"2\" valign=\"top\">LIWC</th>\n",
       "      <th>You</th>\n",
       "      <td>NaN</td>\n",
       "      <td>-0.356683</td>\n",
       "    </tr>\n",
       "    <tr>\n",
       "      <th>Anger</th>\n",
       "      <td>-0.36707</td>\n",
       "      <td>-0.254245</td>\n",
       "    </tr>\n",
       "  </tbody>\n",
       "</table>\n",
       "</div>"
      ],
      "text/plain": [
       "                      Twitter     Weibo\n",
       "lex       feature                      \n",
       "PoliteLex you_direct      NaN -0.387303\n",
       "LIWC      Swear      -0.42129 -0.329483\n",
       "PoliteLex taboo      -0.41714 -0.324693\n",
       "LIWC      You             NaN -0.356683\n",
       "          Anger      -0.36707 -0.254245"
      ]
     },
     "execution_count": 68,
     "metadata": {},
     "output_type": "execute_result"
    }
   ],
   "source": [
    "corr_df = pd.read_csv('concat_significantOnly_wide_df_5300_WeiboABCDTwitrABDE.csv', index_col=['lex','feature'])\n",
    "corr_avgs = corr_df.T.mean().sort_values(ascending=True)\n",
    "corr_df = corr_df.reindex(corr_avgs.index)\n",
    "corr_df.head()"
   ]
  },
  {
   "cell_type": "code",
   "execution_count": 90,
   "metadata": {
    "Collapsed": "false"
   },
   "outputs": [],
   "source": [
    "avgs_df = pd.DataFrame({\n",
    "    'corr': corr_avgs.abs(), # because the higher the absolute value, the higher predictive power.\n",
    "    'abl': -abl_avgs, # Because the lower the value, the higher predictive power.\n",
    "})"
   ]
  },
  {
   "cell_type": "code",
   "execution_count": 92,
   "metadata": {
    "Collapsed": "false"
   },
   "outputs": [
    {
     "data": {
      "text/html": [
       "<div>\n",
       "<style scoped>\n",
       "    .dataframe tbody tr th:only-of-type {\n",
       "        vertical-align: middle;\n",
       "    }\n",
       "\n",
       "    .dataframe tbody tr th {\n",
       "        vertical-align: top;\n",
       "    }\n",
       "\n",
       "    .dataframe thead th {\n",
       "        text-align: right;\n",
       "    }\n",
       "</style>\n",
       "<table border=\"1\" class=\"dataframe\">\n",
       "  <thead>\n",
       "    <tr style=\"text-align: right;\">\n",
       "      <th></th>\n",
       "      <th>corr</th>\n",
       "      <th>abl</th>\n",
       "    </tr>\n",
       "  </thead>\n",
       "  <tbody>\n",
       "    <tr>\n",
       "      <th>corr</th>\n",
       "      <td>1.000000</td>\n",
       "      <td>0.115117</td>\n",
       "    </tr>\n",
       "    <tr>\n",
       "      <th>abl</th>\n",
       "      <td>0.115117</td>\n",
       "      <td>1.000000</td>\n",
       "    </tr>\n",
       "  </tbody>\n",
       "</table>\n",
       "</div>"
      ],
      "text/plain": [
       "          corr       abl\n",
       "corr  1.000000  0.115117\n",
       "abl   0.115117  1.000000"
      ]
     },
     "execution_count": 92,
     "metadata": {},
     "output_type": "execute_result"
    }
   ],
   "source": [
    "avgs_df.corr(method='spearman')"
   ]
  },
  {
   "cell_type": "code",
   "execution_count": 96,
   "metadata": {
    "Collapsed": "false"
   },
   "outputs": [],
   "source": [
    "pd.concat([\n",
    "    corr_df, \n",
    "    abl_df,\n",
    "], sort=False, axis=1).to_csv('abl_and_corr.csv')"
   ]
  },
  {
   "cell_type": "markdown",
   "metadata": {
    "Collapsed": "false"
   },
   "source": [
    "## Train 5-fold Cross Validations"
   ]
  },
  {
   "cell_type": "code",
   "execution_count": 9,
   "metadata": {
    "Collapsed": "false"
   },
   "outputs": [],
   "source": [
    "from itertools import combinations\n",
    "def allCombinations(iterable):\n",
    "    '''l, e, p -> l, e, p, le, ep, lp, lep'''\n",
    "    for num_featureSets_toUse in range(1, len(iterable)+1):\n",
    "        for i in combinations(iterable, num_featureSets_toUse):\n",
    "            # Skip combinations of the Stanford Feature Set with any other feature sets.\n",
    "            if 's' in i and len(i)>1: continue\n",
    "            yield i\n",
    "\n",
    "def getFeatureSet(initial2vecsDf: dict, initials) -> pd.DataFrame:\n",
    "    selected_featureSets = [initial2vecsDf[i] for i in initials]\n",
    "    featureSet_df = pd.concat(selected_featureSets, sort=False, axis=1)\n",
    "    return featureSet_df\n",
    "\n",
    "def trainCv(acronym, initial2vecsDf, labels, pbar):\n",
    "    # Housekeeping tasks.\n",
    "    cv = GridSearchCV(SVC(probability=True), params, verbose=True, n_jobs=20)\n",
    "\n",
    "    # Prepare data and actually train the CV object.\n",
    "    X = getFeatureSet(initial2vecsDf, acronym)\n",
    "    y = labels.reindex(X.index)\n",
    "    pbar.write(f\"## {acronym}\\t(# samples, # feats) = {X.shape}\")\n",
    "    cv.fit(X, y)\n",
    "\n",
    "    return cv\n",
    "\n",
    "def experiment(corpus: str) -> dict:\n",
    "    '''Performs an experiment.'''\n",
    "    initial2vecsDf = corpus_to_feats_and_labels[corpus]['feats']\n",
    "    labels = corpus_to_feats_and_labels[corpus]['labels']\n",
    "    \n",
    "    # Figure out total number of combinations we need to try.\n",
    "    n = len(list(allCombinations(initial2vecsDf)))\n",
    "    \n",
    "    # This nested dict maps `this_combination_acronym` to CV objects.\n",
    "    cvs = dict()\n",
    "\n",
    "    all_combos = allCombinations(initial2vecsDf)\n",
    "    with tqdm(all_combos, total=n, desc=f\"Experiments on the {corpus} Corpus\") as pbar:\n",
    "        for initials in pbar:\n",
    "            acronym = ''.join(initials)\n",
    "            cvs[acronym] = trainCv(acronym, initial2vecsDf, labels, pbar)\n",
    "    return cvs"
   ]
  },
  {
   "cell_type": "code",
   "execution_count": 10,
   "metadata": {
    "Collapsed": "false"
   },
   "outputs": [
    {
     "name": "stderr",
     "output_type": "stream",
     "text": [
      "Experiments on the twitr Corpus:   0%|          | 0/8 [00:00<?, ?it/s]"
     ]
    },
    {
     "name": "stdout",
     "output_type": "stream",
     "text": [
      "## l\t(# samples, # feats) = (2650, 70)\n",
      "Fitting 3 folds for each of 35 candidates, totalling 105 fits\n"
     ]
    },
    {
     "name": "stderr",
     "output_type": "stream",
     "text": [
      "/home/myli/miniconda3/envs/main/lib/python3.7/site-packages/sklearn/model_selection/_split.py:1978: FutureWarning: The default value of cv will change from 3 to 5 in version 0.22. Specify it explicitly to silence this warning.\n",
      "  warnings.warn(CV_WARNING, FutureWarning)\n",
      "[Parallel(n_jobs=20)]: Using backend LokyBackend with 20 concurrent workers.\n",
      "[Parallel(n_jobs=20)]: Done  10 tasks      | elapsed:    3.2s\n",
      "[Parallel(n_jobs=20)]: Done 105 out of 105 | elapsed:   12.7s finished\n",
      "Experiments on the twitr Corpus:  12%|█▎        | 1/8 [00:15<01:47, 15.38s/it]/home/myli/miniconda3/envs/main/lib/python3.7/site-packages/sklearn/model_selection/_split.py:1978: FutureWarning: The default value of cv will change from 3 to 5 in version 0.22. Specify it explicitly to silence this warning.\n",
      "  warnings.warn(CV_WARNING, FutureWarning)\n",
      "[Parallel(n_jobs=20)]: Using backend LokyBackend with 20 concurrent workers.\n"
     ]
    },
    {
     "name": "stdout",
     "output_type": "stream",
     "text": [
      "## e\t(# samples, # feats) = (2650, 8)\n",
      "Fitting 3 folds for each of 35 candidates, totalling 105 fits\n"
     ]
    },
    {
     "name": "stderr",
     "output_type": "stream",
     "text": [
      "[Parallel(n_jobs=20)]: Done  10 tasks      | elapsed:    0.5s\n",
      "[Parallel(n_jobs=20)]: Done 105 out of 105 | elapsed:    3.1s finished\n",
      "Experiments on the twitr Corpus:  25%|██▌       | 2/8 [00:19<01:11, 11.98s/it]/home/myli/miniconda3/envs/main/lib/python3.7/site-packages/sklearn/model_selection/_split.py:1978: FutureWarning: The default value of cv will change from 3 to 5 in version 0.22. Specify it explicitly to silence this warning.\n",
      "  warnings.warn(CV_WARNING, FutureWarning)\n",
      "[Parallel(n_jobs=20)]: Using backend LokyBackend with 20 concurrent workers.\n"
     ]
    },
    {
     "name": "stdout",
     "output_type": "stream",
     "text": [
      "## p\t(# samples, # feats) = (2650, 26)\n",
      "Fitting 3 folds for each of 35 candidates, totalling 105 fits\n"
     ]
    },
    {
     "name": "stderr",
     "output_type": "stream",
     "text": [
      "[Parallel(n_jobs=20)]: Done  10 tasks      | elapsed:    0.8s\n",
      "[Parallel(n_jobs=20)]: Done 105 out of 105 | elapsed:    4.2s finished\n",
      "Experiments on the twitr Corpus:  38%|███▊      | 3/8 [00:24<00:49, 10.00s/it]/home/myli/miniconda3/envs/main/lib/python3.7/site-packages/sklearn/model_selection/_split.py:1978: FutureWarning: The default value of cv will change from 3 to 5 in version 0.22. Specify it explicitly to silence this warning.\n",
      "  warnings.warn(CV_WARNING, FutureWarning)\n",
      "[Parallel(n_jobs=20)]: Using backend LokyBackend with 20 concurrent workers.\n"
     ]
    },
    {
     "name": "stdout",
     "output_type": "stream",
     "text": [
      "## s\t(# samples, # feats) = (2650, 21)\n",
      "Fitting 3 folds for each of 35 candidates, totalling 105 fits\n"
     ]
    },
    {
     "name": "stderr",
     "output_type": "stream",
     "text": [
      "[Parallel(n_jobs=20)]: Done  10 tasks      | elapsed:    0.7s\n",
      "[Parallel(n_jobs=20)]: Done 105 out of 105 | elapsed:    3.9s finished\n",
      "Experiments on the twitr Corpus:  50%|█████     | 4/8 [00:29<00:34,  8.50s/it]/home/myli/miniconda3/envs/main/lib/python3.7/site-packages/sklearn/model_selection/_split.py:1978: FutureWarning: The default value of cv will change from 3 to 5 in version 0.22. Specify it explicitly to silence this warning.\n",
      "  warnings.warn(CV_WARNING, FutureWarning)\n",
      "[Parallel(n_jobs=20)]: Using backend LokyBackend with 20 concurrent workers.\n"
     ]
    },
    {
     "name": "stdout",
     "output_type": "stream",
     "text": [
      "## le\t(# samples, # feats) = (2650, 78)\n",
      "Fitting 3 folds for each of 35 candidates, totalling 105 fits\n"
     ]
    },
    {
     "name": "stderr",
     "output_type": "stream",
     "text": [
      "[Parallel(n_jobs=20)]: Done  10 tasks      | elapsed:    1.7s\n",
      "[Parallel(n_jobs=20)]: Done 105 out of 105 | elapsed:   12.4s finished\n",
      "Experiments on the twitr Corpus:  62%|██████▎   | 5/8 [00:47<00:33, 11.20s/it]/home/myli/miniconda3/envs/main/lib/python3.7/site-packages/sklearn/model_selection/_split.py:1978: FutureWarning: The default value of cv will change from 3 to 5 in version 0.22. Specify it explicitly to silence this warning.\n",
      "  warnings.warn(CV_WARNING, FutureWarning)\n",
      "[Parallel(n_jobs=20)]: Using backend LokyBackend with 20 concurrent workers.\n"
     ]
    },
    {
     "name": "stdout",
     "output_type": "stream",
     "text": [
      "## lp\t(# samples, # feats) = (2650, 96)\n",
      "Fitting 3 folds for each of 35 candidates, totalling 105 fits\n"
     ]
    },
    {
     "name": "stderr",
     "output_type": "stream",
     "text": [
      "[Parallel(n_jobs=20)]: Done  10 tasks      | elapsed:    2.2s\n",
      "[Parallel(n_jobs=20)]: Done 105 out of 105 | elapsed:   15.2s finished\n",
      "Experiments on the twitr Corpus:  75%|███████▌  | 6/8 [01:07<00:28, 14.02s/it]/home/myli/miniconda3/envs/main/lib/python3.7/site-packages/sklearn/model_selection/_split.py:1978: FutureWarning: The default value of cv will change from 3 to 5 in version 0.22. Specify it explicitly to silence this warning.\n",
      "  warnings.warn(CV_WARNING, FutureWarning)\n",
      "[Parallel(n_jobs=20)]: Using backend LokyBackend with 20 concurrent workers.\n"
     ]
    },
    {
     "name": "stdout",
     "output_type": "stream",
     "text": [
      "## ep\t(# samples, # feats) = (2650, 34)\n",
      "Fitting 3 folds for each of 35 candidates, totalling 105 fits\n"
     ]
    },
    {
     "name": "stderr",
     "output_type": "stream",
     "text": [
      "[Parallel(n_jobs=20)]: Done  10 tasks      | elapsed:    0.9s\n",
      "[Parallel(n_jobs=20)]: Done 105 out of 105 | elapsed:    6.0s finished\n",
      "Experiments on the twitr Corpus:  88%|████████▊ | 7/8 [01:15<00:12, 12.08s/it]/home/myli/miniconda3/envs/main/lib/python3.7/site-packages/sklearn/model_selection/_split.py:1978: FutureWarning: The default value of cv will change from 3 to 5 in version 0.22. Specify it explicitly to silence this warning.\n",
      "  warnings.warn(CV_WARNING, FutureWarning)\n",
      "[Parallel(n_jobs=20)]: Using backend LokyBackend with 20 concurrent workers.\n"
     ]
    },
    {
     "name": "stdout",
     "output_type": "stream",
     "text": [
      "## lep\t(# samples, # feats) = (2650, 104)\n",
      "Fitting 3 folds for each of 35 candidates, totalling 105 fits\n"
     ]
    },
    {
     "name": "stderr",
     "output_type": "stream",
     "text": [
      "[Parallel(n_jobs=20)]: Done  10 tasks      | elapsed:    2.2s\n",
      "[Parallel(n_jobs=20)]: Done 105 out of 105 | elapsed:   15.7s finished\n",
      "Experiments on the twitr Corpus: 100%|██████████| 8/8 [01:37<00:00, 12.18s/it]\n",
      "Experiments on the weibo Corpus:   0%|          | 0/7 [00:00<?, ?it/s]/home/myli/miniconda3/envs/main/lib/python3.7/site-packages/sklearn/model_selection/_split.py:1978: FutureWarning: The default value of cv will change from 3 to 5 in version 0.22. Specify it explicitly to silence this warning.\n",
      "  warnings.warn(CV_WARNING, FutureWarning)\n",
      "[Parallel(n_jobs=20)]: Using backend LokyBackend with 20 concurrent workers.\n"
     ]
    },
    {
     "name": "stdout",
     "output_type": "stream",
     "text": [
      "## l\t(# samples, # feats) = (2650, 70)\n",
      "Fitting 3 folds for each of 35 candidates, totalling 105 fits\n"
     ]
    },
    {
     "name": "stderr",
     "output_type": "stream",
     "text": [
      "[Parallel(n_jobs=20)]: Done  10 tasks      | elapsed:    1.6s\n",
      "[Parallel(n_jobs=20)]: Done 105 out of 105 | elapsed:   20.6s finished\n",
      "Experiments on the weibo Corpus:  14%|█▍        | 1/7 [00:23<02:20, 23.45s/it]/home/myli/miniconda3/envs/main/lib/python3.7/site-packages/sklearn/model_selection/_split.py:1978: FutureWarning: The default value of cv will change from 3 to 5 in version 0.22. Specify it explicitly to silence this warning.\n",
      "  warnings.warn(CV_WARNING, FutureWarning)\n",
      "[Parallel(n_jobs=20)]: Using backend LokyBackend with 20 concurrent workers.\n"
     ]
    },
    {
     "name": "stdout",
     "output_type": "stream",
     "text": [
      "## e\t(# samples, # feats) = (2650, 8)\n",
      "Fitting 3 folds for each of 35 candidates, totalling 105 fits\n"
     ]
    },
    {
     "name": "stderr",
     "output_type": "stream",
     "text": [
      "[Parallel(n_jobs=20)]: Done  10 tasks      | elapsed:    0.5s\n",
      "[Parallel(n_jobs=20)]: Done 105 out of 105 | elapsed:    3.6s finished\n",
      "Experiments on the weibo Corpus:  29%|██▊       | 2/7 [00:28<01:28, 17.79s/it]/home/myli/miniconda3/envs/main/lib/python3.7/site-packages/sklearn/model_selection/_split.py:1978: FutureWarning: The default value of cv will change from 3 to 5 in version 0.22. Specify it explicitly to silence this warning.\n",
      "  warnings.warn(CV_WARNING, FutureWarning)\n",
      "[Parallel(n_jobs=20)]: Using backend LokyBackend with 20 concurrent workers.\n"
     ]
    },
    {
     "name": "stdout",
     "output_type": "stream",
     "text": [
      "## p\t(# samples, # feats) = (2650, 26)\n",
      "Fitting 3 folds for each of 35 candidates, totalling 105 fits\n"
     ]
    },
    {
     "name": "stderr",
     "output_type": "stream",
     "text": [
      "[Parallel(n_jobs=20)]: Done  10 tasks      | elapsed:    0.7s\n",
      "[Parallel(n_jobs=20)]: Done 105 out of 105 | elapsed:    4.1s finished\n",
      "Experiments on the weibo Corpus:  43%|████▎     | 3/7 [00:33<00:56, 14.08s/it]/home/myli/miniconda3/envs/main/lib/python3.7/site-packages/sklearn/model_selection/_split.py:1978: FutureWarning: The default value of cv will change from 3 to 5 in version 0.22. Specify it explicitly to silence this warning.\n",
      "  warnings.warn(CV_WARNING, FutureWarning)\n",
      "[Parallel(n_jobs=20)]: Using backend LokyBackend with 20 concurrent workers.\n"
     ]
    },
    {
     "name": "stdout",
     "output_type": "stream",
     "text": [
      "## le\t(# samples, # feats) = (2650, 78)\n",
      "Fitting 3 folds for each of 35 candidates, totalling 105 fits\n"
     ]
    },
    {
     "name": "stderr",
     "output_type": "stream",
     "text": [
      "[Parallel(n_jobs=20)]: Done  10 tasks      | elapsed:    1.6s\n",
      "[Parallel(n_jobs=20)]: Done 105 out of 105 | elapsed:   22.5s finished\n",
      "Experiments on the weibo Corpus:  57%|█████▋    | 4/7 [00:59<00:52, 17.53s/it]/home/myli/miniconda3/envs/main/lib/python3.7/site-packages/sklearn/model_selection/_split.py:1978: FutureWarning: The default value of cv will change from 3 to 5 in version 0.22. Specify it explicitly to silence this warning.\n",
      "  warnings.warn(CV_WARNING, FutureWarning)\n",
      "[Parallel(n_jobs=20)]: Using backend LokyBackend with 20 concurrent workers.\n"
     ]
    },
    {
     "name": "stdout",
     "output_type": "stream",
     "text": [
      "## lp\t(# samples, # feats) = (2650, 96)\n",
      "Fitting 3 folds for each of 35 candidates, totalling 105 fits\n"
     ]
    },
    {
     "name": "stderr",
     "output_type": "stream",
     "text": [
      "[Parallel(n_jobs=20)]: Done  10 tasks      | elapsed:    2.0s\n",
      "[Parallel(n_jobs=20)]: Done 105 out of 105 | elapsed:   25.6s finished\n",
      "Experiments on the weibo Corpus:  71%|███████▏  | 5/7 [01:38<00:47, 23.96s/it]/home/myli/miniconda3/envs/main/lib/python3.7/site-packages/sklearn/model_selection/_split.py:1978: FutureWarning: The default value of cv will change from 3 to 5 in version 0.22. Specify it explicitly to silence this warning.\n",
      "  warnings.warn(CV_WARNING, FutureWarning)\n",
      "[Parallel(n_jobs=20)]: Using backend LokyBackend with 20 concurrent workers.\n"
     ]
    },
    {
     "name": "stdout",
     "output_type": "stream",
     "text": [
      "## ep\t(# samples, # feats) = (2650, 34)\n",
      "Fitting 3 folds for each of 35 candidates, totalling 105 fits\n"
     ]
    },
    {
     "name": "stderr",
     "output_type": "stream",
     "text": [
      "[Parallel(n_jobs=20)]: Done  10 tasks      | elapsed:    1.1s\n",
      "[Parallel(n_jobs=20)]: Done 105 out of 105 | elapsed:    6.0s finished\n",
      "Experiments on the weibo Corpus:  86%|████████▌ | 6/7 [01:45<00:19, 19.14s/it]/home/myli/miniconda3/envs/main/lib/python3.7/site-packages/sklearn/model_selection/_split.py:1978: FutureWarning: The default value of cv will change from 3 to 5 in version 0.22. Specify it explicitly to silence this warning.\n",
      "  warnings.warn(CV_WARNING, FutureWarning)\n",
      "[Parallel(n_jobs=20)]: Using backend LokyBackend with 20 concurrent workers.\n"
     ]
    },
    {
     "name": "stdout",
     "output_type": "stream",
     "text": [
      "## lep\t(# samples, # feats) = (2650, 104)\n",
      "Fitting 3 folds for each of 35 candidates, totalling 105 fits\n"
     ]
    },
    {
     "name": "stderr",
     "output_type": "stream",
     "text": [
      "[Parallel(n_jobs=20)]: Done  10 tasks      | elapsed:    2.2s\n",
      "[Parallel(n_jobs=20)]: Done 105 out of 105 | elapsed:   28.5s finished\n",
      "Experiments on the weibo Corpus: 100%|██████████| 7/7 [02:28<00:00, 21.14s/it]\n"
     ]
    },
    {
     "data": {
      "text/plain": [
       "['cvs.joblib']"
      ]
     },
     "execution_count": 10,
     "metadata": {},
     "output_type": "execute_result"
    }
   ],
   "source": [
    "cvs = {\n",
    "    'twitr': experiment(\"twitr\"),\n",
    "    'weibo': experiment(\"weibo\"),\n",
    "}\n",
    "\n",
    "from joblib import dump, load\n",
    "dump(cvs, f'cvs{\"\" if IF_SUBSAMPLE_TO_QUARTILES else \"_noQuartileFiltering\"}.joblib')"
   ]
  },
  {
   "cell_type": "markdown",
   "metadata": {
    "Collapsed": "false"
   },
   "source": [
    "## Performance Analysis"
   ]
  },
  {
   "cell_type": "markdown",
   "metadata": {
    "Collapsed": "false"
   },
   "source": [
    "### Plot Violin plot"
   ]
  },
  {
   "cell_type": "code",
   "execution_count": 11,
   "metadata": {
    "Collapsed": "false"
   },
   "outputs": [
    {
     "data": {
      "text/html": [
       "<div>\n",
       "<style scoped>\n",
       "    .dataframe tbody tr th:only-of-type {\n",
       "        vertical-align: middle;\n",
       "    }\n",
       "\n",
       "    .dataframe tbody tr th {\n",
       "        vertical-align: top;\n",
       "    }\n",
       "\n",
       "    .dataframe thead th {\n",
       "        text-align: right;\n",
       "    }\n",
       "</style>\n",
       "<table border=\"1\" class=\"dataframe\">\n",
       "  <thead>\n",
       "    <tr style=\"text-align: right;\">\n",
       "      <th></th>\n",
       "      <th></th>\n",
       "      <th>mean_fit_time</th>\n",
       "      <th>std_fit_time</th>\n",
       "      <th>mean_score_time</th>\n",
       "      <th>std_score_time</th>\n",
       "      <th>param_C</th>\n",
       "      <th>param_gamma</th>\n",
       "      <th>param_kernel</th>\n",
       "      <th>params</th>\n",
       "      <th>split0_test_score</th>\n",
       "      <th>split1_test_score</th>\n",
       "      <th>split2_test_score</th>\n",
       "      <th>mean_test_score</th>\n",
       "      <th>std_test_score</th>\n",
       "      <th>rank_test_score</th>\n",
       "    </tr>\n",
       "    <tr>\n",
       "      <th>corpus</th>\n",
       "      <th>feat_combo</th>\n",
       "      <th></th>\n",
       "      <th></th>\n",
       "      <th></th>\n",
       "      <th></th>\n",
       "      <th></th>\n",
       "      <th></th>\n",
       "      <th></th>\n",
       "      <th></th>\n",
       "      <th></th>\n",
       "      <th></th>\n",
       "      <th></th>\n",
       "      <th></th>\n",
       "      <th></th>\n",
       "      <th></th>\n",
       "    </tr>\n",
       "  </thead>\n",
       "  <tbody>\n",
       "    <tr>\n",
       "      <th rowspan=\"2\" valign=\"top\">twitr</th>\n",
       "      <th>l</th>\n",
       "      <td>1.298639</td>\n",
       "      <td>0.164584</td>\n",
       "      <td>0.083283</td>\n",
       "      <td>0.004506</td>\n",
       "      <td>0.05</td>\n",
       "      <td>0.001</td>\n",
       "      <td>linear</td>\n",
       "      <td>{'C': 0.05, 'gamma': 0.001, 'kernel': 'linear'}</td>\n",
       "      <td>0.660633</td>\n",
       "      <td>0.719457</td>\n",
       "      <td>0.770975</td>\n",
       "      <td>0.716981</td>\n",
       "      <td>0.045072</td>\n",
       "      <td>1</td>\n",
       "    </tr>\n",
       "    <tr>\n",
       "      <th>e</th>\n",
       "      <td>0.503121</td>\n",
       "      <td>0.096690</td>\n",
       "      <td>0.030042</td>\n",
       "      <td>0.006967</td>\n",
       "      <td>0.25</td>\n",
       "      <td>0.001</td>\n",
       "      <td>linear</td>\n",
       "      <td>{'C': 0.25, 'gamma': 0.001, 'kernel': 'linear'}</td>\n",
       "      <td>0.557692</td>\n",
       "      <td>0.581448</td>\n",
       "      <td>0.614512</td>\n",
       "      <td>0.584528</td>\n",
       "      <td>0.023295</td>\n",
       "      <td>1</td>\n",
       "    </tr>\n",
       "  </tbody>\n",
       "</table>\n",
       "</div>"
      ],
      "text/plain": [
       "                   mean_fit_time  std_fit_time  mean_score_time  \\\n",
       "corpus feat_combo                                                 \n",
       "twitr  l                1.298639      0.164584         0.083283   \n",
       "       e                0.503121      0.096690         0.030042   \n",
       "\n",
       "                   std_score_time  param_C  param_gamma param_kernel  \\\n",
       "corpus feat_combo                                                      \n",
       "twitr  l                 0.004506     0.05        0.001       linear   \n",
       "       e                 0.006967     0.25        0.001       linear   \n",
       "\n",
       "                                                            params  \\\n",
       "corpus feat_combo                                                    \n",
       "twitr  l           {'C': 0.05, 'gamma': 0.001, 'kernel': 'linear'}   \n",
       "       e           {'C': 0.25, 'gamma': 0.001, 'kernel': 'linear'}   \n",
       "\n",
       "                   split0_test_score  split1_test_score  split2_test_score  \\\n",
       "corpus feat_combo                                                            \n",
       "twitr  l                    0.660633           0.719457           0.770975   \n",
       "       e                    0.557692           0.581448           0.614512   \n",
       "\n",
       "                   mean_test_score  std_test_score  rank_test_score  \n",
       "corpus feat_combo                                                    \n",
       "twitr  l                  0.716981        0.045072                1  \n",
       "       e                  0.584528        0.023295                1  "
      ]
     },
     "execution_count": 11,
     "metadata": {},
     "output_type": "execute_result"
    }
   ],
   "source": [
    "def readResultsForTheBestEstimatorFromEachCv(cvs: dict)-> pd.Series:\n",
    "    for corpus_name, corpus_cvs in cvs.items():\n",
    "        for this_combination_acronym, cv in corpus_cvs.items():\n",
    "            bestEstimator_cvResults = pd.DataFrame(cv.cv_results_).iloc[cv.best_index_]\n",
    "            bestEstimator_cvResults['feat_combo'] = this_combination_acronym\n",
    "            bestEstimator_cvResults['corpus'] = corpus_name\n",
    "            yield bestEstimator_cvResults\n",
    "\n",
    "# Results for the best estimator from each CV object:\n",
    "cvs_df = pd.DataFrame(list(readResultsForTheBestEstimatorFromEachCv(cvs)))\n",
    "cvs_df.set_index(['corpus', 'feat_combo'], inplace=True)\n",
    "cvs_df.to_csv(f'weibo+twitr_{NUM_POSTS}Each{\"\" if IF_SUBSAMPLE_TO_QUARTILES else \"_noQuartileFiltering\"}_cvResults_df.csv')\n",
    "cvs_df.head(2)"
   ]
  },
  {
   "cell_type": "code",
   "execution_count": 12,
   "metadata": {
    "Collapsed": "false"
   },
   "outputs": [],
   "source": [
    "cvs_testScores_df = cvs_df[['mean_test_score', 'std_test_score']]\\\n",
    "    .reset_index()\\\n",
    "    .sort_values(['corpus', 'mean_test_score'])\\\n",
    "    .set_index(['corpus', 'feat_combo'])\n",
    "cvs_testScores_df.to_csv(f'weibo+twitr_{NUM_POSTS}Each{\"\" if IF_SUBSAMPLE_TO_QUARTILES else \"_noQuartileFiltering\"}_std_testScores_df.csv')"
   ]
  },
  {
   "cell_type": "code",
   "execution_count": 13,
   "metadata": {
    "Collapsed": "false"
   },
   "outputs": [
    {
     "data": {
      "text/html": [
       "<div>\n",
       "<style scoped>\n",
       "    .dataframe tbody tr th:only-of-type {\n",
       "        vertical-align: middle;\n",
       "    }\n",
       "\n",
       "    .dataframe tbody tr th {\n",
       "        vertical-align: top;\n",
       "    }\n",
       "\n",
       "    .dataframe thead th {\n",
       "        text-align: right;\n",
       "    }\n",
       "</style>\n",
       "<table border=\"1\" class=\"dataframe\">\n",
       "  <thead>\n",
       "    <tr style=\"text-align: right;\">\n",
       "      <th></th>\n",
       "      <th></th>\n",
       "      <th>split0_test_score</th>\n",
       "      <th>split1_test_score</th>\n",
       "      <th>split2_test_score</th>\n",
       "    </tr>\n",
       "    <tr>\n",
       "      <th>corpus</th>\n",
       "      <th>feat_combo</th>\n",
       "      <th></th>\n",
       "      <th></th>\n",
       "      <th></th>\n",
       "    </tr>\n",
       "  </thead>\n",
       "  <tbody>\n",
       "    <tr>\n",
       "      <th rowspan=\"2\" valign=\"top\">twitr</th>\n",
       "      <th>l</th>\n",
       "      <td>0.660633</td>\n",
       "      <td>0.719457</td>\n",
       "      <td>0.770975</td>\n",
       "    </tr>\n",
       "    <tr>\n",
       "      <th>e</th>\n",
       "      <td>0.557692</td>\n",
       "      <td>0.581448</td>\n",
       "      <td>0.614512</td>\n",
       "    </tr>\n",
       "  </tbody>\n",
       "</table>\n",
       "</div>"
      ],
      "text/plain": [
       "                   split0_test_score  split1_test_score  split2_test_score\n",
       "corpus feat_combo                                                         \n",
       "twitr  l                    0.660633           0.719457           0.770975\n",
       "       e                    0.557692           0.581448           0.614512"
      ]
     },
     "execution_count": 13,
     "metadata": {},
     "output_type": "execute_result"
    }
   ],
   "source": [
    "# Filter for test scores of all splits from each CV.\n",
    "cvs_testScores_raw_df = cvs_df[list(filter(lambda s: s.startswith('split') and s.endswith('test_score'), cvs_df.columns))]\n",
    "cvs_testScores_raw_df.head(2)"
   ]
  },
  {
   "cell_type": "code",
   "execution_count": 14,
   "metadata": {
    "Collapsed": "false"
   },
   "outputs": [
    {
     "data": {
      "text/html": [
       "<div>\n",
       "<style scoped>\n",
       "    .dataframe tbody tr th:only-of-type {\n",
       "        vertical-align: middle;\n",
       "    }\n",
       "\n",
       "    .dataframe tbody tr th {\n",
       "        vertical-align: top;\n",
       "    }\n",
       "\n",
       "    .dataframe thead th {\n",
       "        text-align: right;\n",
       "    }\n",
       "</style>\n",
       "<table border=\"1\" class=\"dataframe\">\n",
       "  <thead>\n",
       "    <tr style=\"text-align: right;\">\n",
       "      <th></th>\n",
       "      <th>corpus</th>\n",
       "      <th>feat_combo</th>\n",
       "      <th>value</th>\n",
       "    </tr>\n",
       "  </thead>\n",
       "  <tbody>\n",
       "    <tr>\n",
       "      <th>0</th>\n",
       "      <td>twitr</td>\n",
       "      <td>l</td>\n",
       "      <td>0.660633</td>\n",
       "    </tr>\n",
       "    <tr>\n",
       "      <th>1</th>\n",
       "      <td>twitr</td>\n",
       "      <td>l</td>\n",
       "      <td>0.719457</td>\n",
       "    </tr>\n",
       "  </tbody>\n",
       "</table>\n",
       "</div>"
      ],
      "text/plain": [
       "  corpus feat_combo     value\n",
       "0  twitr          l  0.660633\n",
       "1  twitr          l  0.719457"
      ]
     },
     "execution_count": 14,
     "metadata": {},
     "output_type": "execute_result"
    }
   ],
   "source": [
    "# Prepare a long form of the DF for plotting.\n",
    "cvs_testScores_raw_long_df = cvs_testScores_raw_df.stack().reset_index(level=-1, drop=True).rename('value').reset_index()\n",
    "cvs_testScores_raw_long_df.head(2)"
   ]
  },
  {
   "cell_type": "code",
   "execution_count": 15,
   "metadata": {
    "Collapsed": "false"
   },
   "outputs": [
    {
     "data": {
      "image/png": "[encoded data removed]",
      "text/plain": [
       "<Figure size 576x396 with 1 Axes>"
      ]
     },
     "metadata": {},
     "output_type": "display_data"
    }
   ],
   "source": [
    "# Plot.\n",
    "\n",
    "df = cvs_testScores_raw_long_df.rename(columns={\n",
    "    'feat_combo': \"Feature Combination\",\n",
    "    'value': 'Test Score',\n",
    "    'corpus': 'Corpus',\n",
    "})\n",
    "df['Corpus'] = df['Corpus'].map({\n",
    "    'weibo': 'Weibo',\n",
    "    'twitr': 'Twitter',\n",
    "})\n",
    "df['Feature Combination'] = df['Feature Combination'].apply(renameFeatCombos)\n",
    "\n",
    "testScores_avgedAcrossCorpora = cvs_testScores_df.reset_index().groupby('feat_combo')['mean_test_score'].mean()\n",
    "order_of_featCombos = testScores_avgedAcrossCorpora.sort_values().index.to_series().apply(renameFeatCombos)\n",
    "\n",
    "ax = sns.violinplot(\n",
    "    data=df, \n",
    "    x='Feature Combination', \n",
    "    y='Test Score', \n",
    "    hue='Corpus', \n",
    "    split=True, \n",
    "    inner='stick', \n",
    "    hue_order=['Weibo', 'Twitter'],\n",
    "    order=order_of_featCombos,\n",
    ")\n",
    "\n",
    "plt.xlabel(\"Feature Combination\")\n",
    "plt.ylabel(\"Test Score\")\n",
    "plt.title('Test scores Across 5 folds of cross validation\\n(broken down by combination of feature sets and corpus)\\n(x-axis sorted by mean value)')\n",
    "plt.savefig(f'weibo+twitr_{NUM_POSTS}Each{\"\" if IF_SUBSAMPLE_TO_QUARTILES else \"_noQuartileFiltering\"}.png')\n",
    "plt.show()"
   ]
  },
  {
   "cell_type": "markdown",
   "metadata": {
    "Collapsed": "false"
   },
   "source": [
    "### Get Classification Report\n",
    "`GridSearchCV` does not provide F1 Score nor ROCAUC. Here, we use all posts as test sample. In other words, we are not distinguishing test samples from training samples (is this a good idea?)."
   ]
  },
  {
   "cell_type": "code",
   "execution_count": 16,
   "metadata": {
    "Collapsed": "false"
   },
   "outputs": [],
   "source": [
    "from joblib import load\n",
    "cvs = load(f'cvs{\"\" if IF_SUBSAMPLE_TO_QUARTILES else \"_noQuartileFiltering\"}.joblib')"
   ]
  },
  {
   "cell_type": "code",
   "execution_count": 17,
   "metadata": {
    "Collapsed": "false"
   },
   "outputs": [],
   "source": [
    "if 's' not in cvs['twitr']:\n",
    "    twitr_stfd_cv = trainCv(\n",
    "        initials=('s',),\n",
    "        initial2vecsDf=corpus_to_feats_and_labels['twitr']['feats'], \n",
    "        labels=corpus_to_feats_and_labels['twitr']['labels'], \n",
    "        pbar=tqdm,\n",
    "    )\n",
    "    cvs['twitr']['s'] = twitr_stfd_cv"
   ]
  },
  {
   "cell_type": "code",
   "execution_count": 18,
   "metadata": {
    "Collapsed": "false"
   },
   "outputs": [],
   "source": [
    "#accuracies = pd.DataFrame.from_dict(scores, orient='index').sort_values('accuracy', ascending=False).accuracy\n",
    "from sklearn.metrics import roc_auc_score, accuracy_score\n",
    "\n",
    "def getClassificationReport(y_hat, y_test, name=''):\n",
    "    _ = classification_report(y_true=y_test, y_pred=y_hat, target_names=['rude', 'polite'], output_dict=True)\n",
    "    _ = pd.DataFrame(_).drop('support').reset_index().rename(columns={'index': 'metric'}).assign(\n",
    "        model=name).set_index(['model', 'metric'])['weighted avg'].unstack()\n",
    "    return _.assign(ROCAUC   = roc_auc_score(y_true=y_test, y_score=y_hat, average='weighted'),\n",
    "                    Accuracy = accuracy_score(y_true=y_test, y_pred=y_hat))\n",
    "\n",
    "def getClassificationReportForAllCvs(cvs):\n",
    "    for corpus, cvs_thisCorpus in cvs.items():\n",
    "        initial2vecsDf = corpus_to_feats_and_labels[corpus]['feats']\n",
    "        y = corpus_to_feats_and_labels[corpus]['labels']\n",
    "        for acronym, cv_thisCombo in cvs_thisCorpus.items():\n",
    "            # Take the best-performing estimator of this combination of corpus and feature set.\n",
    "            estimator = cv_thisCombo.best_estimator_\n",
    "\n",
    "            X = getFeatureSet(initial2vecsDf, acronym)\n",
    "            y_hat = estimator.predict(X)\n",
    "\n",
    "            result = getClassificationReport(y, y_hat).assign(\n",
    "                corpus=corpus,\n",
    "                acronym=acronym,\n",
    "            )\n",
    "            yield result\n",
    "\n",
    "df = pd.concat(list(getClassificationReportForAllCvs(cvs)))\n",
    "df['corpus'] = df['corpus'].apply(renameCorpus)\n",
    "df['acronym'] = df['acronym'].apply(renameFeatCombos)\n",
    "df['acronym'] = df['acronym'].str.replace('\\n', ' ')\n",
    "df.rename(columns={'corpus': 'Corpus', 'acronym': 'Feature Combination'}, inplace=True)\n",
    "df.set_index(['Corpus', 'Feature Combination'], inplace=True)"
   ]
  },
  {
   "cell_type": "code",
   "execution_count": 19,
   "metadata": {
    "Collapsed": "false"
   },
   "outputs": [
    {
     "data": {
      "text/html": [
       "<div>\n",
       "<style scoped>\n",
       "    .dataframe tbody tr th:only-of-type {\n",
       "        vertical-align: middle;\n",
       "    }\n",
       "\n",
       "    .dataframe tbody tr th {\n",
       "        vertical-align: top;\n",
       "    }\n",
       "\n",
       "    .dataframe thead th {\n",
       "        text-align: right;\n",
       "    }\n",
       "</style>\n",
       "<table border=\"1\" class=\"dataframe\">\n",
       "  <thead>\n",
       "    <tr style=\"text-align: right;\">\n",
       "      <th></th>\n",
       "      <th>metric</th>\n",
       "      <th>f1-score</th>\n",
       "      <th>precision</th>\n",
       "      <th>recall</th>\n",
       "      <th>ROCAUC</th>\n",
       "      <th>Accuracy</th>\n",
       "    </tr>\n",
       "    <tr>\n",
       "      <th>Corpus</th>\n",
       "      <th>Feature Combination</th>\n",
       "      <th></th>\n",
       "      <th></th>\n",
       "      <th></th>\n",
       "      <th></th>\n",
       "      <th></th>\n",
       "    </tr>\n",
       "  </thead>\n",
       "  <tbody>\n",
       "    <tr>\n",
       "      <th rowspan=\"8\" valign=\"top\">Twitter</th>\n",
       "      <th>LIWC</th>\n",
       "      <td>0.754796</td>\n",
       "      <td>0.760717</td>\n",
       "      <td>0.753962</td>\n",
       "      <td>0.757440</td>\n",
       "      <td>0.753962</td>\n",
       "    </tr>\n",
       "    <tr>\n",
       "      <th>EmoLex</th>\n",
       "      <td>0.599518</td>\n",
       "      <td>0.659142</td>\n",
       "      <td>0.583019</td>\n",
       "      <td>0.597928</td>\n",
       "      <td>0.583019</td>\n",
       "    </tr>\n",
       "    <tr>\n",
       "      <th>PoliteLex</th>\n",
       "      <td>0.720576</td>\n",
       "      <td>0.748578</td>\n",
       "      <td>0.715849</td>\n",
       "      <td>0.730968</td>\n",
       "      <td>0.715849</td>\n",
       "    </tr>\n",
       "    <tr>\n",
       "      <th>Stanford Features</th>\n",
       "      <td>0.660993</td>\n",
       "      <td>0.665824</td>\n",
       "      <td>0.660000</td>\n",
       "      <td>0.661886</td>\n",
       "      <td>0.660000</td>\n",
       "    </tr>\n",
       "    <tr>\n",
       "      <th>LIWC + EmoLex</th>\n",
       "      <td>0.760194</td>\n",
       "      <td>0.767093</td>\n",
       "      <td>0.759245</td>\n",
       "      <td>0.763379</td>\n",
       "      <td>0.759245</td>\n",
       "    </tr>\n",
       "    <tr>\n",
       "      <th>LIWC + PoliteLex</th>\n",
       "      <td>0.772179</td>\n",
       "      <td>0.778795</td>\n",
       "      <td>0.771321</td>\n",
       "      <td>0.775438</td>\n",
       "      <td>0.771321</td>\n",
       "    </tr>\n",
       "    <tr>\n",
       "      <th>EmoLex + PoliteLex</th>\n",
       "      <td>0.721548</td>\n",
       "      <td>0.750896</td>\n",
       "      <td>0.716604</td>\n",
       "      <td>0.732553</td>\n",
       "      <td>0.716604</td>\n",
       "    </tr>\n",
       "    <tr>\n",
       "      <th>LIWC + EmoLex + PoliteLex</th>\n",
       "      <td>0.767826</td>\n",
       "      <td>0.775614</td>\n",
       "      <td>0.766792</td>\n",
       "      <td>0.771584</td>\n",
       "      <td>0.766792</td>\n",
       "    </tr>\n",
       "    <tr>\n",
       "      <th rowspan=\"7\" valign=\"top\">Weibo</th>\n",
       "      <th>LIWC</th>\n",
       "      <td>0.728826</td>\n",
       "      <td>0.746189</td>\n",
       "      <td>0.726038</td>\n",
       "      <td>0.735530</td>\n",
       "      <td>0.726038</td>\n",
       "    </tr>\n",
       "    <tr>\n",
       "      <th>EmoLex</th>\n",
       "      <td>0.597479</td>\n",
       "      <td>0.777340</td>\n",
       "      <td>0.532075</td>\n",
       "      <td>0.562958</td>\n",
       "      <td>0.532075</td>\n",
       "    </tr>\n",
       "    <tr>\n",
       "      <th>PoliteLex</th>\n",
       "      <td>0.779082</td>\n",
       "      <td>0.804288</td>\n",
       "      <td>0.775849</td>\n",
       "      <td>0.792485</td>\n",
       "      <td>0.775849</td>\n",
       "    </tr>\n",
       "    <tr>\n",
       "      <th>LIWC + EmoLex</th>\n",
       "      <td>0.743334</td>\n",
       "      <td>0.760454</td>\n",
       "      <td>0.740755</td>\n",
       "      <td>0.750629</td>\n",
       "      <td>0.740755</td>\n",
       "    </tr>\n",
       "    <tr>\n",
       "      <th>LIWC + PoliteLex</th>\n",
       "      <td>0.803394</td>\n",
       "      <td>0.823620</td>\n",
       "      <td>0.801132</td>\n",
       "      <td>0.815314</td>\n",
       "      <td>0.801132</td>\n",
       "    </tr>\n",
       "    <tr>\n",
       "      <th>EmoLex + PoliteLex</th>\n",
       "      <td>0.777894</td>\n",
       "      <td>0.805354</td>\n",
       "      <td>0.774340</td>\n",
       "      <td>0.792482</td>\n",
       "      <td>0.774340</td>\n",
       "    </tr>\n",
       "    <tr>\n",
       "      <th>LIWC + EmoLex + PoliteLex</th>\n",
       "      <td>0.804277</td>\n",
       "      <td>0.822415</td>\n",
       "      <td>0.802264</td>\n",
       "      <td>0.814958</td>\n",
       "      <td>0.802264</td>\n",
       "    </tr>\n",
       "  </tbody>\n",
       "</table>\n",
       "</div>"
      ],
      "text/plain": [
       "metric                             f1-score  precision    recall    ROCAUC  \\\n",
       "Corpus  Feature Combination                                                  \n",
       "Twitter LIWC                       0.754796   0.760717  0.753962  0.757440   \n",
       "        EmoLex                     0.599518   0.659142  0.583019  0.597928   \n",
       "        PoliteLex                  0.720576   0.748578  0.715849  0.730968   \n",
       "        Stanford Features          0.660993   0.665824  0.660000  0.661886   \n",
       "        LIWC + EmoLex              0.760194   0.767093  0.759245  0.763379   \n",
       "        LIWC + PoliteLex           0.772179   0.778795  0.771321  0.775438   \n",
       "        EmoLex + PoliteLex         0.721548   0.750896  0.716604  0.732553   \n",
       "        LIWC + EmoLex + PoliteLex  0.767826   0.775614  0.766792  0.771584   \n",
       "Weibo   LIWC                       0.728826   0.746189  0.726038  0.735530   \n",
       "        EmoLex                     0.597479   0.777340  0.532075  0.562958   \n",
       "        PoliteLex                  0.779082   0.804288  0.775849  0.792485   \n",
       "        LIWC + EmoLex              0.743334   0.760454  0.740755  0.750629   \n",
       "        LIWC + PoliteLex           0.803394   0.823620  0.801132  0.815314   \n",
       "        EmoLex + PoliteLex         0.777894   0.805354  0.774340  0.792482   \n",
       "        LIWC + EmoLex + PoliteLex  0.804277   0.822415  0.802264  0.814958   \n",
       "\n",
       "metric                             Accuracy  \n",
       "Corpus  Feature Combination                  \n",
       "Twitter LIWC                       0.753962  \n",
       "        EmoLex                     0.583019  \n",
       "        PoliteLex                  0.715849  \n",
       "        Stanford Features          0.660000  \n",
       "        LIWC + EmoLex              0.759245  \n",
       "        LIWC + PoliteLex           0.771321  \n",
       "        EmoLex + PoliteLex         0.716604  \n",
       "        LIWC + EmoLex + PoliteLex  0.766792  \n",
       "Weibo   LIWC                       0.726038  \n",
       "        EmoLex                     0.532075  \n",
       "        PoliteLex                  0.775849  \n",
       "        LIWC + EmoLex              0.740755  \n",
       "        LIWC + PoliteLex           0.801132  \n",
       "        EmoLex + PoliteLex         0.774340  \n",
       "        LIWC + EmoLex + PoliteLex  0.802264  "
      ]
     },
     "execution_count": 19,
     "metadata": {},
     "output_type": "execute_result"
    }
   ],
   "source": [
    "df.to_csv(f'weibo+twitr_{NUM_POSTS}Each{\"\" if IF_SUBSAMPLE_TO_QUARTILES else \"_noQuartileFiltering\"}_clf_report_df.csv')\n",
    "df"
   ]
  },
  {
   "cell_type": "code",
   "execution_count": 20,
   "metadata": {
    "Collapsed": "false"
   },
   "outputs": [
    {
     "name": "stdout",
     "output_type": "stream",
     "text": [
      "\n",
      "\\begin{tabular}{|l|l|r|r|r|r|r|}\n",
      "\\hline\n",
      "Corpus       &   Feature Set     &          F1 &    Precision &    Recall &    ROCAUC & Accuracy \\tabularnewline\\hline\\hline\n",
      "\\multirow{6}{*}{Twitter} & LIWC &    $0.755$ &     $0.761$ &   $0.754$ &   $0.757$ &    $0.754$  \\tabularnewline\\cline{2-7}\n",
      "      & EmoLex &      0.6 &     $0.659$ &   $0.583$ &   $0.598$ &    $0.583$  \\tabularnewline\\cline{2-7}\n",
      "      & PoliteLex &    $0.721$ &     $0.749$ &   $0.716$ &   $0.731$ &    $0.716$  \\tabularnewline\\cline{2-7}\n",
      "      & Stanford Features &    $0.661$ &     $0.666$ &    $0.66$ &   $0.662$ &     $0.66$  \\tabularnewline\\cline{2-7}\n",
      "      & LIWC + EmoLex &     $0.76$ &     $0.767$ &   $0.759$ &   $0.763$ &    $0.759$  \\tabularnewline\\cline{2-7}\n",
      "      & LIWC + PoliteLex &   $\\textbf{0.772}$ &    $\\textbf{0.779}$ &  $\\textbf{0.771}$ &  $\\textbf{0.775}$ &   $\\textbf{0.771}$  \\tabularnewline\\cline{2-7}\n",
      "      & EmoLex + PoliteLex &    $0.722$ &     $0.751$ &   $0.717$ &   $0.733$ &    $0.717$  \\tabularnewline\\cline{2-7}\n",
      "      & LIWC + EmoLex + PoliteLex &    $0.768$ &     $0.776$ &   $0.767$ &   $0.772$ &    $0.767$  \\tabularnewline\\hline\\hline\n",
      "\\multirow{6}{*}{Weibo} & LIWC &    $0.729$ &     $0.746$ &   $0.726$ &   $0.736$ &    $0.726$  \\tabularnewline\\cline{2-7}\n",
      "      & EmoLex &    $0.597$ &     $0.777$ &   $0.532$ &   $0.563$ &    $0.532$  \\tabularnewline\\cline{2-7}\n",
      "      & PoliteLex &    $0.779$ &     $0.804$ &   $0.776$ &   $0.792$ &    $0.776$  \\tabularnewline\\cline{2-7}\n",
      "      & LIWC + EmoLex &    $0.743$ &      $0.76$ &   $0.741$ &   $0.751$ &    $0.741$  \\tabularnewline\\cline{2-7}\n",
      "      & LIWC + PoliteLex &    $0.803$ &    $\\textbf{0.824}$ &   $0.801$ &  $\\textbf{0.815}$ &    $0.801$  \\tabularnewline\\cline{2-7}\n",
      "      & EmoLex + PoliteLex &    $0.778$ &     $0.805$ &   $0.774$ &   $0.792$ &    $0.774$  \\tabularnewline\\cline{2-7}\n",
      "      & LIWC + EmoLex + PoliteLex &   $\\textbf{0.804}$ &     $0.822$ &  $\\textbf{0.802}$ &   $0.815$ &   $\\textbf{0.802}$  \\tabularnewline\\hline\n",
      "\\end{tabular}\n",
      "\n"
     ]
    }
   ],
   "source": [
    "# Compile to LaTeX:\n",
    "l = df.round(3)\n",
    "\n",
    "def highlightMaxValsForEachColForACorpus(sub_df):\n",
    "    \"\"\"prepends a `*`.\"\"\"\n",
    "    for metric, combo in sub_df.idxmax().iteritems():\n",
    "        sub_df.loc[combo, metric] = f\"*{sub_df.loc[combo, metric]}\"\n",
    "    return sub_df\n",
    "l = l.reset_index('Corpus').groupby('Corpus').apply(highlightMaxValsForEachColForACorpus)\n",
    "l.index = df.index\n",
    "\n",
    "# Remove the default header (4 lines).\n",
    "l = '\\n'.join(l.to_latex().split('\\n')[5:])\n",
    "\n",
    "# Replace linebreak.\n",
    "l = l.replace(r' \\\\', r'  \\tabularnewline\\cline{2-7}')\n",
    "\n",
    "# Change top and bottom lines.\n",
    "l = l.replace(r'\\toprule', '').replace(r'\\midrule', '')\n",
    "l = l.replace(r'\\bottomrule', '')#.replace('0.', '$0.').replace(' &', '$ &')\n",
    "\n",
    "# Add my own header.\n",
    "l = '''\n",
    "\\\\begin{tabular}{|l|l|r|r|r|r|r|}\n",
    "\\hline\n",
    "Corpus       &   Feature Set     &          F1 &    Precision &    Recall &    ROCAUC & Accuracy \\\\tabularnewline\\hline\\hline\n",
    "'''+l\n",
    "\n",
    "import re\n",
    "\n",
    "# Surround numbers with `$`.\n",
    "l = re.sub(r'(\\*?0.\\d{2,3})', r'$\\1$', l)\n",
    "\n",
    "# Convert asterisk to `\\textbf{...}`.\n",
    "l = re.sub(r'\\*(0.\\d{2,3})', r'\\\\textbf{\\1}', l)\n",
    "\n",
    "# Set up multirow.\n",
    "l = l.replace('Twitter', '\\multirow{6}{*}{Twitter}')\n",
    "l = re.sub(r'\\\\cline{2-7}\\nWeibo', r'\\\\hline\\\\hline\\n\\\\multirow{6}{*}{Weibo}', l)\n",
    "l = re.sub(r'\\\\cline{2-7}\\s*\\\\end{tabular}$', r'\\\\hline\\n\\\\end{tabular}', l)\n",
    "\n",
    "print(l)\n"
   ]
  }
 ],
 "metadata": {
  "kernelspec": {
   "display_name": "Python 3",
   "language": "python",
   "name": "python3"
  },
  "language_info": {
   "codemirror_mode": {
    "name": "ipython",
    "version": 3
   },
   "file_extension": ".py",
   "mimetype": "text/x-python",
   "name": "python",
   "nbconvert_exporter": "python",
   "pygments_lexer": "ipython3",
   "version": "3.7.5"
  },
  "toc-autonumbering": true
 },
 "nbformat": 4,
 "nbformat_minor": 4
}
